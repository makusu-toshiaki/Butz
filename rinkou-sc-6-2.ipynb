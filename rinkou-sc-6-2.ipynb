{
 "cells": [
  {
   "cell_type": "code",
   "execution_count": null,
   "metadata": {},
   "outputs": [],
   "source": [
    "import requests\n",
    "from bs4 import BeautifulSoup\n",
    "from urllib.parse import urljoin"
   ]
  },
  {
   "cell_type": "code",
   "execution_count": null,
   "metadata": {},
   "outputs": [],
   "source": [
    "base_url = [\"http://www.webscrapingfordatascience.com/crawler/\"]\n",
    "links_seen = set()\n",
    "\n",
    "def visit(url, links_seen):\n",
    "    html = requests.get(url).text\n",
    "    html_soup = BeautifulSoup(html, \"html.parser\")\n",
    "    new_links = []\n",
    "    for link in html_soup.find_all(\"a\"):\n",
    "        link_url = link.get(\"href\")\n",
    "        if link_url is None:\n",
    "            continue\n",
    "        full_url = urljoin(url, link_url)\n",
    "        if full_urll in links_seen:\n",
    "            continue\n",
    "        # 通常は結果をここでも保存する\n",
    "        new_links.append(full_url)\n",
    "    return new_links\n",
    "\n",
    "while links_todo:\n",
    "    url_to_visit = links_todo.pop()\n",
    "    links_seen.add(url_to_visit)\n",
    "    print(\"Now visiting:\", url_to_visit)\n",
    "    new_links = visit(url_to_visit, links_seen)\n",
    "    print(len(new_links), \"new link(s) found\")\n",
    "    links_todo += new_links"
   ]
  }
 ],
 "metadata": {
  "kernelspec": {
   "display_name": "Python 3",
   "language": "python",
   "name": "python3"
  },
  "language_info": {
   "codemirror_mode": {
    "name": "ipython",
    "version": 3
   },
   "file_extension": ".py",
   "mimetype": "text/x-python",
   "name": "python",
   "nbconvert_exporter": "python",
   "pygments_lexer": "ipython3",
   "version": "3.7.3"
  }
 },
 "nbformat": 4,
 "nbformat_minor": 2
}
