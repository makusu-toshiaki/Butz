{
 "cells": [
  {
   "cell_type": "code",
   "execution_count": 77,
   "metadata": {
    "ExecuteTime": {
     "end_time": "2019-05-15T07:40:54.912614Z",
     "start_time": "2019-05-15T07:40:54.908243Z"
    }
   },
   "outputs": [],
   "source": [
    "import requests\n",
    "import re\n",
    "from bs4 import BeautifulSoup"
   ]
  },
  {
   "cell_type": "code",
   "execution_count": 113,
   "metadata": {
    "ExecuteTime": {
     "end_time": "2019-05-15T08:52:59.443547Z",
     "start_time": "2019-05-15T08:52:23.597355Z"
    }
   },
   "outputs": [
    {
     "name": "stdout",
     "output_type": "stream",
     "text": [
      "{'link': 'https://raw.githubusercontent.com/ESWAT/john-carmack-plan-archive/master/by_day/johnc_plan_19960802.txt', 'title': 'John Carmack on QuakeWorld latency and business model (1996)', 'score': '225 points', 'comments': [{'hellofunk': 'no comments'}]}\n",
      "{'link': 'https://www.nytimes.com/2019/05/14/business/boeing-737-max-ethiopian-plane-crash.html', 'title': 'Boeing Resisted Pilots’ Calls for Aggressive Steps on 737 Max', 'score': '395 points', 'comments': [{'gimli9500': 'no comments'}]}\n",
      "{'link': 'https://github.com/stewartmcgown/uds', 'title': 'Unlimited Google Drive storage by splitting binary files into base64', 'score': '248 points', 'comments': [{'booleandilemma': 'no comments'}]}\n",
      "{'link': 'https://material.io/design/color/dark-theme.html', 'title': 'Material Design Guidelines for Dark Mode', 'score': '100 points', 'comments': [{'simplesleeper': 'Reds should be used instead of neon colours, to preserve night vision'}]}\n",
      "{'link': 'https://www.nytimes.com/2019/05/14/business/economy/nlrb-uber-drivers-contractors.html', 'title': 'Uber Drivers Are Contractors, Not Employees, Labor Board Says', 'score': '241 points', 'comments': [{'thrower123': 'no comments'}]}\n",
      "{'link': 'https://krebsonsecurity.com/2019/05/microsoft-patches-wormable-flaw-in-windows-xp-7-and-windows-2003/', 'title': 'Microsoft Patches ‘Wormable’ Flaw in Windows XP, 7 and Windows 2003', 'score': '71 points', 'comments': [{'sagebird': 'What if you managed a non-EOL OS, like Windows 10, but you had inside information that there were multiple active ongoing exploits? You might say you would disconnect them from the internet. But I think it comes down to blame. No one would blame you if Win10 computers were connected to the internet and were exploited. But people _would_ blame you if they were XP. I think this pretty much explains how people think about these choices.'}]}\n",
      "{'link': 'https://www.japantimes.co.jp/news/2019/05/14/national/japan-plans-create-10-billion-14-digit-phone-numbers-5g-era-approaching/', 'title': 'Japan plans to create 10B 14-digit phone numbers with 5G era approaching', 'score': '28 points', 'comments': [{'lostmsu': \"Can't we use email addresses instead?\"}]}\n",
      "{'link': 'https://nvd.nist.gov/vuln/detail/CVE-2019-1804', 'title': 'Cisco Nexus 9000 Switches Allow SSH As Root', 'score': '169 points', 'comments': [{'GalacticDomin8r': 'no comments'}]}\n",
      "{'link': 'https://www.japantimes.co.jp/community/2019/05/12/voices/memoirs-japanese-internet-cafe/', 'title': 'Memoirs from a Japanese Internet Cafe', 'score': '36 points', 'comments': [{'ezconnect': 'In South Korea the bath place is the cheapest place to crash.  Popular to locals and tourist needing cheap place to sleep for the night.'}]}\n",
      "{'link': 'https://www.smartbrief.com/original/2019/05/americas-loneliness-epidemic-hidden-systemic-risk-organizations', 'title': \"America's loneliness epidemic: A systemic risk to organizations\", 'score': '225 points', 'comments': [{'mistermann': 'Many things in life \"could be\" true, but with things such as this (human psychology related), it often takes very long time periods before the truth begins to show itself.  This would be my reason for considering these major social changes as potentially bad, and certainly worthy of concern/attention/discussion.'}]}\n",
      "{'link': 'https://datawhatnow.com/things-you-are-probably-not-using-in-python-3-but-should/', 'title': 'Things to use in Python 3', 'score': '254 points', 'comments': [{'nerdwaller': \"Guido had a good retrospective on the shift, while the change was hard and painful, it needed to happen for the language to be easier to work with longer term.If you're interested it's worth a watch: https://www.youtube.com/watch?v=Oiw23yfqQy8\"}]}\n",
      "{'link': 'https://www.nytimes.com/2019/05/14/opinion/dont-visit-your-doctor-in-the-afternoon.html', 'title': 'Doctors and decision fatigue', 'score': '76 points', 'comments': [{'doc_gunthrop': \"Where would one be able to find out what these countermeasures are? Unless you're involved with the operation of HN, how would you know?\"}]}\n",
      "{'link': 'https://www.mcnutt.in/forum-explorer/', 'title': 'FeX: Forum Explorer – Rethinking how we interact with threaded conversations', 'score': '199 points', 'comments': [{'ventedfins': 'The demo page (which is linked above) should transform those loading message into a list of threads you can click into. Would you mind filing a bug over on https://github.com/mcnuttandrew/forum-explorer ?'}]}\n",
      "{'link': 'http://nautil.us/blog/the-english-word-that-hasnt-changed-in-sound-or-meaning-in-8000-years', 'title': \"The word “lox” hasn't changed in sound or meaning in 8k years\", 'score': '151 points', 'comments': [{'eridius': 'Neither of those match the rather unsurprising answer I\\'ve heard before, which is that \"mama\" and \"papa\" are two of the simplest sounds babies can make and therefore two of the sounds babies are most likely to start making first as they learn to speak. And us parents naturally assume the baby is trying to talk to us when they start making sounds, so we latched onto \"mama\" and \"papa\" (or the various extremely similar sounds in other languages) as being the words the baby was using to refer to us.'}]}\n",
      "{'link': 'https://www.bloomberg.com/news/articles/2019-05-14/the-mighty-pea-is-everybody-s-new-favorite-plant-based-protein', 'title': 'The food industry’s new favorite protein source: peas', 'score': '86 points', 'comments': [{'coldtea': 'no comments'}]}\n",
      "{'link': 'https://about.gitlab.com/2019/05/14/git-ransom-campaign-incident-report-atlassian-bitbucket-github-gitlab/', 'title': 'Git ransom campaign incident report', 'score': '142 points', 'comments': [{'jedberg': 'no comments'}]}\n",
      "{'link': 'https://www.cyberus-technology.de/posts/2019-05-14-zombieload.html', 'title': 'ZombieLoad: Cross Privilege-Boundary Data Leakage on Intel CPUs', 'score': '699 points', 'comments': [{'robotresearcher': 'no comments'}]}\n",
      "{'link': 'https://mauijacaranda.com/', 'title': 'I made a website about the jacaranda trees of Maui, Hawaii', 'score': '35 points', 'comments': [{'hoektoe': 'Was wondering how this came up on HN, then I saw all the South African comments.'}]}\n",
      "{'link': 'https://phys.org/news/2019-05-catapulting-spider-web-prey.html', 'title': 'Catapulting spider winds up web to launch itself at prey', 'score': '14 points', 'comments': [{'beautifulfreak': \"Here's a video https://www.youtube.com/watch?v=XiP2IcE-c5A\"}]}\n",
      "{'link': 'https://www.flightjournal.com/wp-content/uploads/2011/12/wing-tip.qxd_.pdf', 'title': 'Wingtip Coupling at 15,000 Feet (2000) [pdf]', 'score': '11 points', 'comments': [{'londons_explore': \"Sure, there is innovation, it's just on a different scale.  Back then, people were hooking up different types of engine just to see if they could.  Now an anti-reflective windscreen coating would involve lots of meetings and paperwork...It's changed from 'wild west' to 'dont do anything that might be dangerous'.Our taste for innovation Vs safety has swung dramatically.\"}]}\n",
      "{'link': 'https://www.vox.com/the-goods/2019/5/8/18537279/chum-box-weird-sponsored-links-gut-doctor', 'title': 'A journey through internet garbage', 'score': '45 points', 'comments': [{'nerdile': 'Followed by a bunch of garbage outbrain ads, which, for me, were all weird game of thrones links today.'}]}\n",
      "{'link': 'https://yuanchuan.dev/2019/05/15/window-lattice-and-css.html', 'title': 'Chinese Window Lattice and CSS', 'score': '72 points', 'comments': [{'foxfired': \"If I have to guess, maybe this wasn't accepted because if you nest your elements wrong, you could easily eat up all your CPU cycles.\"}]}\n",
      "{'link': 'https://localbabysitter.com/netflix-saves-our-kids-from-up-to-400-hours-of-commercials-a-year/', 'title': 'Netflix Saves Kids from Up to 400 Hours of Commercials a Year', 'score': '588 points', 'comments': [{'moate': 'I mean \"mean\" parents, not median parents. Sure, there\\'s no-screen policy parents, but those feel (citation needed!) like a less common occurrence than \"some\" or \"unrestricted\" screen parents.If no-screen parents only represent 10% of the total population, they\\'re not going to do as much pulling the number down as you might think. There\\'s no way there\\'s an equal distribution on this stuff among between \"none\" and \"some\" so they won\\'t weight as heavily towards lowering the curve. Also, it\\'s a pretty wide age range. What people allow a 2 year old vs a 5 year old to do/consume is a world apart.There\\'s all sorts of things that go into it. I agree, without deep diving into methodology, these numbers are a whole lot of \"but what does this actually MEAN\"?'}]}\n",
      "{'link': 'https://ejb.github.io/2018/06/03/interactives.html', 'title': 'What interactives can do that articles can’t (2018)', 'score': '23 points', 'comments': []}\n",
      "{'link': 'https://med.stanford.edu/news/all-news/2019/05/blocking-protein-curbs-memory-loss-in-old-mice.html', 'title': 'Blocking a protein curbs memory loss in old mice: study', 'score': '85 points', 'comments': []}\n",
      "{'link': 'https://shafik.github.io/c++/undefined%20behavior/2019/05/11/explporing_undefined_behavior_using_constexpr.html', 'title': 'Exploring undefined behavior using constexpr', 'score': '8 points', 'comments': [{'hellofunk': ' I’ve recently been writing just pure C and have been surprised by how much I enjoy it. There are so many things about C++ that have remained confusing to me, even though I’ve used it extensively over the years and have a lot of respect for the language. But the simplicity not having to wrap my head around all kinds of bizarre concepts that still confuse me in C++, I must say it’s been a bit liberating of a feeling.'}]}\n",
      "{'link': 'http://people.maths.ox.ac.uk/trefethen/honours.html', 'title': \"Matlab's First Customer\", 'score': '45 points', 'comments': [{'throw20102010': 'no comments'}]}\n",
      "{'link': 'https://phys.org/news/2019-05-ancient-ritual-bundle-multiple-psychotropic.html', 'title': 'Ancient ritual bundle contained multiple psychotropic plants', 'score': '56 points', 'comments': [{'XaoDaoCaoCao': 'Sounds like a fun time.>So basically your average burning man tentMaybe. But did the user of this have to deal with similar levels of noise and of density of people (never been to Burning Man btw)?My \"experience\" has mostly been around quiet areas or with a friend in a room/home. The heart already gets a race just doing nothing, being in a dense communal environment sounds hellish on such substances.'}]}\n",
      "{'link': 'https://www.campaignlive.co.uk/article/spinning-yarn/1583953', 'title': 'Spinning a Yarn', 'score': '27 points', 'comments': [{'aoki': 'The chapter in The Invention of Tradition (there are PDFs of the book online if you\\'re interested in the topic) is about the efforts by Scottish nationalists over the century prior to the Allens to establish the idea of kilts and clan tartans (and efforts by historians against these ideas - the author of the chapter points to a 1940 book by McClintock as making the case \"conclusively\"). Clan tartans were not, as represented in the article, \"all made up in 1829 by two brothers from Surrey\" - the Allens were popularizers, not the origin of the idea.I mention this because I think that the whole idea of political \"invention of tradition,\" while it has lost currency because it seems to reflect poorly on anti-colonial nationalist movements, is far more interesting than that of \"random people making up stories for gain.\"'}]}\n"
     ]
    }
   ],
   "source": [
    "articles = []\n",
    "user_comments = []\n",
    "url = \"https://news.ycombinator.com/news\"\n",
    "\n",
    "r = requests.get(url)\n",
    "html_soup= BeautifulSoup(r.text, \"html.parser\")\n",
    "\n",
    "for item in html_soup.find_all(\"tr\", class_=\"athing\"):\n",
    "    item_a = item.find(\"a\", class_=\"storylink\")\n",
    "    item_link= item_a.get(\"href\") if item_a else None\n",
    "    item_text = item_a.get_text(strip=True) if item_a else None\n",
    "    next_row = item.find_next_sibling(\"tr\")\n",
    "    item_score = next_row.find(\"span\", class_=\"score\")\n",
    "    item_score = item_score.get_text(strip=True) if item_score else \"0 points\"\n",
    "    # ここではregexを使って正しい要素を見つける\n",
    "    item_comments = next_row.find(\"a\",text=re.compile(\"\\d+(&nbsp;|\\s)comment(s?)\"))\n",
    "    \n",
    "    if item_comments:\n",
    "        comments_link= item_comments.get(\"href\")\n",
    "        item_comments = item_comments.get_text(strip=True).replace(\"\\xa0\", \" \") if item_comments else \"0 comments\"\n",
    "#     print(re.sub(\"news$\",comments_link,url)) # 課題1\n",
    "        new_url = re.sub(\"news$\",comments_link,url)\n",
    "\n",
    "        new_r = requests.get(new_url)\n",
    "        new_html_soup = BeautifulSoup(new_r.text, \"html.parser\")\n",
    "\n",
    "        for user in new_html_soup.find_all(\"td\", \"default\"):\n",
    "            user_id = user.find(\"a\", class_=\"hnuser\").text\n",
    "            \n",
    "            span_comments = user.find(\"span\", class_=\"commtext c00\")\n",
    "            span_comments = span_comments.text if span_comments else \"no comments\"\n",
    "            \n",
    "#             print(user_id)\n",
    "#             print(str_comments) # 課題2\n",
    "            user_comments = [{user_id: span_comments}]\n",
    "\n",
    "#         print(user_comments) \n",
    "        articles.append({\n",
    "        \"link\" : item_link,\n",
    "        \"title\" : item_text,\n",
    "        \"score\" : item_score,\n",
    "        \"comments\" : str(user_comments)\n",
    "        })\n",
    "        user_comments = []\n",
    "    else:\n",
    "        continue\n",
    "    \n",
    "    \n",
    "    \n",
    "for article in articles:\n",
    "    print(article)"
   ]
  },
  {
   "cell_type": "code",
   "execution_count": 31,
   "metadata": {
    "ExecuteTime": {
     "end_time": "2019-05-15T02:05:49.761424Z",
     "start_time": "2019-05-15T02:05:47.993814Z"
    }
   },
   "outputs": [
    {
     "name": "stdout",
     "output_type": "stream",
     "text": [
      "https://news.ycombinator.com/newcomments\n",
      "What I'm getting at is you live in a city, not a college town. Cities have large populations and some of those populations are anti-social and derelict. It all comes with the price of living in a city.\n",
      "\n",
      "There are (at least?) three different ways \"ch\" can be pronounced in German: Throaty as in \"Buch\", a slightly altered \"sh\" sound like in \"Bücher\", and just as plain \"k\", like in \"Lachs\".\n",
      "\n",
      "I think this is why furry draws so many LGBTQ+ people. There seems to be a convention every other week, countless meetups, and tens, maybe hundreds of thousands of furries online. It's a way to meet people, make friends, collaborate, explore hobbies, and even earn an income no matter where in the world you are. None of the thousands churches or mainstream groups around here want me, but furries accept me without qualification.\n",
      "\n",
      "Semiaccurate's theory, based on their impression that only one fab is dedicated to 10nm, is that it has some of the things they're planning on using in 7nm, and they might as well make some chips to sell while they debug them.\n",
      "\n",
      "You can compute with less than that. (all links are to the same thing)https://github.com/xoreaxeaxeax/movfuscatorhttps://m.youtube.com/watch?v=R7EEoWg6Ekkhttps://news.ycombinator.com/item?id=18991404\n",
      "\n",
      "its in all high end dog foods.that are killing dogs (degenerative cardiomyopathy).\n",
      "\n",
      "> It seems to fit pretty well the descriptions of the \"rudeness\" and \"boldness\" in common Israeli culture.Also seems to be a pretty accurate description of SV/startup culture too...\n",
      "\n",
      "\" and there's no reason to believe a similar focus on the other companies' products wouldn't also find unique problems.\"Sure there is. Just like the first round last year, intel totally through AMD under the bus to save face and stock price. That is the reason to mention AMD literally, to keep their stock price from crashing.\n",
      "\n",
      "Stand up for your code and certify it like a mechanical or civil engineer certifies what they make or don’t wear the title of engineer.  It’s time to take on all the qualities of the sobriquet not just the status and the salary.\n",
      "\n",
      "I believe we need to do away with “the Kaiser’s trick hour” and restore a truly reliable, truly American sense of time\n",
      "\n",
      "Doesn’t criminal negligence exist in the US, along with a number of other statutes that could apply? Not to say they would face trial here if the events occurred here, but there are laws that would apply given sufficient evidence of wrongdoing.\n",
      "\n",
      "What about having \"real\" Firefox is the important part?Is it supporting Mozilla, or supporting browser engine diversity, or is because real Firefox has more checkmarks on caniuse.com?\n",
      "\n",
      "This is what happens when you are trying to do manufacturing “Silicon Valley” style\n",
      "\n",
      "In this chase, \"ch\" is pronounced as \"k\", not as one of the two German ch-phonemes that don't exist in English.\n",
      "\n",
      "Yes but they probably can't subpoena corporate data/emails to complete the necessary due diligence.  They need the FBI to seize evidence, if that even exists.\n",
      "\n",
      "Weird, weren't GitHub and friends restoring these repositories for these unlucky users?\n",
      "\n",
      "People are bad at understanding risk. Tell someone that this change will save the company enough money to bump the share price by $2, but there's a one-in-a-million chance per flight that it will cause a crash that will destroy the company instead. Do you go for it? A lot of people will hear \"one in a million\" as \"basically impossible\" and say it sounds great. They'll probably rationalize it further by deciding that you're being paranoid about the risks. And then a while later you have a few hundred dead people and a company with a shattered reputation.\n",
      "\n",
      "Sure -- for a good example, GPUs go partway there by not speculating (they still have cache hierarchies though). It works because GPU workloads have massive data parallelism, so while one group of threads (a \"warp\") is stalled waiting for data, the cores can just execute other threads. Sun/Oracle had built a number of Sparc chips along this line too, e.g. the Niagara (Sun UltraSPARC T1) tolerates memory latency by having a bunch of SMT threads (8 per core, IIRC?) rather than OoO scheduling.The problem is that single-thread performance is really important for a lot of workloads, because (i) parallelization is hard, (ii) even for parallelized workloads, serial bottlenecks (critical sections, etc.) still exist, and (iii) latency is often important too (one web request on one core of a server, or compiling one straggler extra-large file in a parallel build, for example).\n",
      "\n",
      "I agree with the search, but being a map is where OSM shines.When I visit google maps a see a bunch of colorful boxes and notable locations, I have no idea why it chooses the notable locations it does but it appears to be either paid or some sort of SEO shenanigans, a local curry place is list but one of the biggest train stations in the country isn't (Southern Cross in Melbourne), recently they've also tried to cover the map with the \"explore\" panel.When I look at the same area with OSM it shows the train station and shows me the street names  with the street names all those colored boxes (buildings) are information, without them they're just noise.\n",
      "\n",
      "Yea the 'correct' approach is often to to both:- You check for consistency issues on the client-side UI level, and give the user instant feedback when something is not right.- You also create a db trigger to enforce the rule in the database itself. This way you, as a developer, can write your code with the assumption that the data is gonna be consistent when it comes from the database, even if something went wrong on the client UI level at some point.\n",
      "\n",
      "Is there an approved list of major cities where we have collectively decided that this behavior is just \"okay\" and \"normal\"? I'm growing a little tired of this mantra that because we can point to some place that indeed has it worse (or way worse) than SF/Seattle/LA wherever that it's not a problem or we're wrong to thing it is.\n",
      "\n",
      "\"Eschew flamebait. Don't introduce flamewar topics unless you have something genuinely new to say. Avoid unrelated controversies and generic tangents.\"https://news.ycombinator.com/newsguidelines.html\n",
      "\n",
      "Kind of off-topic, but with the direction GitHub is going with features and 'embrace, extend, (and to be determined with pkg repo) extinguish', I wouldn't be surprised if GH comes out with a Sentry competitor by 2021.\n",
      "\n",
      "The best of the worst case.\n",
      "Gotta love that Intel spin machine working in overdrive\n",
      "\n",
      "An unprivileged attacker with the ability to execute codeThat sounds like a contradiction --- if you can already execute code, I'd say you're quite privileged. It's unfortunate that their demo doesn't itself run in the browser using JS (I don't know if it's possible), because that's closer to what people might think of as \"unprivileged\".The attacker has no control over the address from which data is leaked, therefore it is necessary to know when the victim application handles the interesting data.This is a very important point that all the Spectre/Meltdown-originated side-channels have in common, so I think it deserves more attention: there's a huge difference between being able to read some random data (theoretically, a leak) and it being actionable (practically, to exploit it); of course as mentioned in the article there are certain data which has patterns, but things like encryption keys tend to be pretty much random --- and then there's the question of what exactly that key is protecting. Let's say you did manage to correctly read a whole TLS session key --- what are you going to do with it? How are you going to get access to the network traffic it's protecting? You have just as much chance that this same exploit will leak the bytes of that before it's encrypted, so the ability to do something \"attackful\" is still rather limited.Even the data which has patterns, like the mentioned credit card numbers, still needs some other associated data (cardholder name, PIN, etc.) in order to actually be usable.The unpredictability of what you get, and the speed at which you can read (the demo shows 31 seconds to read 12 bytes), IMHO leads to a situation where getting all the pieces to line up just right for one specific victim is a huge effort, and because it's timing-based, any small change in the environment could easily \"shift the sand\" and result in reading something entirely different from what you had planned with all the careful setup you did.Using ZombieLoad as a covert channel, two VMs could communicate with each other even in scenarios where they are configured in a way that forbids direct interaction between them.IMHO that example is stretching things a bit, because it's already possible to \"signal\" between VMs by using indicators as crude as CPU or disk usage --- all one VM has to do to \"write\" is \"pulse\" the CPU or disk usage in whatever pattern it wants, modulating it with the data it wants to send, and the other one can \"read\" just by timing how long operations take. Anyone who has ever experienced things like \"this machine is more responsive now, I guess the build I was doing in the background is finished\" has seen this simple side-channel in action.\n",
      "\n",
      "The R dropping accent in New England is limited to a surprisingly small group of people. Same with New York I believe.Outside of some parts of  Boston we pick up those Rs our friends drop and put them to use.\n",
      "\n",
      "I think their general idea is to make 10nm CPUs on very small dies, so that they can get a reasonable acceptance rate.  Then push as many ancillary functions as possible onto 14nm silicon.Bam! A tiny 10nm part surrounded by a bunch of 14nm pieces has a high enough yield that they can get production cranking and start selling \"10nm\" CPUs.\n",
      "\n",
      "Vast majority of people are not concerned about their data until they see possible repercussions of someone using it.Judging from what I see, public awareness about privacy (and hence avoidance of Google/Facebook and other services) is rising. Not as much as I would like it to see, but it's slowly rising. Hope it's not only my experience.\n",
      "\n",
      "Compare homicides with San Francisco and any major metro of similar size and San Francisco will show it's not that dangerous. It might appear dangerous because the middle class and upper-middle class are not sheltered from everything here but it isn't that dangerous compared to most other cities.There were 42 homicides in San Francisco (2018).https://www.mercurynews.com/2018/01/09/bay-area-homicides-20...There were 184 homicides in Memphis last year (2018), Memphis has roughly 200,000 less people than San Franciscohttps://dailymemphian.com/article/2253/Memphis-homicides-up-...There were 156 homicides in Indianapolis last year (2018), Indianapolis has roughly the same population as San Franciscohttps://www.theindychannel.com/news/local-news/indianapolis/...There were 200 homicides in Kansas City (2018), Kansas City is roughly 1/2 the population of San Franciscohttps://www.kcur.org/post/kansas-city-homicides-2018#stream/...If you look at St. Louis and Baltimore you'll realize there are places of similar or smaller population with much more crimeThere were 186 homicides in St. Louis (2018), St. Louis is roughly 1/3 the population of San Franciscohttps://www.ksdk.com/article/news/crime/homicides-in-the-cit...San Francisco compared to the rest of the United States is relatively safe and the entire Bay Area is actually getting safer including San Francisco (58 homicides in 2016).https://www.sfchronicle.com/crime/article/Homicides-fall-acr...\n",
      "\n",
      "Am I naive? Are anti-competitive abuses really that common in YC?\n",
      "\n"
     ]
    }
   ],
   "source": [
    "# おまけ\n",
    "r = requests.get(url)\n",
    "html_soup = BeautifulSoup(r.text, \"html.parser\")\n",
    "\n",
    "comments = html_soup.find(\"a\", href=\"newcomments\")\n",
    "comments_link= comments.get(\"href\") if comments else None\n",
    "print(re.sub(\"news$\",comments_link,url))\n",
    "new_url = re.sub(\"news$\",comments_link,url)\n",
    "r = requests.get(new_url)\n",
    "html_soup = BeautifulSoup(r.text, \"html.parser\")\n",
    "for comments in html_soup.find_all(\"span\", class_=\"commtext c00\"):\n",
    "    print(comments.text,end=\"\\n\\n\")\n"
   ]
  },
  {
   "cell_type": "code",
   "execution_count": null,
   "metadata": {
    "ExecuteTime": {
     "end_time": "2019-05-15T07:01:24.509875Z",
     "start_time": "2019-05-15T06:58:56.778994Z"
    }
   },
   "outputs": [],
   "source": []
  }
 ],
 "metadata": {
  "kernelspec": {
   "display_name": "Python 3",
   "language": "python",
   "name": "python3"
  },
  "language_info": {
   "codemirror_mode": {
    "name": "ipython",
    "version": 3
   },
   "file_extension": ".py",
   "mimetype": "text/x-python",
   "name": "python",
   "nbconvert_exporter": "python",
   "pygments_lexer": "ipython3",
   "version": "3.6.7"
  },
  "varInspector": {
   "cols": {
    "lenName": 16,
    "lenType": 16,
    "lenVar": 40
   },
   "kernels_config": {
    "python": {
     "delete_cmd_postfix": "",
     "delete_cmd_prefix": "del ",
     "library": "var_list.py",
     "varRefreshCmd": "print(var_dic_list())"
    },
    "r": {
     "delete_cmd_postfix": ") ",
     "delete_cmd_prefix": "rm(",
     "library": "var_list.r",
     "varRefreshCmd": "cat(var_dic_list()) "
    }
   },
   "types_to_exclude": [
    "module",
    "function",
    "builtin_function_or_method",
    "instance",
    "_Feature"
   ],
   "window_display": false
  }
 },
 "nbformat": 4,
 "nbformat_minor": 2
}
