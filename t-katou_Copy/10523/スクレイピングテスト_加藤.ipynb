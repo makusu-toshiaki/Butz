{
 "cells": [
  {
   "cell_type": "code",
   "execution_count": 142,
   "metadata": {
    "ExecuteTime": {
     "end_time": "2019-05-23T05:03:46.813985Z",
     "start_time": "2019-05-23T05:03:46.809309Z"
    }
   },
   "outputs": [],
   "source": [
    "import requests\n",
    "from bs4 import BeautifulSoup\n",
    "from collections import Counter\n",
    "import json"
   ]
  },
  {
   "cell_type": "code",
   "execution_count": 141,
   "metadata": {
    "ExecuteTime": {
     "end_time": "2019-05-23T04:47:27.281803Z",
     "start_time": "2019-05-23T04:47:23.993271Z"
    }
   },
   "outputs": [],
   "source": [
    "url = \"https://qiita.com/\"\n",
    "r = requests.get(url)\n",
    "bs = BeautifulSoup(r.text, \"html.parser\")"
   ]
  },
  {
   "cell_type": "code",
   "execution_count": 140,
   "metadata": {
    "ExecuteTime": {
     "end_time": "2019-05-23T03:16:01.412114Z",
     "start_time": "2019-05-23T03:16:01.195904Z"
    }
   },
   "outputs": [
    {
     "name": "stdout",
     "output_type": "stream",
     "text": [
      "['nagataaaas/items/ba33c4c4e0df0b5aa0c4', 'KoyanagiHitoshi/items/82ef910432552d0a4553', 'DQNEO/items/2efaec18772a1ae3c198', 'tawara_/items/374f3ca0a386fab8b305', 'mtoyopet/items/2fceef61b250e3917cb3', 'delmontz/items/abd075eacb1302fc184c', 't12u/items/8c28484100dfd3a6351b', 'jnchito/items/e2b1c8904cd7b8e3ce50', 'kntkymt/items/ad0ec4da3f510b885bea', 'POPOPON/items/3522c48765b6e9439bde', 'rana_kualu/items/130fab56656c3e450d61', 'fuubit/items/dbb22435202acbe48849', 'tomoyamachi/items/e0394e9bcfeb90543e97', 'Harusugi/items/caa1922d27ebea451aad', 'AnyPicksMagazine/items/6b7680c3ca635e83c275', 'POPOPON/items/edc7a522d2ee9a50cc3a', 'ChujoHiroto/items/dc8d61f8b3d4b88af833', 'NaOHaq/items/55573f088d0b1d3b0dc6', 'OGOG_Ogura/items/46a1f82553c5f6501636', 'PINTO/items/e674d65f412282cfe859', 'zonomaa/items/70e0ac0d4d6432ad7e11', 'iritec/items/dbe36e4ac8a21c2a580f', 'takuya_tsurumi/items/e73b0cfd5db92d73fb92', 'lis-hanzomon/items/917c199695caba15e144', 'omochimetaru/items/beee69905d1a4099aeeb', 'marksard/items/9317949ce1da327f7436', 'kawa64372358/items/492c89db7f96823a26c0', 'SoraKumo/items/67a967bff996c3efb091', 'piacere_ex/items/3f827122feb24eb3624e', 'boiyaa/items/37a0da3343d0c3aa0a24']\n"
     ]
    }
   ],
   "source": [
    "qiita_tr = bs.find(\"div\",class_=\"p-home_main mb-3 mr-0@s\")\n",
    "qiita_tr2 = qiita_tr.find(\"div\")\n",
    "# print(qiita_tr2)\n",
    "# print(qiita_tr2.get(\"data-hyperapp-props\"))\n",
    "dict_r = json.loads(qiita_tr2.get(\"data-hyperapp-props\"))\n",
    "node = dict_r[\"trend\"][\"edges\"]\n",
    "dic_qiita = []\n",
    "for i in node:\n",
    "#     print(i[\"node\"][\"uuid\"],i[\"node\"][\"author\"][\"urlName\"])\n",
    "    dic_qiita += [i[\"node\"][\"author\"][\"urlName\"]+\"/items/\"+i[\"node\"][\"uuid\"]]\n",
    "print(dic_qiita)\n",
    "# json.dump(node,jsonfile,ensure_ascii=False, indent=2)\n",
    "# jsonfile.close()\n",
    "\n",
    "# jsonfile = open(\"aaa.json\",'r',encoding='utf-8')\n",
    "\n",
    "# for line in jsonfile:\n",
    "# #     print(line)\n",
    "# # print(dic_qiita)\n",
    "# jsonfile.close() \n",
    "# for tr in qiita_tr:\n",
    "#     address = tr.find(\"a\", class_=\"tr-Item_title\")\n",
    "#     print(address.text)\n",
    "#     link = address.get(\"href\")\n",
    "#     bs = BeautifulSoup(url+link, \"html.parser\")\n"
   ]
  },
  {
   "cell_type": "code",
   "execution_count": null,
   "metadata": {},
   "outputs": [],
   "source": [
    "with jsonfile = open(\"bbb.json\",'r',encoding='utf-8') as f:\n",
    "for str_r in dic_qiita:\n",
    "    get_r = requests.get(url+str_r)\n",
    "    bs = BeautifulSoup(get_r.text, \"html.parser\")\n",
    "    \n",
    "Counter(())"
   ]
  }
 ],
 "metadata": {
  "kernelspec": {
   "display_name": "Python 3",
   "language": "python",
   "name": "python3"
  },
  "language_info": {
   "codemirror_mode": {
    "name": "ipython",
    "version": 3
   },
   "file_extension": ".py",
   "mimetype": "text/x-python",
   "name": "python",
   "nbconvert_exporter": "python",
   "pygments_lexer": "ipython3",
   "version": "3.6.7"
  },
  "varInspector": {
   "cols": {
    "lenName": 16,
    "lenType": 16,
    "lenVar": 40
   },
   "kernels_config": {
    "python": {
     "delete_cmd_postfix": "",
     "delete_cmd_prefix": "del ",
     "library": "var_list.py",
     "varRefreshCmd": "print(var_dic_list())"
    },
    "r": {
     "delete_cmd_postfix": ") ",
     "delete_cmd_prefix": "rm(",
     "library": "var_list.r",
     "varRefreshCmd": "cat(var_dic_list()) "
    }
   },
   "types_to_exclude": [
    "module",
    "function",
    "builtin_function_or_method",
    "instance",
    "_Feature"
   ],
   "window_display": false
  }
 },
 "nbformat": 4,
 "nbformat_minor": 2
}
