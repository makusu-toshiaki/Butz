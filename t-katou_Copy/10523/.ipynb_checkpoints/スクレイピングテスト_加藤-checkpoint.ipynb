{
 "cells": [
  {
   "cell_type": "code",
   "execution_count": 1,
   "metadata": {
    "ExecuteTime": {
     "end_time": "2019-05-23T05:03:46.813985Z",
     "start_time": "2019-05-23T05:03:46.809309Z"
    }
   },
   "outputs": [],
   "source": [
    "import requests\n",
    "from bs4 import BeautifulSoup\n",
    "from collections import Counter\n",
    "import json"
   ]
  },
  {
   "cell_type": "code",
   "execution_count": 2,
   "metadata": {
    "ExecuteTime": {
     "end_time": "2019-05-23T04:47:27.281803Z",
     "start_time": "2019-05-23T04:47:23.993271Z"
    }
   },
   "outputs": [],
   "source": [
    "url = \"https://qiita.com/\"\n",
    "r = requests.get(url)\n",
    "bs = BeautifulSoup(r.text, \"html.parser\")"
   ]
  },
  {
   "cell_type": "code",
   "execution_count": 3,
   "metadata": {
    "ExecuteTime": {
     "end_time": "2019-05-23T03:16:01.412114Z",
     "start_time": "2019-05-23T03:16:01.195904Z"
    }
   },
   "outputs": [
    {
     "name": "stdout",
     "output_type": "stream",
     "text": [
      "['tonluqclml/items/a7ed2f94225ef8a37b8b', 'Kta-M/items/ce475c0063d3d3f36d5d', 'zonomaa/items/70e0ac0d4d6432ad7e11', 'Go-Noji/items/25a30b8cadef86abc2b0', 'mayobimu/items/9989a01fd0baef0fba5c', 'k-boy/items/c99cc681c29a1b250b4a', 'kosamari/items/a1f0fe2ed1a4a9de997f', 'uhyo/items/6acb7f4ee73287d5dac0', 'nomotohiroki/items/7c79618c721dade5e5fe', 'drken/items/6a95b57d2e374a3d3292', 'naoki114/items/f46082e488fcb1562662', 'KoyanagiHitoshi/items/318d4b8ef3b4e5b87390', 'boiyaa/items/f47a5e6f6cdafd57b697', 'marty-suzuki/items/4117cec22b44907af982', 'cannorin/items/1936faded610c3ab6c18', 'amaiokashi/items/db88da0423a1549abcd8', 'hand-dot/items/db780a51915e2dc85221', 'warapuri/items/05da9867378dccf89e66', 'kai_kou/items/d87e6cfa8975346dded4', 'dung717/items/79d7e0142adfd8c6084c', 'koshian2/items/070dc9ef03e7ea0c14ba', 'isihigameKoudai/items/4d41dd083d04adb441c3', 'kawa64372358/items/492c89db7f96823a26c0', 'kabochapo/items/a90d8438243c27e2f6d9', 'tomabou/items/6ef5add1dcbc4e9671e2', 'warapuri/items/d439559306176bd85f9f', 'ohiro18/items/02c5da6d6590dfe3ed0d', 'tatane616/items/1694ed4f88dc9d3b1eda', 'ktateish/items/1fdae8ac845da788a789', 'nontan18/items/579daf033a4644f2285a']\n"
     ]
    }
   ],
   "source": [
    "qiita_tr = bs.find(\"div\",class_=\"p-home_main mb-3 mr-0@s\")\n",
    "qiita_tr2 = qiita_tr.find(\"div\")\n",
    "# print(qiita_tr2)\n",
    "# print(qiita_tr2.get(\"data-hyperapp-props\"))\n",
    "dict_r = json.loads(qiita_tr2.get(\"data-hyperapp-props\"))\n",
    "node = dict_r[\"trend\"][\"edges\"]\n",
    "dic_qiita = []\n",
    "for i in node:\n",
    "#     print(i[\"node\"][\"uuid\"],i[\"node\"][\"author\"][\"urlName\"])\n",
    "    dic_qiita += [i[\"node\"][\"author\"][\"urlName\"]+\"/items/\"+i[\"node\"][\"uuid\"]]\n",
    "print(dic_qiita)\n",
    "# json.dump(node,jsonfile,ensure_ascii=False, indent=2)\n",
    "# jsonfile.close()\n",
    "\n",
    "# jsonfile = open(\"aaa.json\",'r',encoding='utf-8')\n",
    "\n",
    "# for line in jsonfile:\n",
    "# #     print(line)\n",
    "# # print(dic_qiita)\n",
    "# jsonfile.close() \n",
    "# for tr in qiita_tr:\n",
    "#     address = tr.find(\"a\", class_=\"tr-Item_title\")\n",
    "#     print(address.text)\n",
    "#     link = address.get(\"href\")\n",
    "#     bs = BeautifulSoup(url+link, \"html.parser\")\n"
   ]
  },
  {
   "cell_type": "code",
   "execution_count": 15,
   "metadata": {},
   "outputs": [
    {
     "name": "stdout",
     "output_type": "stream",
     "text": [
      "['プロジェクト管理', 'ドキュメント', 'プロジェクトマネジメント', '新卒プログラマ応援', 'AWS', 'GoogleCloudPlatform', 'kubernetes', 'GKE', 'eks', 'Firebase', '爆速', 'JavaScript', 'npm', 'TypeScript', 'webpack', 'babel', '初心者', 'ポエム', '新人', '新卒エンジニア', '新人プログラマ応援', 'iOS', 'stripe', 'Firebase', 'Web', 'イベント', 'TypeScript', 'JavaScript', 'Vue.js', 'アルゴリズム', '競技プログラミング', 'データ構造', 'グラフ理論', '探索', 'Markdown', 'Excel', 'PowerPoint', 'tmux', 'TypeScript', 'Express.js', 'React', 'puppeteer', 'iOS', 'NotificationCenter', 'Swift', 'RxSwift', 'F#', '.NET', 'モナド', 'VR', 'XR', 'フォトグラメトリ', 'Photogrammetry', '3DFZephyr', 'Angular', '効率化', 'React', '新人プログラマ応援', 'schematics', 'Unity', 'VR', 'VRTK', 'OculusGo', 'AWS', '強化学習', 'PPO', 'DeepRacer', 'SQL', 'oracle', 'DB', 'パフォーマンス', '実行計画', 'Python', '機械学習', 'MachineLearning', 'DeepLearning', 'PyTorch', 'JavaScript', 'TypeScript', 'Vue.js', 'フロントエンド', 'Firebase', 'HTML5', 'Vue.js', 'Flutter', 'JavaScript', 'アルゴリズム', 'Elm', 'WebAssembly', 'Unity', 'VR', 'VRTK', 'OculusGo', 'AWS', 'Azure', 'gcp', 'AlibabaCloud', 'AliEaters', 'テスト', 'テストケース', 'Go', 'LaTeX', 'TeX', '入門', 'Docker', '入門編']\n"
     ]
    }
   ],
   "source": [
    "tags = []\n",
    "for str_r in dic_qiita:\n",
    "    get_r = requests.get(url+str_r)\n",
    "    bs = BeautifulSoup(get_r.text, \"html.parser\")\n",
    "    qiita_tags = bs.find(\"div\",class_=\"it-Tags\")\n",
    "    for one_tag in qiita_tags.find_all(\"a\"):\n",
    "        tags.append(one_tag.text)\n",
    "            \n",
    "print(tags)\n",
    "#         tags += \n",
    "# Counter(())"
   ]
  },
  {
   "cell_type": "code",
   "execution_count": 37,
   "metadata": {},
   "outputs": [
    {
     "name": "stdout",
     "output_type": "stream",
     "text": [
      "[('JavaScript', 4), ('TypeScript', 4), ('AWS', 3), ('Firebase', 3), ('Vue.js', 3), ('VR', 3), ('新人プログラマ応援', 2), ('iOS', 2), ('アルゴリズム', 2), ('React', 2), ('Unity', 2), ('VRTK', 2), ('OculusGo', 2), ('プロジェクト管理', 1), ('ドキュメント', 1), ('プロジェクトマネジメント', 1), ('新卒プログラマ応援', 1), ('GoogleCloudPlatform', 1), ('kubernetes', 1), ('GKE', 1), ('eks', 1), ('爆速', 1), ('npm', 1), ('webpack', 1), ('babel', 1), ('初心者', 1), ('ポエム', 1), ('新人', 1), ('新卒エンジニア', 1), ('stripe', 1), ('Web', 1), ('イベント', 1), ('競技プログラミング', 1), ('データ構造', 1), ('グラフ理論', 1), ('探索', 1), ('Markdown', 1), ('Excel', 1), ('PowerPoint', 1), ('tmux', 1), ('Express.js', 1), ('puppeteer', 1), ('NotificationCenter', 1), ('Swift', 1), ('RxSwift', 1), ('F#', 1), ('.NET', 1), ('モナド', 1), ('XR', 1), ('フォトグラメトリ', 1), ('Photogrammetry', 1), ('3DFZephyr', 1), ('Angular', 1), ('効率化', 1), ('schematics', 1), ('強化学習', 1), ('PPO', 1), ('DeepRacer', 1), ('SQL', 1), ('oracle', 1), ('DB', 1), ('パフォーマンス', 1), ('実行計画', 1), ('Python', 1), ('機械学習', 1), ('MachineLearning', 1), ('DeepLearning', 1), ('PyTorch', 1), ('フロントエンド', 1), ('HTML5', 1), ('Flutter', 1), ('Elm', 1), ('WebAssembly', 1), ('Azure', 1), ('gcp', 1), ('AlibabaCloud', 1), ('AliEaters', 1), ('テスト', 1), ('テストケース', 1), ('Go', 1), ('LaTeX', 1), ('TeX', 1), ('入門', 1), ('Docker', 1), ('入門編', 1)]\n"
     ]
    }
   ],
   "source": [
    "c = Counter(tags).most_common()\n",
    "print(c)\n",
    "with open(\"qiita_tags.json\",'w',encoding='utf-8') as f:\n",
    "    json.dump(c, f, indent = 2, ensure_ascii=False)"
   ]
  }
 ],
 "metadata": {
  "kernelspec": {
   "display_name": "Python 3",
   "language": "python",
   "name": "python3"
  },
  "language_info": {
   "codemirror_mode": {
    "name": "ipython",
    "version": 3
   },
   "file_extension": ".py",
   "mimetype": "text/x-python",
   "name": "python",
   "nbconvert_exporter": "python",
   "pygments_lexer": "ipython3",
   "version": "3.7.3"
  },
  "varInspector": {
   "cols": {
    "lenName": 16,
    "lenType": 16,
    "lenVar": 40
   },
   "kernels_config": {
    "python": {
     "delete_cmd_postfix": "",
     "delete_cmd_prefix": "del ",
     "library": "var_list.py",
     "varRefreshCmd": "print(var_dic_list())"
    },
    "r": {
     "delete_cmd_postfix": ") ",
     "delete_cmd_prefix": "rm(",
     "library": "var_list.r",
     "varRefreshCmd": "cat(var_dic_list()) "
    }
   },
   "types_to_exclude": [
    "module",
    "function",
    "builtin_function_or_method",
    "instance",
    "_Feature"
   ],
   "window_display": false
  }
 },
 "nbformat": 4,
 "nbformat_minor": 2
}
