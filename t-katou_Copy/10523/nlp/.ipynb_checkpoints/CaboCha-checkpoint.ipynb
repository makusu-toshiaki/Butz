{
 "cells": [
  {
   "cell_type": "code",
   "execution_count": 1,
   "metadata": {
    "ExecuteTime": {
     "end_time": "2019-05-20T06:58:40.375631Z",
     "start_time": "2019-05-20T06:58:40.364197Z"
    }
   },
   "outputs": [],
   "source": [
    "import CaboCha"
   ]
  },
  {
   "cell_type": "code",
   "execution_count": 9,
   "metadata": {
    "ExecuteTime": {
     "end_time": "2019-05-20T08:34:38.504742Z",
     "start_time": "2019-05-20T08:34:38.421158Z"
    }
   },
   "outputs": [
    {
     "name": "stdout",
     "output_type": "stream",
     "text": [
      "chunk:\n",
      "    token_begin: 0\n",
      "    token_end: 3\n",
      "    features: ['名詞', '一般', '*', '*', '*', '*', 'すもも', 'スモモ', 'スモモ']\n",
      "    lemma: すもも\n",
      "    POS: 名詞\n",
      "    POS2: 一般\n",
      "    NE: O\n",
      "\n",
      "    token_begin: 3\n",
      "    token_end: 4\n",
      "    features: ['助詞', '係助詞', '*', '*', '*', '*', 'も', 'モ', 'モ']\n",
      "    lemma: も\n",
      "    POS: 助詞\n",
      "    POS2: 係助詞\n",
      "    NE: O\n",
      "\n",
      "  chunk_link 1\n",
      "  chunk_begin: 0\n",
      "  chunk_end: 4\n",
      "\n",
      "chunk:\n",
      "    token_begin: 4\n",
      "    token_end: 6\n",
      "    features: ['名詞', '一般', '*', '*', '*', '*', 'もも', 'モモ', 'モモ']\n",
      "    lemma: もも\n",
      "    POS: 名詞\n",
      "    POS2: 一般\n",
      "    NE: O\n",
      "\n",
      "    token_begin: 6\n",
      "    token_end: 7\n",
      "    features: ['助詞', '係助詞', '*', '*', '*', '*', 'も', 'モ', 'モ']\n",
      "    lemma: も\n",
      "    POS: 助詞\n",
      "    POS2: 係助詞\n",
      "    NE: O\n",
      "\n",
      "  chunk_link 3\n",
      "  chunk_begin: 4\n",
      "  chunk_end: 7\n",
      "\n",
      "chunk:\n",
      "    token_begin: 7\n",
      "    token_end: 9\n",
      "    features: ['名詞', '一般', '*', '*', '*', '*', 'もも', 'モモ', 'モモ']\n",
      "    lemma: もも\n",
      "    POS: 名詞\n",
      "    POS2: 一般\n",
      "    NE: O\n",
      "\n",
      "    token_begin: 9\n",
      "    token_end: 10\n",
      "    features: ['助詞', '連体化', '*', '*', '*', '*', 'の', 'ノ', 'ノ']\n",
      "    lemma: の\n",
      "    POS: 助詞\n",
      "    POS2: 連体化\n",
      "    NE: O\n",
      "\n",
      "  chunk_link 3\n",
      "  chunk_begin: 7\n",
      "  chunk_end: 10\n",
      "\n",
      "chunk:\n",
      "    token_begin: 10\n",
      "    token_end: 12\n",
      "    features: ['名詞', '非自立', '副詞可能', '*', '*', '*', 'うち', 'ウチ', 'ウチ']\n",
      "    lemma: うち\n",
      "    POS: 名詞\n",
      "    POS2: 非自立\n",
      "    NE: O\n",
      "\n",
      "  chunk_link -1\n",
      "  chunk_begin: 10\n",
      "  chunk_end: 12\n",
      "\n"
     ]
    }
   ],
   "source": [
    "cabocha = CaboCha.Parser(\"-n1\")\n",
    "\n",
    "def parse_sentence(sentence_str, sentence_begin):\n",
    "    tree = cabocha.parse(sentence_str)\n",
    "    \n",
    "    offset = sentence_begin\n",
    "    text = sentence_str\n",
    "    \n",
    "    for i in range(tree.chunk_size()):\n",
    "        chunk = tree.chunk(i)\n",
    "        chunk_begin = None\n",
    "        \n",
    "        print(\"chunk:\")\n",
    "    \n",
    "        for j in range(chunk.token_pos,chunk.token_pos+chunk.token_size):\n",
    "            token = tree.token(j)\n",
    "            features = token.feature.split(\",\")\n",
    "            token_begin = text.find(token.surface) + offset\n",
    "            token_end = token_begin + len(token.surface)\n",
    "            if chunk_begin is None:\n",
    "                chunk_begin = token_begin\n",
    "\n",
    "            print(\"    token_begin:\", token_begin)\n",
    "            print(\"    token_end:\", token_end)\n",
    "            print(\"    features:\", features)\n",
    "            print(\"    lemma:\", features[-3])\n",
    "            print(\"    POS:\", features[0])\n",
    "            print(\"    POS2:\", features[1])\n",
    "            print(\"    NE:\", token.ne)\n",
    "            print()\n",
    "\n",
    "            text = text[token_end-offset:]\n",
    "            offset = token_end\n",
    "\n",
    "        chunk_end = token_end\n",
    "\n",
    "        print(\"  chunk_link\", chunk.link)\n",
    "        print(\"  chunk_begin:\", chunk_begin)\n",
    "        print(\"  chunk_end:\", chunk_end)\n",
    "        print()\n",
    "        \n",
    "if __name__ ==\"__main__\":\n",
    "    parse_sentence(\"すもももももももものうち\", 0)"
   ]
  }
 ],
 "metadata": {
  "kernelspec": {
   "display_name": "Python 3",
   "language": "python",
   "name": "python3"
  },
  "language_info": {
   "codemirror_mode": {
    "name": "ipython",
    "version": 3
   },
   "file_extension": ".py",
   "mimetype": "text/x-python",
   "name": "python",
   "nbconvert_exporter": "python",
   "pygments_lexer": "ipython3",
   "version": "3.6.7"
  },
  "varInspector": {
   "cols": {
    "lenName": 16,
    "lenType": 16,
    "lenVar": 40
   },
   "kernels_config": {
    "python": {
     "delete_cmd_postfix": "",
     "delete_cmd_prefix": "del ",
     "library": "var_list.py",
     "varRefreshCmd": "print(var_dic_list())"
    },
    "r": {
     "delete_cmd_postfix": ") ",
     "delete_cmd_prefix": "rm(",
     "library": "var_list.r",
     "varRefreshCmd": "cat(var_dic_list()) "
    }
   },
   "types_to_exclude": [
    "module",
    "function",
    "builtin_function_or_method",
    "instance",
    "_Feature"
   ],
   "window_display": false
  }
 },
 "nbformat": 4,
 "nbformat_minor": 2
}
