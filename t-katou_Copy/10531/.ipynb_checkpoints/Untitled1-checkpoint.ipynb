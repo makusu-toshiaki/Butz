{
 "cells": [
  {
   "cell_type": "code",
   "execution_count": 10,
   "metadata": {
    "ExecuteTime": {
     "end_time": "2019-05-31T05:32:05.708106Z",
     "start_time": "2019-05-31T05:32:05.699766Z"
    }
   },
   "outputs": [],
   "source": [
    "import sqlite3\n",
    "import glob\n",
    "import urllib.parse\n",
    "# import records\n",
    "import requests\n",
    "from bs4 import BeautifulSoup\n",
    "# import MeCab as mc\n",
    "import re\n",
    "from collections import Counter\n",
    "# from matplotlib import pyplot as plt\n",
    "# import gensim\n",
    "# from gensim.models import Word2Vec\n",
    "# from gensim import matutils, corpora\n",
    "# from gensim.corpora.dictionary import Dictionary\n",
    "# from joblib import Parallel"
   ]
  },
  {
   "cell_type": "code",
   "execution_count": 11,
   "metadata": {
    "ExecuteTime": {
     "end_time": "2019-05-31T04:36:31.625515Z",
     "start_time": "2019-05-31T04:36:31.615679Z"
    }
   },
   "outputs": [],
   "source": [
    "conn = None\n",
    "\n",
    "# データベースに接続する\n",
    "def connect():\n",
    "    global conn\n",
    "    conn = sqlite3.connect(\"./Restaurants_Reviews_max.db\")\n",
    "    \n",
    "# コネクションを断つ\n",
    "def close():\n",
    "    conn.close()\n",
    "    \n",
    "# テーブル作成\n",
    "def create_table_Restaurants():\n",
    "    # DROP=消す.\n",
    "    conn.execute(\"DROP TABLE IF EXISTS Restaurants\")\n",
    "    conn.execute(\"\"\"CREATE TABLE Restaurants (\n",
    "            id INTEGER PRIMARY KEY AUTOINCREMENT,\n",
    "            rest_name TEXT\n",
    "    )\"\"\")\n",
    "    \n",
    "def create_table_Reviews():\n",
    "    # DROP=消す.\n",
    "    conn.execute(\"DROP TABLE IF EXISTS Reviews\")\n",
    "    conn.execute(\"\"\"CREATE TABLE Reviews (\n",
    "            id INTEGER PRIMARY KEY AUTOINCREMENT,\n",
    "            rest_id INT,\n",
    "            review TEXT,\n",
    "            rate FLOAT\n",
    "    )\"\"\")\n",
    "    \n",
    "# loadは積むという意味\n",
    "def load_Restaurants(rest_name):\n",
    "    conn.execute(\"INSERT INTO Restaurants (rest_name) VALUES (?)\", (rest_name,))\n",
    "    conn.commit()\n",
    "    \n",
    "def load_Reviews(rest_id, review, rate):\n",
    "    conn.execute(\n",
    "        \"INSERT INTO Reviews (rest_id,review,rate) VALUES (?,?,?)\", (rest_id,review,rate))\n",
    "    conn.commit()"
   ]
  },
  {
   "cell_type": "code",
   "execution_count": 12,
   "metadata": {
    "ExecuteTime": {
     "end_time": "2019-05-31T00:34:11.371412Z",
     "start_time": "2019-05-31T00:34:09.525710Z"
    }
   },
   "outputs": [],
   "source": [
    "url = 'https://tabelog.com/rstLst/hamburger/?SrtT=rvcn&sk=ハンバーガー&svd=20190530&svt=1900&svps=2&Srt=D'\n",
    "\n",
    "r = requests.get(url)\n",
    "html_soup = BeautifulSoup(r.text, 'html.parser')\n",
    "# 一番初めのurl"
   ]
  },
  {
   "cell_type": "code",
   "execution_count": 13,
   "metadata": {
    "ExecuteTime": {
     "end_time": "2019-05-31T00:35:01.076159Z",
     "start_time": "2019-05-31T00:35:00.419802Z"
    }
   },
   "outputs": [
    {
     "name": "stdout",
     "output_type": "stream",
     "text": [
      "['https://tabelog.com/tokyo/A1302/A130204/13003002/dtlrvwlst/', 'https://tabelog.com/tokyo/A1310/A131004/13003538/dtlrvwlst/', 'https://tabelog.com/tokyo/A1314/A131404/13004775/dtlrvwlst/', 'https://tabelog.com/tokyo/A1303/A130302/13096437/dtlrvwlst/', 'https://tabelog.com/tokyo/A1306/A130601/13042654/dtlrvwlst/', 'https://tabelog.com/tokyo/A1316/A131603/13001556/dtlrvwlst/', 'https://tabelog.com/tokyo/A1314/A131401/13121856/dtlrvwlst/', 'https://tabelog.com/tokyo/A1317/A131706/13004780/dtlrvwlst/', 'https://tabelog.com/tokyo/A1304/A130401/13045308/dtlrvwlst/', 'https://tabelog.com/tokyo/A1303/A130301/13054359/dtlrvwlst/', 'https://tabelog.com/tokyo/A1317/A131707/13022762/dtlrvwlst/', 'https://tabelog.com/hokkaido/A0105/A010501/1000019/dtlrvwlst/', 'https://tabelog.com/tokyo/A1324/A132402/13033094/dtlrvwlst/', 'https://tabelog.com/tokyo/A1306/A130603/13189009/dtlrvwlst/', 'https://tabelog.com/tokyo/A1310/A131003/13006525/dtlrvwlst/', 'https://tabelog.com/okinawa/A4701/A470103/47000177/dtlrvwlst/', 'https://tabelog.com/tokyo/A1301/A130102/13037894/dtlrvwlst/', 'https://tabelog.com/tokyo/A1320/A132001/13005797/dtlrvwlst/', 'https://tabelog.com/tokyo/A1306/A130601/13097927/dtlrvwlst/', 'https://tabelog.com/osaka/A2701/A270202/27002325/dtlrvwlst/']\n",
      "['ブラザーズ 人形町本店', 'ファイヤーハウス', 'T.Y.HARBOR', 'ブラッカウズ', 'ザ グレートバーガー', 'フランクリン・アベニュー', 'マンチズ バーガー シャック', 'ベーカーバウンス', 'J.S. BURGERS CAFE 新宿店', 'レッグオンダイナー', 'エーエス クラシックス ダイナー KOMAZAWA', 'ラッキーピエロ ベイエリア本店', 'サニーダイナー 本店', 'シェイクシャック 外苑いちょう並木', 'アイコウシャ', 'Ａ＆Ｗ 那覇空港店', 'パークサイドダイナー', 'ヴィレッジヴァンガード ダイナー 吉祥寺', 'テディーズ ビガー バーガー 原宿表参道店', 'クアアイナ なんばパークス店']\n"
     ]
    }
   ],
   "source": [
    "new_url_all = [r[\"href\"] for r in html_soup.find_all(\"a\", class_ =\"list-rst__rvw-count-target\")]\n",
    "print(new_url_all)\n",
    "# 20件のurl\n",
    "\n",
    "rest_name_all = [r.text for r in html_soup.find_all(\"a\", class_ =\"list-rst__rst-name-target cpy-rst-name\")]\n",
    "print(rest_name_all)\n",
    "\n",
    "try:\n",
    "    connect()\n",
    "    create_table_Restaurants()\n",
    "    create_table_Reviews()\n",
    "    for rest_name in rest_name_all:\n",
    "        load_Restaurants(rest_name)\n",
    "finally:\n",
    "    close()"
   ]
  },
  {
   "cell_type": "code",
   "execution_count": 27,
   "metadata": {},
   "outputs": [],
   "source": [
    "review_all = []\n",
    "try:\n",
    "    connect()\n",
    "    burger_r = requests.get(new_url_all[13])\n",
    "    burger_soup = BeautifulSoup(burger_r.text, 'html.parser')\n",
    "    # 件数クリックしたurl\n",
    "\n",
    "    review_all = [r[\"data-detail-url\"] for r in burger_soup.find_all(\"div\", class_ =\"rvw-item js-rvw-item-clickable-area\")]\n",
    "\n",
    "    for j in range(int(int(burger_soup.find(\"em\", class_=\"num\").text)/20)+1):\n",
    "        for review in review_all:\n",
    "            review_r = requests.get(\"https://tabelog.com\"+review+\"COND-0/smp1/?smp=1&lc=0&rvw_part=all&PG=\"+str(j+1))\n",
    "            review_soup = BeautifulSoup(review_r.text, 'html.parser')\n",
    "            if review_soup.find(\"b\", class_ =\"c-rating__val c-rating__val--strong\").text == \"-\":\n",
    "                continue\n",
    "            rate = float(review_soup.find(\"b\", class_ =\"c-rating__val c-rating__val--strong\").text)\n",
    "            rest_review = review_soup.find(\"div\", class_ =\"rvw-item__rvw-comment\").text\n",
    "            load_Reviews(14, rest_review, rate)\n",
    "finally:\n",
    "    close()"
   ]
  }
 ],
 "metadata": {
  "kernelspec": {
   "display_name": "Python 3",
   "language": "python",
   "name": "python3"
  },
  "language_info": {
   "codemirror_mode": {
    "name": "ipython",
    "version": 3
   },
   "file_extension": ".py",
   "mimetype": "text/x-python",
   "name": "python",
   "nbconvert_exporter": "python",
   "pygments_lexer": "ipython3",
   "version": "3.7.3"
  },
  "varInspector": {
   "cols": {
    "lenName": 16,
    "lenType": 16,
    "lenVar": 40
   },
   "kernels_config": {
    "python": {
     "delete_cmd_postfix": "",
     "delete_cmd_prefix": "del ",
     "library": "var_list.py",
     "varRefreshCmd": "print(var_dic_list())"
    },
    "r": {
     "delete_cmd_postfix": ") ",
     "delete_cmd_prefix": "rm(",
     "library": "var_list.r",
     "varRefreshCmd": "cat(var_dic_list()) "
    }
   },
   "types_to_exclude": [
    "module",
    "function",
    "builtin_function_or_method",
    "instance",
    "_Feature"
   ],
   "window_display": false
  }
 },
 "nbformat": 4,
 "nbformat_minor": 2
}
