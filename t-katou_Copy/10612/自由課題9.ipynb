{
 "cells": [
  {
   "cell_type": "code",
   "execution_count": 1,
   "metadata": {
    "ExecuteTime": {
     "end_time": "2019-06-13T06:37:22.989186Z",
     "start_time": "2019-06-13T06:37:20.318075Z"
    }
   },
   "outputs": [],
   "source": [
    "# import文\n",
    "import MeCab as mc\n",
    "import requests\n",
    "from bs4 import BeautifulSoup\n",
    "import sqlite3\n",
    "import oseti\n",
    "from sklearn.feature_extraction.text import TfidfVectorizer"
   ]
  },
  {
   "cell_type": "code",
   "execution_count": 100,
   "metadata": {
    "ExecuteTime": {
     "end_time": "2019-06-13T04:36:48.541551Z",
     "start_time": "2019-06-13T04:36:48.451979Z"
    }
   },
   "outputs": [],
   "source": [
    "# 評判分析をoでできるようにする\n",
    "o = oseti.Analyzer()"
   ]
  },
  {
   "cell_type": "code",
   "execution_count": 4,
   "metadata": {
    "ExecuteTime": {
     "end_time": "2019-06-13T06:38:29.523822Z",
     "start_time": "2019-06-13T06:38:29.506937Z"
    }
   },
   "outputs": [],
   "source": [
    "# スクレイピングしたデータをデータベースに格納するための関数定義\n",
    "conn = None\n",
    "\n",
    "# データベースに接続する\n",
    "def connect():\n",
    "    global conn\n",
    "    conn = sqlite3.connect(\"./anime.db\")\n",
    "    \n",
    "# コネクションを断つ\n",
    "def close():\n",
    "    conn.close()\n",
    "    \n",
    "# テーブル作成\n",
    "def create_table_Url():\n",
    "    # DROP=消す.\n",
    "    conn.execute(\"DROP TABLE IF EXISTS Url\")\n",
    "    conn.execute(\"\"\"CREATE TABLE Url (\n",
    "            id INTEGER PRIMARY KEY AUTOINCREMENT,\n",
    "            url TEXT\n",
    "    )\"\"\")\n",
    "\n",
    "def create_table_Reviews():\n",
    "    # DROP=消す.\n",
    "    conn.execute(\"DROP TABLE IF EXISTS Reviews\")\n",
    "    conn.execute(\"\"\"CREATE TABLE Reviews (\n",
    "            id INTEGER PRIMARY KEY AUTOINCREMENT,\n",
    "            title TEXT,\n",
    "            review TEXT,\n",
    "            rate FLOAT\n",
    "    )\"\"\")\n",
    "    \n",
    "def load_Url(url):\n",
    "    conn.execute(\"INSERT INTO Url (url) VALUES (?)\", (url,))\n",
    "    conn.commit()\n",
    "    \n",
    "def load_Reviews(title, review, rate):\n",
    "    conn.execute(\"INSERT INTO Reviews (title,review,rate) VALUES (?,?,?)\", (title,review,rate))\n",
    "    conn.commit()"
   ]
  },
  {
   "cell_type": "code",
   "execution_count": null,
   "metadata": {},
   "outputs": [],
   "source": [
    "# URL設定。アニメ評価新着順に設定\n",
    "url = 'https://sakuhindb.com'\n",
    "next_url = \"/anime/anime.html\""
   ]
  },
  {
   "cell_type": "code",
   "execution_count": 111,
   "metadata": {
    "ExecuteTime": {
     "end_time": "2019-06-12T06:56:18.266618Z",
     "start_time": "2019-06-12T06:54:52.722548Z"
    }
   },
   "outputs": [
    {
     "name": "stdout",
     "output_type": "stream",
     "text": [
      "1回目\n",
      "2回目\n",
      "3回目\n",
      "4回目\n",
      "5回目\n",
      "6回目\n",
      "7回目\n",
      "8回目\n",
      "9回目\n",
      "10回目\n",
      "11回目\n",
      "12回目\n",
      "13回目\n",
      "14回目\n",
      "15回目\n",
      "16回目\n",
      "17回目\n",
      "18回目\n",
      "19回目\n",
      "20回目\n",
      "21回目\n",
      "22回目\n",
      "23回目\n",
      "24回目\n",
      "25回目\n",
      "26回目\n",
      "27回目\n",
      "28回目\n",
      "29回目\n",
      "30回目\n"
     ]
    }
   ],
   "source": [
    "# テーブルを作成し、30ページ文のアニメのを格納。1ページ100URLなので、全部で3000URL\n",
    "try:\n",
    "    connect()\n",
    "    create_table_Url()\n",
    "finally:\n",
    "    close()\n",
    "\n",
    "for i in range(30):\n",
    "    next_url = next_page(url,next_url,i)"
   ]
  },
  {
   "cell_type": "code",
   "execution_count": 29,
   "metadata": {
    "ExecuteTime": {
     "end_time": "2019-06-12T04:50:37.986023Z",
     "start_time": "2019-06-12T04:50:37.977752Z"
    }
   },
   "outputs": [],
   "source": [
    "# ページ移動、及びデータ格納のための関数を定義\n",
    "def next_page(url,next_url,i):\n",
    "    try:\n",
    "        connect()\n",
    "        r = requests.get(url+next_url)\n",
    "        html_soup = BeautifulSoup(r.text, 'html.parser')\n",
    "        new_url_all = [r[\"href\"] for r in html_soup.find(\"td\", class_ =\"article container\").find_all(\"a\")]\n",
    "        next_url = new_url_all[len(new_url_all)-1]\n",
    "        if i != 0:\n",
    "            del new_url_all[0:2]\n",
    "            del new_url_all[len(new_url_all)-2:]\n",
    "        else:\n",
    "            del new_url_all[len(new_url_all)-1]\n",
    "        for new_url in new_url_all:\n",
    "            load_Url(new_url)\n",
    "        return next_url\n",
    "    finally:\n",
    "        close()"
   ]
  },
  {
   "cell_type": "code",
   "execution_count": 39,
   "metadata": {
    "ExecuteTime": {
     "end_time": "2019-06-12T05:01:42.207172Z",
     "start_time": "2019-06-12T05:01:42.201287Z"
    }
   },
   "outputs": [],
   "source": [
    "# データベースに格納されているURLを取り出す関数を定義\n",
    "def get_url():\n",
    "    try:\n",
    "        connect()\n",
    "        cursor = conn.cursor()\n",
    "        res = cursor.execute(\"SELECT url FROM Url\")\n",
    "        res = cursor.fetchall()\n",
    "        return res\n",
    "    finally:\n",
    "        close()"
   ]
  },
  {
   "cell_type": "code",
   "execution_count": 137,
   "metadata": {
    "ExecuteTime": {
     "end_time": "2019-06-12T07:49:51.284873Z",
     "start_time": "2019-06-12T07:49:51.272943Z"
    }
   },
   "outputs": [],
   "source": [
    "# load_Reviewsの略。評判分析を行い、評価を出す。タイトル、レビュー、評価をデータベースに格納する関数を定義\n",
    "def load_oseti(url,g_u):\n",
    "    r = requests.get(url+g_u)\n",
    "    res_soup = BeautifulSoup(r.content, 'html.parser')\n",
    "    f_table = res_soup.find(\"td\", class_=\"padding_cell\").find_all(\"div\", itemprop=\"reviewBody\")\n",
    "    text_all=\"\"\n",
    "    for text in f_table:\n",
    "        text_all += text.text\n",
    "\n",
    "    rate_all=[]\n",
    "    for rate in o.analyze(text_all):\n",
    "        if int(rate) != 0:\n",
    "            rate_all.append(rate)\n",
    "    \n",
    "    if len(rate_all)==0:\n",
    "        rate = 0.0\n",
    "    else:\n",
    "        rate=sum(rate_all)/len(rate_all)\n",
    "    title = res_soup.find(\"span\", itemprop=\"name\").text\n",
    "    try:\n",
    "        connect()\n",
    "        load_Reviews(title, text_all, rate)\n",
    "    finally:\n",
    "        close()"
   ]
  },
  {
   "cell_type": "code",
   "execution_count": 138,
   "metadata": {
    "ExecuteTime": {
     "end_time": "2019-06-12T09:28:33.489783Z",
     "start_time": "2019-06-12T07:49:59.504939Z"
    }
   },
   "outputs": [],
   "source": [
    "# テーブルを作成し、タイトル・レビュー・評価をデータベースに格納する\n",
    "try:\n",
    "    connect()\n",
    "    create_table_Reviews()\n",
    "finally:\n",
    "    close()\n",
    "for g_u in get_url():\n",
    "    load_oseti(url,g_u[0])"
   ]
  },
  {
   "cell_type": "code",
   "execution_count": 11,
   "metadata": {
    "ExecuteTime": {
     "end_time": "2019-06-13T04:42:28.382090Z",
     "start_time": "2019-06-13T04:42:28.374437Z"
    }
   },
   "outputs": [],
   "source": [
    "# 分かち書き\n",
    "def mecab_analysis(texts):\n",
    "    t = mc.Tagger(\"\")\n",
    "    t.parse('')\n",
    "    output = []\n",
    "    node =  t.parseToNode(texts)  \n",
    "    while node:\n",
    "        if node.surface != \"\":  # ヘッダとフッタを除外\n",
    "            word_type = node.feature.split(\",\")[0]\n",
    "            if word_type in ['名詞']:\n",
    "                output.append(node.surface)\n",
    "        node = node.next\n",
    "        if node is None:\n",
    "            break\n",
    "    return output"
   ]
  },
  {
   "cell_type": "code",
   "execution_count": 21,
   "metadata": {
    "ExecuteTime": {
     "end_time": "2019-06-13T04:46:39.091937Z",
     "start_time": "2019-06-13T04:46:39.086354Z"
    }
   },
   "outputs": [],
   "source": [
    "# 全タイトルを取り出す関数を定義\n",
    "def get_title():\n",
    "    try:\n",
    "        connect()\n",
    "        cursor = conn.cursor()\n",
    "        res = cursor.execute(\"SELECT title FROM Reviews\")\n",
    "        res = cursor.fetchall()\n",
    "        return res\n",
    "    finally:\n",
    "        close()"
   ]
  },
  {
   "cell_type": "code",
   "execution_count": 9,
   "metadata": {
    "ExecuteTime": {
     "end_time": "2019-06-13T04:42:18.478817Z",
     "start_time": "2019-06-13T04:42:18.474859Z"
    }
   },
   "outputs": [],
   "source": [
    "# 全レビューを取り出す関数を定義\n",
    "def get_review():\n",
    "    try:\n",
    "        connect()\n",
    "        cursor = conn.cursor()\n",
    "        res = cursor.execute(\"SELECT review FROM Reviews\")\n",
    "        res = cursor.fetchall()\n",
    "        return res\n",
    "    finally:\n",
    "        close()"
   ]
  },
  {
   "cell_type": "code",
   "execution_count": 43,
   "metadata": {
    "ExecuteTime": {
     "end_time": "2019-06-13T02:21:49.130494Z",
     "start_time": "2019-06-13T02:21:49.126858Z"
    }
   },
   "outputs": [],
   "source": [
    "# 指定したアニメのレビューを取り出す関数を定義\n",
    "def get_review_solo(title):\n",
    "    try:\n",
    "        connect()\n",
    "        cursor = conn.cursor()\n",
    "        res = cursor.execute(\"SELECT review FROM Reviews WHERE title = ?\",(title,))\n",
    "        res = cursor.fetchall()\n",
    "        return res\n",
    "    finally:\n",
    "        close()"
   ]
  },
  {
   "cell_type": "code",
   "execution_count": 12,
   "metadata": {
    "ExecuteTime": {
     "end_time": "2019-06-13T04:44:56.161179Z",
     "start_time": "2019-06-13T04:42:36.359233Z"
    }
   },
   "outputs": [],
   "source": [
    "wakati = []\n",
    "for s in get_review():\n",
    "    wakati.append(mecab_analysis(s[0]))"
   ]
  },
  {
   "cell_type": "code",
   "execution_count": 13,
   "metadata": {
    "ExecuteTime": {
     "end_time": "2019-06-13T04:45:10.683686Z",
     "start_time": "2019-06-13T04:45:10.678699Z"
    }
   },
   "outputs": [],
   "source": [
    "# ストップワーズ\n",
    "stop_words=[\"(\",\")\",\"これ\",\"こと\",\"よう\",\"一\",\"的\",\"評価\",\"総合\",\"ところ\",\"の\",\"作\",\"回\",\"視聴\",\"それ\",\"?)\",\"さ\",\"ここ\",\"&\",\"!\",\"?\",\"もの\",\"作品\",\"ん\"]"
   ]
  },
  {
   "cell_type": "code",
   "execution_count": 14,
   "metadata": {
    "ExecuteTime": {
     "end_time": "2019-06-13T04:45:14.983853Z",
     "start_time": "2019-06-13T04:45:13.236686Z"
    }
   },
   "outputs": [],
   "source": [
    "# dataには分かち書きをjoinで合わせたテキストを入力。doc_idsはdataと同じ長さ(1~3000)の整数が入る\n",
    "data = []\n",
    "doc_ids = []\n",
    "for w in wakati:\n",
    "    stop = [a for a in w if a not in stop_words]\n",
    "    data.append(\" \".join(stop))\n",
    "\n",
    "doc_ids = [length+1 for length in range(len(data))]"
   ]
  },
  {
   "cell_type": "code",
   "execution_count": 18,
   "metadata": {
    "ExecuteTime": {
     "end_time": "2019-06-13T04:46:01.648597Z",
     "start_time": "2019-06-13T04:45:58.698217Z"
    }
   },
   "outputs": [],
   "source": [
    "vectorizer = TfidfVectorizer(analyzer=\"word\", max_df = 0.9)\n",
    "vecs = vectorizer.fit_transform(data)"
   ]
  },
  {
   "cell_type": "code",
   "execution_count": 2,
   "metadata": {
    "ExecuteTime": {
     "end_time": "2019-06-13T06:37:27.424566Z",
     "start_time": "2019-06-13T06:37:27.409410Z"
    }
   },
   "outputs": [],
   "source": [
    "# TF_IDFに関わる関数を定義\n",
    "# テーブルを作成\n",
    "def create_table_TF_IDF():\n",
    "    # DROP=消す.\n",
    "    conn.execute(\"DROP TABLE IF EXISTS TF_IDF\")\n",
    "    conn.execute(\"\"\"CREATE TABLE TF_IDF (\n",
    "            id INTEGER PRIMARY KEY AUTOINCREMENT,\n",
    "            title TEXT,\n",
    "            text TEXT\n",
    "    )\"\"\")\n",
    "    \n",
    "def load_TF_IDF(title,text):\n",
    "    try:\n",
    "        connect()\n",
    "        conn.execute(\"INSERT INTO TF_IDF (title,text) VALUES (?,?)\", (title,text))\n",
    "        conn.commit()\n",
    "    finally:\n",
    "        close()\n",
    "        \n",
    "# 指定したアニメの重要単語を取り出す関数を定義\n",
    "def get_word_solo(title):\n",
    "    try:\n",
    "        connect()\n",
    "        cursor = conn.cursor()\n",
    "        res = cursor.execute(\"SELECT text FROM TF_IDF WHERE title = ?\",(title,))\n",
    "        res = cursor.fetchone()\n",
    "        return res\n",
    "    finally:\n",
    "        close()\n",
    "        \n",
    "# 全ての重要単語を取り出す関数を定義\n",
    "def get_all_word():\n",
    "    try:\n",
    "        connect()\n",
    "        cursor = conn.cursor()\n",
    "        res = cursor.execute(\"SELECT text FROM TF_IDF\")\n",
    "        res = cursor.fetchall()\n",
    "        return res\n",
    "    finally:\n",
    "        close()\n",
    "        \n",
    "# textからタイトルを取り出す\n",
    "def title_from_word(word):\n",
    "    try:\n",
    "        connect()\n",
    "        cursor = conn.cursor()\n",
    "        res = cursor.execute(\"SELECT title FROM TF_IDF WHERE text = ?\",(word,))\n",
    "        res = cursor.fetchone()\n",
    "        return res\n",
    "    finally:\n",
    "        close()\n",
    "        \n",
    "def rate_from_title(title):\n",
    "    try:\n",
    "        connect()\n",
    "        cursor = conn.cursor()\n",
    "        res = cursor.execute(\"SELECT rate FROM Reviews WHERE title = ?\",(title,))\n",
    "        res = cursor.fetchone()\n",
    "        return res\n",
    "    finally:\n",
    "        close()"
   ]
  },
  {
   "cell_type": "code",
   "execution_count": 90,
   "metadata": {
    "ExecuteTime": {
     "end_time": "2019-06-13T04:59:58.929526Z",
     "start_time": "2019-06-13T04:59:58.866884Z"
    }
   },
   "outputs": [],
   "source": [
    "try:\n",
    "    connect()\n",
    "    create_table_TF_IDF()\n",
    "finally:\n",
    "    close()"
   ]
  },
  {
   "cell_type": "code",
   "execution_count": 16,
   "metadata": {
    "ExecuteTime": {
     "end_time": "2019-06-13T08:26:47.439953Z",
     "start_time": "2019-06-13T08:26:47.414132Z"
    }
   },
   "outputs": [
    {
     "ename": "NameError",
     "evalue": "name 'doc_ids' is not defined",
     "output_type": "error",
     "traceback": [
      "\u001b[0;31m---------------------------------------------------------------------------\u001b[0m",
      "\u001b[0;31mNameError\u001b[0m                                 Traceback (most recent call last)",
      "\u001b[0;32m<ipython-input-16-137201a26b34>\u001b[0m in \u001b[0;36m<module>\u001b[0;34m\u001b[0m\n\u001b[0;32m----> 1\u001b[0;31m \u001b[0;32mfor\u001b[0m \u001b[0mdoc_id\u001b[0m\u001b[0;34m,\u001b[0m \u001b[0mvec\u001b[0m\u001b[0;34m,\u001b[0m \u001b[0mtitle\u001b[0m \u001b[0;32min\u001b[0m \u001b[0mzip\u001b[0m\u001b[0;34m(\u001b[0m\u001b[0mdoc_ids\u001b[0m\u001b[0;34m,\u001b[0m \u001b[0mvecs\u001b[0m\u001b[0;34m.\u001b[0m\u001b[0mtoarray\u001b[0m\u001b[0;34m(\u001b[0m\u001b[0;34m)\u001b[0m\u001b[0;34m,\u001b[0m\u001b[0mget_title\u001b[0m\u001b[0;34m(\u001b[0m\u001b[0;34m)\u001b[0m\u001b[0;34m)\u001b[0m\u001b[0;34m:\u001b[0m\u001b[0;34m\u001b[0m\u001b[0;34m\u001b[0m\u001b[0m\n\u001b[0m\u001b[1;32m      2\u001b[0m \u001b[0;31m#     print(doc_id, title[0])\u001b[0m\u001b[0;34m\u001b[0m\u001b[0;34m\u001b[0m\u001b[0;34m\u001b[0m\u001b[0m\n\u001b[1;32m      3\u001b[0m     \u001b[0mtext\u001b[0m \u001b[0;34m=\u001b[0m \u001b[0;34m[\u001b[0m\u001b[0;34m]\u001b[0m\u001b[0;34m\u001b[0m\u001b[0;34m\u001b[0m\u001b[0m\n\u001b[1;32m      4\u001b[0m     \u001b[0;32mfor\u001b[0m \u001b[0mw_id\u001b[0m\u001b[0;34m,\u001b[0m \u001b[0mtfidf\u001b[0m \u001b[0;32min\u001b[0m \u001b[0msorted\u001b[0m\u001b[0;34m(\u001b[0m\u001b[0menumerate\u001b[0m\u001b[0;34m(\u001b[0m\u001b[0mvec\u001b[0m\u001b[0;34m)\u001b[0m\u001b[0;34m,\u001b[0m \u001b[0mkey\u001b[0m\u001b[0;34m=\u001b[0m\u001b[0;32mlambda\u001b[0m \u001b[0mx\u001b[0m\u001b[0;34m:\u001b[0m \u001b[0mx\u001b[0m\u001b[0;34m[\u001b[0m\u001b[0;36m1\u001b[0m\u001b[0;34m]\u001b[0m\u001b[0;34m,\u001b[0m\u001b[0mreverse\u001b[0m\u001b[0;34m=\u001b[0m\u001b[0;32mTrue\u001b[0m\u001b[0;34m)\u001b[0m\u001b[0;34m[\u001b[0m\u001b[0;34m:\u001b[0m\u001b[0;36m10\u001b[0m\u001b[0;34m]\u001b[0m\u001b[0;34m:\u001b[0m\u001b[0;34m\u001b[0m\u001b[0;34m\u001b[0m\u001b[0m\n\u001b[1;32m      5\u001b[0m         \u001b[0mlemma\u001b[0m \u001b[0;34m=\u001b[0m \u001b[0mvectorizer\u001b[0m\u001b[0;34m.\u001b[0m\u001b[0mget_feature_names\u001b[0m\u001b[0;34m(\u001b[0m\u001b[0;34m)\u001b[0m\u001b[0;34m[\u001b[0m\u001b[0mw_id\u001b[0m\u001b[0;34m]\u001b[0m\u001b[0;34m\u001b[0m\u001b[0;34m\u001b[0m\u001b[0m\n",
      "\u001b[0;31mNameError\u001b[0m: name 'doc_ids' is not defined"
     ]
    }
   ],
   "source": [
    "for doc_id, vec, title in zip(doc_ids, vecs.toarray(),get_title()):\n",
    "#     print(doc_id, title[0])\n",
    "    text = []\n",
    "    for w_id, tfidf in sorted(enumerate(vec), key=lambda x: x[1],reverse=True)[:10]:\n",
    "        lemma = vectorizer.get_feature_names()[w_id]\n",
    "        text.append(lemma)\n",
    "    load_TF_IDF(title[0],\" \".join(text))"
   ]
  },
  {
   "cell_type": "code",
   "execution_count": 15,
   "metadata": {
    "ExecuteTime": {
     "end_time": "2019-06-13T08:12:31.734501Z",
     "start_time": "2019-06-13T08:11:19.715931Z"
    }
   },
   "outputs": [
    {
     "name": "stdout",
     "output_type": "stream",
     "text": [
      "タイトルを入力してください：ケムリクサ\n",
      "評価の誤差を入力してください(小数点)：0.1\n",
      "['ケムリクサ', '精霊の守り人', 'ダンジョンに出会いを求めるのは間違っているだろうか', '百日紅〜Miss HOKUSAI〜', 'ソードアート・オンライン アリシゼーション', '君の名は。', 'この音とまれ!', 'シュガー・ラッシュ オンライン', 'どろろ(どろろと百鬼丸)', 'モブサイコ100', '灰と幻想のグリムガル', 'LAIDBACKERS-レイドバッカーズ-', 'わかば*ガール', '雲のむこう、約束の場所', 'フタコイ オルタナティブ (双恋 ユーフォーテーブル版)', '未来のミライ', 'SSSS.GRIDMAN(グリッドマン)', 'それでも世界は美しい', 'ガールズ&パンツァー', 'ROBOTICS;NOTES(ロボティクス・ノーツ)', 'ビビッドレッド・オペレーション', 'キョロちゃん', 'ハクメイとミコチ', '幻夢戦記レダ', 'アラジン', 'ワールド・デストラクション〜世界撲滅の六人〜', '魔法少女隊アルス', 'はたらく魔王さま!', 'ノーゲーム・ノーライフ', '棺姫のチャイカ', 'カイバ', 'Baby Princess 3Dぱらだいす0', '鴉 -KARAS-', 'リトルウィッチアカデミア 魔法仕掛けのパレード', '彼氏彼女の事情', '異世界食堂', '人類は衰退しました', '刀剣乱舞-花丸-', 'うらら迷路帖', 'アキカン!', 'ルパン三世 カリオストロの城', '神撃のバハムート VIRGIN SOUL', 'NEW GAME!!(第2期)', '京騒戯画 (TVシリーズ版)', '怪盗グルーの月泥棒 3D', '平成イヌ物語バウ', 'パプリカ', 'ゴクドーくん漫遊記', 'ツインエンジェルBREAK', '未確認で進行形', '名犬ラッシー', 'ゼロの使い魔', 'おとめ妖怪 ざくろ', '神撃のバハムート GENESIS', 'ドラえもん のび太のドラビアンナイト', 'ログ・ホライズン(第1シリーズ)', 'DARKER THAN BLACK -黒の契約者-', 'まおゆう魔王勇者', 'クオリディア・コード', '御先祖様万々歳!', 'Dimension W(ディメンション ダブリュー)', '三者三葉']\n"
     ]
    }
   ],
   "source": [
    "title_input=input(\"タイトルを入力してください：\")\n",
    "\n",
    "all_word = [other_word[0].split() for other_word in get_all_word()]\n",
    "f = float(input(\"評価の誤差を入力してください(小数点)：\"))\n",
    "success = []\n",
    "for other_word in all_word:\n",
    "    for word in get_word_solo(title_input)[0].split():\n",
    "        if word in other_word:\n",
    "            if rate_from_title(title_input)[0]-f <= rate_from_title(title_from_word(\" \".join(other_word))[0])[0] and rate_from_title(title_input)[0]+f >= rate_from_title(title_from_word(\" \".join(other_word))[0])[0]:\n",
    "                success.append(title_from_word(\" \".join(other_word))[0])\n",
    "                break\n",
    "\n",
    "print(success)"
   ]
  }
 ],
 "metadata": {
  "kernelspec": {
   "display_name": "Python 3",
   "language": "python",
   "name": "python3"
  },
  "language_info": {
   "codemirror_mode": {
    "name": "ipython",
    "version": 3
   },
   "file_extension": ".py",
   "mimetype": "text/x-python",
   "name": "python",
   "nbconvert_exporter": "python",
   "pygments_lexer": "ipython3",
   "version": "3.6.7"
  },
  "varInspector": {
   "cols": {
    "lenName": 16,
    "lenType": 16,
    "lenVar": 40
   },
   "kernels_config": {
    "python": {
     "delete_cmd_postfix": "",
     "delete_cmd_prefix": "del ",
     "library": "var_list.py",
     "varRefreshCmd": "print(var_dic_list())"
    },
    "r": {
     "delete_cmd_postfix": ") ",
     "delete_cmd_prefix": "rm(",
     "library": "var_list.r",
     "varRefreshCmd": "cat(var_dic_list()) "
    }
   },
   "types_to_exclude": [
    "module",
    "function",
    "builtin_function_or_method",
    "instance",
    "_Feature"
   ],
   "window_display": false
  }
 },
 "nbformat": 4,
 "nbformat_minor": 2
}
