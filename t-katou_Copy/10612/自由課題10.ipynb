{
 "cells": [
  {
   "cell_type": "code",
   "execution_count": 115,
   "metadata": {
    "ExecuteTime": {
     "end_time": "2019-06-12T07:05:44.440766Z",
     "start_time": "2019-06-12T07:05:44.406184Z"
    }
   },
   "outputs": [],
   "source": [
    "import MeCab as mc\n",
    "import re\n",
    "import requests\n",
    "from bs4 import BeautifulSoup\n",
    "import sqlite3\n",
    "import oseti\n",
    "\n",
    "from gensim.models import Word2Vec"
   ]
  },
  {
   "cell_type": "code",
   "execution_count": 116,
   "metadata": {
    "ExecuteTime": {
     "end_time": "2019-06-12T07:05:46.424414Z",
     "start_time": "2019-06-12T07:05:46.358453Z"
    }
   },
   "outputs": [],
   "source": [
    "o = oseti.Analyzer()"
   ]
  },
  {
   "cell_type": "code",
   "execution_count": 33,
   "metadata": {
    "ExecuteTime": {
     "end_time": "2019-06-12T04:51:27.667062Z",
     "start_time": "2019-06-12T04:51:27.658083Z"
    }
   },
   "outputs": [],
   "source": [
    "conn = None\n",
    "\n",
    "# データベースに接続する\n",
    "def connect():\n",
    "    global conn\n",
    "    conn = sqlite3.connect(\"./anime.db\")\n",
    "    \n",
    "# コネクションを断つ\n",
    "def close():\n",
    "    conn.close()\n",
    "    \n",
    "# テーブル作成\n",
    "def create_table_Url():\n",
    "    # DROP=消す.\n",
    "    conn.execute(\"DROP TABLE IF EXISTS Url\")\n",
    "    conn.execute(\"\"\"CREATE TABLE Url (\n",
    "            id INTEGER PRIMARY KEY AUTOINCREMENT,\n",
    "            url TEXT\n",
    "    )\"\"\")\n",
    "\n",
    "def create_table_Reviews():\n",
    "    # DROP=消す.\n",
    "    conn.execute(\"DROP TABLE IF EXISTS Reviews\")\n",
    "    conn.execute(\"\"\"CREATE TABLE Reviews (\n",
    "            id INTEGER PRIMARY KEY AUTOINCREMENT,\n",
    "            title TEXT,\n",
    "            review TEXT,\n",
    "            rate FLOAT\n",
    "    )\"\"\")\n",
    "    \n",
    "def load_Url(url):\n",
    "    conn.execute(\"INSERT INTO Url (url) VALUES (?)\", (url,))\n",
    "    conn.commit()\n",
    "    \n",
    "def load_Reviews(title, review, rate):\n",
    "    conn.execute(\"INSERT INTO Reviews (title,review,rate) VALUES (?,?,?)\", (title,review,rate))\n",
    "    conn.commit()"
   ]
  },
  {
   "cell_type": "code",
   "execution_count": null,
   "metadata": {},
   "outputs": [],
   "source": [
    "url = 'https://sakuhindb.com'\n",
    "next_url = \"/anime/anime.html\""
   ]
  },
  {
   "cell_type": "code",
   "execution_count": 111,
   "metadata": {
    "ExecuteTime": {
     "end_time": "2019-06-12T06:56:18.266618Z",
     "start_time": "2019-06-12T06:54:52.722548Z"
    }
   },
   "outputs": [
    {
     "name": "stdout",
     "output_type": "stream",
     "text": [
      "1回目\n",
      "2回目\n",
      "3回目\n",
      "4回目\n",
      "5回目\n",
      "6回目\n",
      "7回目\n",
      "8回目\n",
      "9回目\n",
      "10回目\n",
      "11回目\n",
      "12回目\n",
      "13回目\n",
      "14回目\n",
      "15回目\n",
      "16回目\n",
      "17回目\n",
      "18回目\n",
      "19回目\n",
      "20回目\n",
      "21回目\n",
      "22回目\n",
      "23回目\n",
      "24回目\n",
      "25回目\n",
      "26回目\n",
      "27回目\n",
      "28回目\n",
      "29回目\n",
      "30回目\n"
     ]
    }
   ],
   "source": [
    "try:\n",
    "    connect()\n",
    "    create_table_Url()\n",
    "finally:\n",
    "    close()\n",
    "\n",
    "for i in range(30):\n",
    "    next_url = next_page(url,next_url,i)\n",
    "    print(str(i+1)+\"回目\")"
   ]
  },
  {
   "cell_type": "code",
   "execution_count": 29,
   "metadata": {
    "ExecuteTime": {
     "end_time": "2019-06-12T04:50:37.986023Z",
     "start_time": "2019-06-12T04:50:37.977752Z"
    }
   },
   "outputs": [],
   "source": [
    "def next_page(url,next_url,i):\n",
    "    try:\n",
    "        connect()\n",
    "        r = requests.get(url+next_url)\n",
    "        html_soup = BeautifulSoup(r.text, 'html.parser')\n",
    "        new_url_all = [r[\"href\"] for r in html_soup.find(\"td\", class_ =\"article container\").find_all(\"a\")]\n",
    "        next_url = new_url_all[len(new_url_all)-1]\n",
    "        if i != 0:\n",
    "            del new_url_all[0:2]\n",
    "            del new_url_all[len(new_url_all)-2:]\n",
    "        else:\n",
    "            del new_url_all[len(new_url_all)-1]\n",
    "        for new_url in new_url_all:\n",
    "            load_Url(new_url)\n",
    "        return next_url\n",
    "    finally:\n",
    "        close()"
   ]
  },
  {
   "cell_type": "code",
   "execution_count": 39,
   "metadata": {
    "ExecuteTime": {
     "end_time": "2019-06-12T05:01:42.207172Z",
     "start_time": "2019-06-12T05:01:42.201287Z"
    }
   },
   "outputs": [],
   "source": [
    "def get_url():\n",
    "    try:\n",
    "        connect()\n",
    "        cursor = conn.cursor()\n",
    "        res = cursor.execute(\"SELECT url FROM Url\")\n",
    "        res = cursor.fetchall()\n",
    "        return res\n",
    "    finally:\n",
    "        close()"
   ]
  },
  {
   "cell_type": "code",
   "execution_count": 137,
   "metadata": {
    "ExecuteTime": {
     "end_time": "2019-06-12T07:49:51.284873Z",
     "start_time": "2019-06-12T07:49:51.272943Z"
    }
   },
   "outputs": [],
   "source": [
    "def l_R(url,g_u):\n",
    "    r = requests.get(url+g_u)\n",
    "    res_soup = BeautifulSoup(r.content, 'html.parser')\n",
    "    f_table = res_soup.find(\"td\", class_=\"padding_cell\").find_all(\"div\", itemprop=\"reviewBody\")\n",
    "    text_all=\"\"\n",
    "    for text in f_table:\n",
    "        text_all += text.text\n",
    "\n",
    "    rate_all=[]\n",
    "    for rate in o.analyze(text_all):\n",
    "        if int(rate) != 0:\n",
    "            rate_all.append(rate)\n",
    "    \n",
    "    if len(rate_all)==0:\n",
    "        rate = 0.0\n",
    "    else:\n",
    "        rate=sum(rate_all)/len(rate_all)\n",
    "    title = res_soup.find(\"span\", itemprop=\"name\").text\n",
    "    try:\n",
    "        connect()\n",
    "        load_Reviews(title, text_all, rate)\n",
    "    finally:\n",
    "        close()"
   ]
  },
  {
   "cell_type": "code",
   "execution_count": 138,
   "metadata": {
    "ExecuteTime": {
     "end_time": "2019-06-12T09:28:33.489783Z",
     "start_time": "2019-06-12T07:49:59.504939Z"
    }
   },
   "outputs": [],
   "source": [
    "try:\n",
    "    connect()\n",
    "    create_table_Reviews()\n",
    "finally:\n",
    "    close()\n",
    "for g_u in get_url():\n",
    "    l_R(url,g_u[0])"
   ]
  },
  {
   "cell_type": "code",
   "execution_count": null,
   "metadata": {},
   "outputs": [],
   "source": [
    "def mecab_analysis(texts):\n",
    "    t = mc.Tagger(\"\")\n",
    "    t.parse('')\n",
    "    output = []\n",
    "    node =  t.parseToNode(texts)  \n",
    "    while node:\n",
    "        if node.surface != \"\":  # ヘッダとフッタを除外\n",
    "            word_type = node.feature.split(\",\")[0]\n",
    "            if word_type in ['名詞']:\n",
    "                output.append(node.surface)\n",
    "        node = node.next\n",
    "        if node is None:\n",
    "            break\n",
    "    return output"
   ]
  },
  {
   "cell_type": "code",
   "execution_count": null,
   "metadata": {},
   "outputs": [],
   "source": [
    "def calc_similarity(text1,text2):\n",
    "    sim = model.similarity(text1,text2)\n",
    "    return sim"
   ]
  },
  {
   "cell_type": "code",
   "execution_count": null,
   "metadata": {},
   "outputs": [],
   "source": [
    "revs = []\n",
    "for rev in get_review(1):\n",
    "    revs.append(mecab_analysis(rev[0]))"
   ]
  },
  {
   "cell_type": "code",
   "execution_count": null,
   "metadata": {},
   "outputs": [],
   "source": [
    "model = Word2Vec(revs, size =100, window=5, min_count=1, workers=4)\n",
    "model.save(\"word2vec.model\")\n",
    "\n",
    "calc_similarity(\"BBQ\",\"テリヤキ\")\n",
    "\n",
    "similar_word = model.most_similar(positive=\"BBQ\")\n",
    "similar_word"
   ]
  },
  {
   "cell_type": "code",
   "execution_count": null,
   "metadata": {},
   "outputs": [],
   "source": []
  },
  {
   "cell_type": "code",
   "execution_count": null,
   "metadata": {},
   "outputs": [],
   "source": []
  }
 ],
 "metadata": {
  "kernelspec": {
   "display_name": "Python 3",
   "language": "python",
   "name": "python3"
  },
  "language_info": {
   "codemirror_mode": {
    "name": "ipython",
    "version": 3
   },
   "file_extension": ".py",
   "mimetype": "text/x-python",
   "name": "python",
   "nbconvert_exporter": "python",
   "pygments_lexer": "ipython3",
   "version": "3.6.7"
  },
  "varInspector": {
   "cols": {
    "lenName": 16,
    "lenType": 16,
    "lenVar": 40
   },
   "kernels_config": {
    "python": {
     "delete_cmd_postfix": "",
     "delete_cmd_prefix": "del ",
     "library": "var_list.py",
     "varRefreshCmd": "print(var_dic_list())"
    },
    "r": {
     "delete_cmd_postfix": ") ",
     "delete_cmd_prefix": "rm(",
     "library": "var_list.r",
     "varRefreshCmd": "cat(var_dic_list()) "
    }
   },
   "types_to_exclude": [
    "module",
    "function",
    "builtin_function_or_method",
    "instance",
    "_Feature"
   ],
   "window_display": false
  }
 },
 "nbformat": 4,
 "nbformat_minor": 2
}
