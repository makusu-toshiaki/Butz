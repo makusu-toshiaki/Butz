{
 "cells": [
  {
   "cell_type": "code",
   "execution_count": 7,
   "metadata": {
    "ExecuteTime": {
     "end_time": "2019-05-21T06:15:39.819752Z",
     "start_time": "2019-05-21T06:15:39.814508Z"
    }
   },
   "outputs": [],
   "source": [
    "import sqlite3\n",
    "import glob\n",
    "import urllib.parse\n",
    "import records\n",
    "import requests\n",
    "from bs4 import BeautifulSoup\n",
    "import MeCabe\n",
    "\n",
    "# import sqlite3litedatastore as datastore"
   ]
  },
  {
   "cell_type": "code",
   "execution_count": 10,
   "metadata": {
    "ExecuteTime": {
     "end_time": "2019-05-21T06:22:43.639644Z",
     "start_time": "2019-05-21T06:22:43.631028Z"
    }
   },
   "outputs": [],
   "source": [
    "conn = None\n",
    "\n",
    "# データベースに接続する\n",
    "def connect():\n",
    "    global conn\n",
    "    conn = sqlite3.connect(\"./sample.db\")\n",
    "    \n",
    "# コネクションを断つ\n",
    "def close():\n",
    "    conn.close()\n",
    "    \n",
    "# テーブル作成\n",
    "def create_table():\n",
    "    # DROPは消す.\n",
    "    conn.execute(\"DROP TABLE IF EXISTS countries\")\n",
    "    conn.execute(\"\"\"CREATE TABLE countries (\n",
    "            id INTEGER PRIMARY KEY AUTOINCREMENT,\n",
    "            country_name TEXT,\n",
    "            content TEXT\n",
    "    )\"\"\")\n",
    "    \n",
    "# loadは積むという意味\n",
    "def load(name, content):\n",
    "    conn.execute(\n",
    "        \"INSERT INTO Countries (country_name, content) VALUES (?,?)\", (name, content))\n",
    "    conn.commit()\n",
    "    \n",
    "def get(doc_id, fl):\n",
    "    row_ls = conn.execute(\n",
    "        \"SELECT {} FROM docs WHERE id = ?\".format(\",\".join(fl)),(doc_id,)).fetchone()\n",
    "    row_dict = {}\n",
    "    for key, value in zip(fl, row_ls):\n",
    "        row_dict[key] = value\n",
    "    return row_dict\n",
    "\n",
    "def get_all_ids(limit, offset=0):\n",
    "    return [record[0] for record in conn.execute(\"SELECT id FROM docs LIMIT ? OFFSET ?\",(limit, offset))]"
   ]
  },
  {
   "cell_type": "code",
   "execution_count": 18,
   "metadata": {
    "ExecuteTime": {
     "end_time": "2019-05-21T03:43:06.055352Z",
     "start_time": "2019-05-21T03:43:06.014042Z"
    }
   },
   "outputs": [],
   "source": [
    "if __name__ == \"__main__\":\n",
    "    connect()\n",
    "    create_table()\n",
    "    close()"
   ]
  },
  {
   "cell_type": "code",
   "execution_count": 11,
   "metadata": {
    "ExecuteTime": {
     "end_time": "2019-05-21T06:25:17.264473Z",
     "start_time": "2019-05-21T06:22:46.076541Z"
    }
   },
   "outputs": [],
   "source": [
    "url = \"https://ja.wikipedia.org\"\n",
    "r = requests.get(url+\"/wiki/国の一覧\")\n",
    "\n",
    "html_soup = BeautifulSoup(r.text, \"html.parser\")\n",
    "table = html_soup.find(\"table\",class_= \"wikitable\")\n",
    "connect()\n",
    "create_table()\n",
    "\n",
    "for tr in table.find_all(\"tr\"):\n",
    "    link = tr.find_all(\"a\")\n",
    "    if link:\n",
    "        country_name = a[1].text\n",
    "        country_link = a[1].get(\"href\")\n",
    "        \n",
    "        res = requests.get(url+country_link)\n",
    "        load(country_name,res.text)\n",
    "close()"
   ]
  },
  {
   "cell_type": "code",
   "execution_count": null,
   "metadata": {},
   "outputs": [],
   "source": [
    "db = records.Database('sqlite:///sample.db')\n",
    "db.query(\"\"\"SELECT  FROM Countries (\n",
    "         country_name text PRIMARY KEY,\n",
    "         content text)\"\"\")"
   ]
  },
  {
   "cell_type": "code",
   "execution_count": 20,
   "metadata": {
    "ExecuteTime": {
     "end_time": "2019-05-21T03:43:09.786537Z",
     "start_time": "2019-05-21T03:43:09.778912Z"
    }
   },
   "outputs": [],
   "source": [
    "if \"__name__\" == \"__main__\":\n",
    "    connect()\n",
    "    values = []\n",
    "    for filename in glob.glob(\"./data/wikipedia/*.html\"):\n",
    "        with open(filename) as fin:\n",
    "            html = fin.read()\n",
    "            text, title = scrape.scrape(html)\n",
    "            print(\"scraped:\", title)\n",
    "            url = \"https://ja.wikipedia.org/wiki/{0}\".format(urllib.parse.quote(title))\n",
    "            values.append((text, json.dumps({\"url\":url, \"title\":title})))\n",
    "    load(values)\n",
    "    \n",
    "    print(list(datastore.get_all_ids(limit=-1)))\n",
    "    close()\n",
    "    "
   ]
  },
  {
   "cell_type": "code",
   "execution_count": 21,
   "metadata": {
    "ExecuteTime": {
     "end_time": "2019-05-21T03:43:39.737600Z",
     "start_time": "2019-05-21T03:43:39.733193Z"
    }
   },
   "outputs": [],
   "source": [
    "if \"__name__\" == \"__main__\":\n",
    "    connect()\n",
    "    for doc_id in get_all_ids(limit=-1):\n",
    "        row = get(doc_id, [\"id\", \"content\", \"meta_info\"])\n",
    "        print(row[\"id\"], row[\"meta_info\"], row[\"content\"][:100])\n",
    "    close()\n"
   ]
  },
  {
   "cell_type": "code",
   "execution_count": 22,
   "metadata": {
    "ExecuteTime": {
     "end_time": "2019-05-21T03:43:48.708928Z",
     "start_time": "2019-05-21T03:43:48.701116Z"
    }
   },
   "outputs": [
    {
     "ename": "NameError",
     "evalue": "name 'row' is not defined",
     "output_type": "error",
     "traceback": [
      "\u001b[0;31m---------------------------------------------------------------------------\u001b[0m",
      "\u001b[0;31mNameError\u001b[0m                                 Traceback (most recent call last)",
      "\u001b[0;32m<ipython-input-22-5b237033bec9>\u001b[0m in \u001b[0;36m<module>\u001b[0;34m\u001b[0m\n\u001b[0;32m----> 1\u001b[0;31m \u001b[0mprint\u001b[0m\u001b[0;34m(\u001b[0m\u001b[0mjson\u001b[0m\u001b[0;34m.\u001b[0m\u001b[0mloads\u001b[0m\u001b[0;34m(\u001b[0m\u001b[0mrow\u001b[0m\u001b[0;34m[\u001b[0m\u001b[0;34m\"meta_info\"\u001b[0m\u001b[0;34m]\u001b[0m\u001b[0;34m)\u001b[0m\u001b[0;34m)\u001b[0m\u001b[0;34m\u001b[0m\u001b[0;34m\u001b[0m\u001b[0m\n\u001b[0m",
      "\u001b[0;31mNameError\u001b[0m: name 'row' is not defined"
     ]
    }
   ],
   "source": [
    "print(json.loads(row[\"meta_info\"]))"
   ]
  }
 ],
 "metadata": {
  "kernelspec": {
   "display_name": "Python 3",
   "language": "python",
   "name": "python3"
  },
  "language_info": {
   "codemirror_mode": {
    "name": "ipython",
    "version": 3
   },
   "file_extension": ".py",
   "mimetype": "text/x-python",
   "name": "python",
   "nbconvert_exporter": "python",
   "pygments_lexer": "ipython3",
   "version": "3.6.7"
  },
  "varInspector": {
   "cols": {
    "lenName": 16,
    "lenType": 16,
    "lenVar": 40
   },
   "kernels_config": {
    "python": {
     "delete_cmd_postfix": "",
     "delete_cmd_prefix": "del ",
     "library": "var_list.py",
     "varRefreshCmd": "print(var_dic_list())"
    },
    "r": {
     "delete_cmd_postfix": ") ",
     "delete_cmd_prefix": "rm(",
     "library": "var_list.r",
     "varRefreshCmd": "cat(var_dic_list()) "
    }
   },
   "types_to_exclude": [
    "module",
    "function",
    "builtin_function_or_method",
    "instance",
    "_Feature"
   ],
   "window_display": false
  }
 },
 "nbformat": 4,
 "nbformat_minor": 2
}
