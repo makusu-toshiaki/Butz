{
 "cells": [
  {
   "cell_type": "markdown",
   "metadata": {},
   "source": [
    "* Webクローリングとは\n",
    "「Webスクレイピング」と「Webクローリング」の違い\n",
    "Webクローリング:Webページを渡り歩くプログラムの機能であり、取得する情報が明確でなく、単にサイトのコピーを作成するのが目的。\n",
    "Webスクレイピング:Web上のデータをダウンロードして解析と整理をするエージェントを構築すること\n",
    "\n",
    "クローリングの対象は明確に決められた一連のページである。\n",
    "\n",
    "一般的な検討事項\n",
    "①実際に収集が必要なデータを慎重に検討する\n",
    "スクレイピングで済むならスクレイピングにする\n",
    "\n",
    "②データベースを使用する\n"
   ]
  }
 ],
 "metadata": {
  "kernelspec": {
   "display_name": "Python 3",
   "language": "python",
   "name": "python3"
  },
  "language_info": {
   "codemirror_mode": {
    "name": "ipython",
    "version": 3
   },
   "file_extension": ".py",
   "mimetype": "text/x-python",
   "name": "python",
   "nbconvert_exporter": "python",
   "pygments_lexer": "ipython3",
   "version": "3.6.7"
  },
  "varInspector": {
   "cols": {
    "lenName": 16,
    "lenType": 16,
    "lenVar": 40
   },
   "kernels_config": {
    "python": {
     "delete_cmd_postfix": "",
     "delete_cmd_prefix": "del ",
     "library": "var_list.py",
     "varRefreshCmd": "print(var_dic_list())"
    },
    "r": {
     "delete_cmd_postfix": ") ",
     "delete_cmd_prefix": "rm(",
     "library": "var_list.r",
     "varRefreshCmd": "cat(var_dic_list()) "
    }
   },
   "types_to_exclude": [
    "module",
    "function",
    "builtin_function_or_method",
    "instance",
    "_Feature"
   ],
   "window_display": false
  }
 },
 "nbformat": 4,
 "nbformat_minor": 2
}
