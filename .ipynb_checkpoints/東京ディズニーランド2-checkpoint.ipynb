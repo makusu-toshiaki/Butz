{
 "cells": [
  {
   "cell_type": "code",
   "execution_count": 1,
   "metadata": {},
   "outputs": [],
   "source": [
    "import time\n",
    "import re\n",
    "import requests\n",
    "from bs4 import BeautifulSoup\n",
    "from selenium import webdriver\n",
    "from selenium.webdriver.common.keys import Keys"
   ]
  },
  {
   "cell_type": "code",
   "execution_count": 14,
   "metadata": {},
   "outputs": [
    {
     "ename": "TypeError",
     "evalue": "'str' object is not callable",
     "output_type": "error",
     "traceback": [
      "\u001b[1;31m---------------------------------------------------------------------------\u001b[0m",
      "\u001b[1;31mTypeError\u001b[0m                                 Traceback (most recent call last)",
      "\u001b[1;32m<ipython-input-14-4cbc46171686>\u001b[0m in \u001b[0;36m<module>\u001b[1;34m\u001b[0m\n\u001b[1;32m----> 1\u001b[1;33m \u001b[0mprint\u001b[0m\u001b[1;33m(\u001b[0m\u001b[0mstr\u001b[0m\u001b[1;33m(\u001b[0m\u001b[1;36m2\u001b[0m\u001b[1;33m)\u001b[0m\u001b[1;33m)\u001b[0m\u001b[1;33m\u001b[0m\u001b[1;33m\u001b[0m\u001b[0m\n\u001b[0m\u001b[0;32m      2\u001b[0m \u001b[0mp\u001b[0m \u001b[1;33m=\u001b[0m \u001b[0minput\u001b[0m\u001b[1;33m(\u001b[0m\u001b[1;34m\"検索したい場所を入力してください\"\u001b[0m\u001b[1;33m)\u001b[0m\u001b[1;33m\u001b[0m\u001b[1;33m\u001b[0m\u001b[0m\n\u001b[0;32m      3\u001b[0m \u001b[0murl\u001b[0m \u001b[1;33m=\u001b[0m \u001b[1;34m\"https://www.google.com/maps/?hl=ja\"\u001b[0m\u001b[1;33m\u001b[0m\u001b[1;33m\u001b[0m\u001b[0m\n\u001b[0;32m      4\u001b[0m \u001b[0mdriver_exe\u001b[0m\u001b[1;33m=\u001b[0m\u001b[1;34m\"C:\\\\Users\\\\toshiro\\\\Desktop\\\\ttc\\\\chromedriver.exe\"\u001b[0m\u001b[1;33m\u001b[0m\u001b[1;33m\u001b[0m\u001b[0m\n\u001b[0;32m      5\u001b[0m \u001b[1;31m# driver_exe=\"/mnt/c/Users/t-katou/Desktop/makusu/chromedriver.exe\"\u001b[0m\u001b[1;33m\u001b[0m\u001b[1;33m\u001b[0m\u001b[1;33m\u001b[0m\u001b[0m\n",
      "\u001b[1;31mTypeError\u001b[0m: 'str' object is not callable"
     ]
    }
   ],
   "source": [
    "print(str(2))\n",
    "p = input(\"検索したい場所を入力してください\")\n",
    "url = \"https://www.google.com/maps/?hl=ja\"\n",
    "driver_exe=\"C:\\\\Users\\\\toshiro\\\\Desktop\\\\ttc\\\\chromedriver.exe\"      \n",
    "# driver_exe=\"/mnt/c/Users/t-katou/Desktop/makusu/chromedriver.exe\"\n",
    "\n",
    "# options = webdriver.ChromeOptions()\n",
    "# options.add_argument(\"--headless\")\n",
    "# options.add_argument(\"--disable-gpu\")\n",
    "# , options = options\n",
    "\n",
    "def search(i):\n",
    "    bs = BeautifulSoup(driver.page_source, \"html.parser\")\n",
    "    driver.find_element_by_xpath(\"//div[@data-result-index='\"+i+\"']\").click()\n",
    "    time.sleep(5)\n",
    "    bs = BeautifulSoup(driver.page_source, \"html.parser\")\n",
    "    \n",
    "    star = bs.find(\"span\", class_=\"section-star-display\")\n",
    "    print(star.text)\n",
    "    name = bs.find(\"h1\", class_=\"section-hero-header-title GLOBAL__gm2-headline-5\")\n",
    "    print(name.text)\n",
    "\n",
    "try:\n",
    "    driver = webdriver.Chrome(driver_exe)\n",
    "    driver.get(url)\n",
    "    driver.implicitly_wait(10)\n",
    "    driver.find_element_by_id(\"searchboxinput\").send_keys(p)\n",
    "    driver.find_element_by_id(\"searchboxinput\").send_keys(Keys.ENTER)\n",
    "    time.sleep(10)\n",
    "    bs = BeautifulSoup(driver.page_source, \"html.parser\")\n",
    "    \n",
    "    i = 1\n",
    "    while i < 3:\n",
    "        search(i)\n",
    "        i += 1\n",
    "    \n",
    "    input(\"ENTERを入力したらChromeを閉じます\")\n",
    "#     while True:\n",
    "#         search(str(i))    \n",
    "    \n",
    "# #     driver.find_element_by_xpath(\"//button[@class='section-back-to-list-button blue-link noprint']\").click()\n",
    "#     driver.back()\n",
    "#     time.sleep(5)\n",
    "#     bs = BeautifulSoup(driver.page_source, \"html.parser\")\n",
    "#     driver.find_element_by_xpath(\"//div[@data-result-index='2']\").click()\n",
    "#     time.sleep(5)\n",
    "#     bs = BeautifulSoup(driver.page_source, \"html.parser\")\n",
    "    \n",
    "#     star = bs.find(\"span\", class_=\"section-star-display\")\n",
    "#     print(star.text)\n",
    "#     name = bs.find(\"h1\", class_=\"section-hero-header-title GLOBAL__gm2-headline-5\")\n",
    "#     print(name.text)\n",
    "    \n",
    "#     driver.back()\n",
    "#     time.sleep(5)\n",
    "#     bs = BeautifulSoup(driver.page_source, \"html.parser\")\n",
    "#     driver.find_element_by_xpath(\"//div[@data-result-index='3']\").click()\n",
    "#     time.sleep(5)\n",
    "#     bs = BeautifulSoup(driver.page_source, \"html.parser\")\n",
    "    \n",
    "#     star = bs.find(\"span\", class_=\"section-star-display\")\n",
    "#     print(star.text)\n",
    "#     name = bs.find(\"h1\", class_=\"section-hero-header-title GLOBAL__gm2-headline-5\")\n",
    "#     print(name.text)\n",
    "    \n",
    "#     input(\"ENTERを入力したらChromeを閉じます\")\n",
    "finally:\n",
    "    driver.quit()"
   ]
  }
 ],
 "metadata": {
  "kernelspec": {
   "display_name": "Python 3",
   "language": "python",
   "name": "python3"
  },
  "language_info": {
   "codemirror_mode": {
    "name": "ipython",
    "version": 3
   },
   "file_extension": ".py",
   "mimetype": "text/x-python",
   "name": "python",
   "nbconvert_exporter": "python",
   "pygments_lexer": "ipython3",
   "version": "3.7.3"
  }
 },
 "nbformat": 4,
 "nbformat_minor": 2
}
