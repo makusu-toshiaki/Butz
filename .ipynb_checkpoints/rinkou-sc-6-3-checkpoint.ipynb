{
 "cells": [
  {
   "cell_type": "code",
   "execution_count": null,
   "metadata": {},
   "outputs": [],
   "source": [
    "import requests\n",
    "import records\n",
    "from bs4 import BeautifulSoup\n",
    "from urllib.parse import urljoin\n",
    "from sqlalchemy.exc import IntegrityError"
   ]
  },
  {
   "cell_type": "code",
   "execution_count": null,
   "metadata": {},
   "outputs": [],
   "source": [
    "db = records.Database(\"sqlite:///crawler_database.db\")\n",
    "db.query(\"\"\"CREATE TABLE IF NOT EXISTS links (\n",
    "            url text PRIMARY KEY,\n",
    "            created_at datetime,\n",
    "            visited_at datetime NULL)\"\"\")\n",
    "db.query(\"\"\"CREATE TABLE IF NOT EXISTS numbers (url text, number integer,\n",
    "            PRIMARY KEY (url, number))\"\"\")\n",
    "\n",
    "def store_link(url):\n",
    "    try:\n",
    "        db.query(\"\"\"INSERT INTO links (url, created_at)\n",
    "                    VALUES ):url, CURRENT_TIMESTAMP\"\"\", url=url)\n",
    "    except IntegrityError as ie:\n",
    "        # このリンクは存在するので何もしない\n",
    "        pass\n",
    "\n",
    "def store_number(url, number):\n",
    "    try:\n",
    "        db.query(\"\"\"INSERT INTO numbers (url, number)\n",
    "                    VALUES (:url, :number)\"\"\", url=url, number=number)\n",
    "    except IntegrityError as ie:\n",
    "        # この数字は存在するので何もしない\n",
    "        pass\n",
    "    \n",
    "def mark_visited(url):\n",
    "    db.query(\"\"\"UPDATE links SET visited_at = CURRENT_TIMESTAMP\n",
    "                WHERE url=:url\"\"\", url=url)\n",
    "    \n",
    "def get_random_unvisited_link():\n",
    "    link = db.query(\"\"\"SELECT * FROM links\n",
    "                        WHERE visited_at IS NULL\n",
    "                        ORDER BY RANDOM() LIMIT 1\"\"\").first()\n",
    "    return None if link is None else link.url\n",
    "\n",
    "# ここからは書いてない！！"
   ]
  }
 ],
 "metadata": {
  "kernelspec": {
   "display_name": "Python 3",
   "language": "python",
   "name": "python3"
  },
  "language_info": {
   "codemirror_mode": {
    "name": "ipython",
    "version": 3
   },
   "file_extension": ".py",
   "mimetype": "text/x-python",
   "name": "python",
   "nbconvert_exporter": "python",
   "pygments_lexer": "ipython3",
   "version": "3.7.3"
  }
 },
 "nbformat": 4,
 "nbformat_minor": 2
}
