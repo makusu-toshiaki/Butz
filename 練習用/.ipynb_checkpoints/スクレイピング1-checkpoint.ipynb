{
 "cells": [
  {
   "cell_type": "code",
   "execution_count": 3,
   "metadata": {},
   "outputs": [
    {
     "ename": "ModuleNotFoundError",
     "evalue": "No module named 'records'",
     "output_type": "error",
     "traceback": [
      "\u001b[1;31m---------------------------------------------------------------------------\u001b[0m",
      "\u001b[1;31mModuleNotFoundError\u001b[0m                       Traceback (most recent call last)",
      "\u001b[1;32m<ipython-input-3-a9a7ba0f7eb8>\u001b[0m in \u001b[0;36m<module>\u001b[1;34m\u001b[0m\n\u001b[0;32m      4\u001b[0m \u001b[1;32mimport\u001b[0m \u001b[0msqlite3\u001b[0m\u001b[1;33m\u001b[0m\u001b[1;33m\u001b[0m\u001b[0m\n\u001b[0;32m      5\u001b[0m \u001b[1;32mimport\u001b[0m \u001b[0murllib\u001b[0m\u001b[1;33m.\u001b[0m\u001b[0mparse\u001b[0m\u001b[1;33m\u001b[0m\u001b[1;33m\u001b[0m\u001b[0m\n\u001b[1;32m----> 6\u001b[1;33m \u001b[1;32mimport\u001b[0m \u001b[0mrecords\u001b[0m\u001b[1;33m\u001b[0m\u001b[1;33m\u001b[0m\u001b[0m\n\u001b[0m",
      "\u001b[1;31mModuleNotFoundError\u001b[0m: No module named 'records'"
     ]
    }
   ],
   "source": [
    "from bs4 import BeautifulSoup\n",
    "import re\n",
    "import requests\n",
    "import sqlite3\n",
    "import urllib.parse\n",
    "import records"
   ]
  },
  {
   "cell_type": "code",
   "execution_count": 24,
   "metadata": {
    "scrolled": false
   },
   "outputs": [
    {
     "name": "stdout",
     "output_type": "stream",
     "text": [
      "このゲームにおけるキープ値(自身の攻撃中に怯まなくなる)がHP攻撃を除くと一番高い。カット値(キープ値より高い攻撃を当てた場合、怯ませることが出来る)も高いため他のタイプより相手の攻撃中に妨害しやすい。SHOOTほどではないが、そこそこ優秀な遠距離攻撃を持つキャラクターが多く、序盤でも手を出しやすい。ブレイブ攻撃の火力が高い。EXスキルのマイティストライクをかけて近接ブレイブ攻撃を当てればブレイブ初期値(1000)の敵を一発で割ることが出来る。攻撃中に近寄ってきた別の敵からの妨害をやや受けにくく、前述したキープ値も高いので最後まで振りやすい。\n",
      "火力は高いが、発生まで遅いため、先出ししないとやられやすい。その場で動き、特にコンボの終わり際で止まる攻撃が多いため、攻撃の隙を取られやすい。機動力が全体的に低く、相手を追いかけるのも逃げるのも苦手。\n",
      "ダッシュが全体的に速いため、追うも逃げるも得意。攻撃の発生が全体的に早く、直線的なため攻撃を当てやすい。3段ジャンプが可能なため、緩急のメリハリがつきやすく、相手を揺さぶりやすい。よく動くブレイブ攻撃が多く、相手からの妨害が他と比べて当たりにくい。機動力の高さや攻撃の当てやすさから味方がピンチの時の救援がやりやすい。\n",
      "攻撃自体は当てやすいが、その分ブレイブ攻撃の火力がやや低いのでダメージレースで負けやすい。牽制や遠距離の攻撃がない、若しくはクセがかなり強いキャラが多く、魔法接触判定も貧弱なため序盤はやや手を出しにくい。SHOOT以外の1vs1の状態になったとき、他のタイプ以上に真正面から技を振りにくい。コアへの攻撃可能レンジや効率がイマイチである事が多く、コアを割るのはあまり得意ではない。\n",
      "攻撃自体は近距離から遠距離まで揃っているため、どんな距離でも戦いやすい。そのキャラに定められた条件を満たせば他のタイプでは真似できない長所が生まれる。尖っている部分が他より分かりやすいため、一部で強気に出やすい。\n",
      "他のタイプよりブレイブ攻撃にクセが強いものが多い。火力が低かったり、地上空中で大きく性能が違ったり。キャラによって様々だが特に序盤が貧弱。そのため、序盤で大きくリードされると巻き返しがやや狙いにくい。\n",
      "ブレイブ攻撃の射程が長く、他のタイプより安全に攻撃できる。ダッシュ入力から移動を開始するまでの時間はSPEEDより短い。そのため、安全なポジションに移動しやすい。序盤は相手の遠距離攻撃を自身の遠距離攻撃で打ち消しやすく、中距離以遠からの撃ち合いにも強い\n",
      "安全に攻撃できる分、火力が低い。一応自分の身を護る手段もあるにはあるが、それでも中距離からそれ以上踏み込まれると弱い。ダッシュの溜めは短いが、足回りは重く、発生も早い攻撃が少ないので全体的に先読みする必要がある。\n"
     ]
    }
   ],
   "source": [
    "url = \"http://dffac-wiki.net/index.php?【初歩：ブロンズ～】：キャラクター選び・お勧めキャラクター\"\n",
    "r = requests.get(url)\n",
    "\n",
    "html_soup = BeautifulSoup(r.text, \"html.parser\")\n",
    "# print(html_soup)\n",
    "\n",
    "a = html_soup.find(\"table\",class_=\"style_table\")\n",
    "b = a.find_all(\"tr\")\n",
    "for type_4 in b[1:]:\n",
    "    hsus = type_4.find_all(\"td\",class_=\"style_td\")\n",
    "    for i in hsus[1:]:\n",
    "        print(i.text)\n",
    "        "
   ]
  },
  {
   "cell_type": "code",
   "execution_count": null,
   "metadata": {},
   "outputs": [],
   "source": []
  }
 ],
 "metadata": {
  "kernelspec": {
   "display_name": "Python 3",
   "language": "python",
   "name": "python3"
  },
  "language_info": {
   "codemirror_mode": {
    "name": "ipython",
    "version": 3
   },
   "file_extension": ".py",
   "mimetype": "text/x-python",
   "name": "python",
   "nbconvert_exporter": "python",
   "pygments_lexer": "ipython3",
   "version": "3.7.3"
  }
 },
 "nbformat": 4,
 "nbformat_minor": 2
}
