{
 "cells": [
  {
   "cell_type": "code",
   "execution_count": 10,
   "metadata": {
    "ExecuteTime": {
     "end_time": "2019-05-09T07:55:41.865329Z",
     "start_time": "2019-05-09T07:55:41.859805Z"
    }
   },
   "outputs": [],
   "source": [
    "import time\n",
    "import re\n",
    "import requests\n",
    "from bs4 import BeautifulSoup\n",
    "from selenium import webdriver\n",
    "from selenium.webdriver.common.keys import Keys"
   ]
  },
  {
   "cell_type": "code",
   "execution_count": 45,
   "metadata": {
    "ExecuteTime": {
     "end_time": "2019-05-09T09:26:07.861358Z",
     "start_time": "2019-05-09T09:25:52.815373Z"
    }
   },
   "outputs": [
    {
     "name": "stdout",
     "output_type": "stream",
     "text": [
      "3.9\n",
      "None\n"
     ]
    },
    {
     "ename": "AttributeError",
     "evalue": "'NoneType' object has no attribute 'text'",
     "output_type": "error",
     "traceback": [
      "\u001b[0;31m---------------------------------------------------------------------------\u001b[0m",
      "\u001b[0;31mAttributeError\u001b[0m                            Traceback (most recent call last)",
      "\u001b[0;32m<ipython-input-45-1f8b00a64d79>\u001b[0m in \u001b[0;36m<module>\u001b[0;34m\u001b[0m\n\u001b[1;32m     51\u001b[0m \u001b[0masakusa_address\u001b[0m\u001b[0;34m=\u001b[0m \u001b[0mbs\u001b[0m\u001b[0;34m.\u001b[0m\u001b[0mfind\u001b[0m\u001b[0;34m(\u001b[0m\u001b[0;34m\"span\"\u001b[0m\u001b[0;34m,\u001b[0m \u001b[0mclass_\u001b[0m\u001b[0;34m=\u001b[0m\u001b[0;34m\"widget-pane-link\"\u001b[0m\u001b[0;34m,\u001b[0m \u001b[0mjsan\u001b[0m \u001b[0;34m=\u001b[0m \u001b[0;34m\"7.widget-page-link\"\u001b[0m\u001b[0;34m)\u001b[0m\u001b[0;34m\u001b[0m\u001b[0;34m\u001b[0m\u001b[0m\n\u001b[1;32m     52\u001b[0m \u001b[0mprint\u001b[0m\u001b[0;34m(\u001b[0m\u001b[0masakusa_address\u001b[0m\u001b[0;34m)\u001b[0m\u001b[0;34m\u001b[0m\u001b[0;34m\u001b[0m\u001b[0m\n\u001b[0;32m---> 53\u001b[0;31m \u001b[0mprint\u001b[0m\u001b[0;34m(\u001b[0m\u001b[0masakusa_address\u001b[0m\u001b[0;34m.\u001b[0m\u001b[0mtext\u001b[0m\u001b[0;34m)\u001b[0m\u001b[0;34m\u001b[0m\u001b[0;34m\u001b[0m\u001b[0m\n\u001b[0m\u001b[1;32m     54\u001b[0m \u001b[0;34m\u001b[0m\u001b[0m\n\u001b[1;32m     55\u001b[0m \u001b[0minput\u001b[0m\u001b[0;34m(\u001b[0m\u001b[0;34m\"ENTERを入力したらChromeを閉じます\"\u001b[0m\u001b[0;34m)\u001b[0m\u001b[0;34m\u001b[0m\u001b[0;34m\u001b[0m\u001b[0m\n",
      "\u001b[0;31mAttributeError\u001b[0m: 'NoneType' object has no attribute 'text'"
     ]
    }
   ],
   "source": [
    "class at_least_n_elements_found(object):\n",
    "    def __init__(self, locator,n):\n",
    "        self.locator = locator\n",
    "        self.n = n\n",
    "        \n",
    "    def __call__(self, driver):\n",
    "        elements = driver.find_elements(*self.locator)\n",
    "        if len(elements) >= self.n:\n",
    "            return elements\n",
    "        else:\n",
    "            return False\n",
    "\n",
    "url = \"https://www.google.com/maps/?hl=ja\"\n",
    "driver_exe=\"/mnt/c/Users/t-katou/Desktop/makusu/chromedriver.exe\"      \n",
    "    \n",
    "# options = webdriver.ChromeOptions()\n",
    "# options.add_argument(\"--headless\")\n",
    "# options.add_argument(\"--disable-gpu\")\n",
    "# , oprions = options\n",
    "driver = webdriver.Chrome(driver_exe)\n",
    "\n",
    "driver.get(url)\n",
    "\n",
    "\n",
    "# driver.set_window_size(1920,1080)\n",
    "\n",
    "# driver.implicitly_wait(10)\n",
    "# driver.find_element_by_id(\"searchboxinput\").send_keys(\"東京タワー\")\n",
    "# driver.find_element_by_id(\"searchboxinput\").send_keys(Keys.ENTER)\n",
    "# time.sleep(10)\n",
    "# driver.save_screenshot(\"/mnt/c/Users/t-katou/Desktop/makusu/tokyo_tower.png\")\n",
    "# bs = BeautifulSoup(driver.page_source, \"html.parser\")\n",
    "# stars = bs.find(\"span\", class_=\"section-star-display\")\n",
    "# print(stars.text)\n",
    "\n",
    "driver.implicitly_wait(10)\n",
    "driver.find_element_by_id(\"searchboxinput\").send_keys(\"浅草\")\n",
    "driver.find_element_by_id(\"searchboxinput\").send_keys(Keys.ENTER)\n",
    "time.sleep(5)\n",
    "bs = BeautifulSoup(driver.page_source, \"html.parser\")\n",
    "asakusa = bs.find(\"span\", class_=\"section-star-display\")\n",
    "\n",
    "if asakusa == None:\n",
    "    driver.find_element_by_id(\"searchboxinput\").send_keys(\"駅\")\n",
    "    driver.find_element_by_id(\"searchboxinput\").send_keys(Keys.ENTER)\n",
    "    time.sleep(5)\n",
    "    bs = BeautifulSoup(driver.page_source, \"html.parser\")\n",
    "    asakusa = bs.find(\"span\", class_=\"section-star-display\")\n",
    "print(asakusa.text)\n",
    "\n",
    "asakusa_address= bs.find(\"span\", class_=\"widget-pane-link\", jsan = \"7.widget-page-link\")\n",
    "print(asakusa_address)\n",
    "print(asakusa_address.text)\n",
    "\n",
    "input(\"ENTERを入力したらChromeを閉じます\")\n",
    "driver.quit()"
   ]
  },
  {
   "cell_type": "code",
   "execution_count": null,
   "metadata": {},
   "outputs": [],
   "source": []
  }
 ],
 "metadata": {
  "kernelspec": {
   "display_name": "Python 3",
   "language": "python",
   "name": "python3"
  },
  "language_info": {
   "codemirror_mode": {
    "name": "ipython",
    "version": 3
   },
   "file_extension": ".py",
   "mimetype": "text/x-python",
   "name": "python",
   "nbconvert_exporter": "python",
   "pygments_lexer": "ipython3",
   "version": "3.6.7"
  },
  "varInspector": {
   "cols": {
    "lenName": 16,
    "lenType": 16,
    "lenVar": 40
   },
   "kernels_config": {
    "python": {
     "delete_cmd_postfix": "",
     "delete_cmd_prefix": "del ",
     "library": "var_list.py",
     "varRefreshCmd": "print(var_dic_list())"
    },
    "r": {
     "delete_cmd_postfix": ") ",
     "delete_cmd_prefix": "rm(",
     "library": "var_list.r",
     "varRefreshCmd": "cat(var_dic_list()) "
    }
   },
   "types_to_exclude": [
    "module",
    "function",
    "builtin_function_or_method",
    "instance",
    "_Feature"
   ],
   "window_display": false
  }
 },
 "nbformat": 4,
 "nbformat_minor": 2
}
