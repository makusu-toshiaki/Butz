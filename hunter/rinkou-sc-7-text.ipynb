{
 "cells": [
  {
   "cell_type": "markdown",
   "metadata": {
    "ExecuteTime": {
     "end_time": "2019-05-14T03:15:24.939929Z",
     "start_time": "2019-05-14T03:15:24.936132Z"
    }
   },
   "source": [
    "176p\n",
    "* [7.1]データサイエンスのプロセス\n",
    "\n",
    "データサイエンス:データを用いて新たな科学的および社会に有益な知見を引き出そうとするアプローチのこと\"\n",
    "\n",
    "組織的な活動としてのデータサイエンスを「プロセス」と呼び、プロジェクトで、実行すべき手順を記したワークフローのことです。\n",
    "プロセスの材料はデータ。\n",
    "主なフレームワーク:CRISP-DM、KDD\n",
    "\n",
    "・ビジネスの問題を特定する"
   ]
  },
  {
   "cell_type": "markdown",
   "metadata": {},
   "source": [
    "179p\n",
    "* [7.2]Webスクレイピングが効果的な領域\n",
    "\n"
   ]
  },
  {
   "cell_type": "code",
   "execution_count": null,
   "metadata": {},
   "outputs": [],
   "source": []
  },
  {
   "cell_type": "code",
   "execution_count": null,
   "metadata": {},
   "outputs": [],
   "source": []
  },
  {
   "cell_type": "code",
   "execution_count": null,
   "metadata": {},
   "outputs": [],
   "source": []
  },
  {
   "cell_type": "code",
   "execution_count": null,
   "metadata": {},
   "outputs": [],
   "source": []
  }
 ],
 "metadata": {
  "kernelspec": {
   "display_name": "Python 3",
   "language": "python",
   "name": "python3"
  },
  "language_info": {
   "codemirror_mode": {
    "name": "ipython",
    "version": 3
   },
   "file_extension": ".py",
   "mimetype": "text/x-python",
   "name": "python",
   "nbconvert_exporter": "python",
   "pygments_lexer": "ipython3",
   "version": "3.6.7"
  },
  "varInspector": {
   "cols": {
    "lenName": 16,
    "lenType": 16,
    "lenVar": 40
   },
   "kernels_config": {
    "python": {
     "delete_cmd_postfix": "",
     "delete_cmd_prefix": "del ",
     "library": "var_list.py",
     "varRefreshCmd": "print(var_dic_list())"
    },
    "r": {
     "delete_cmd_postfix": ") ",
     "delete_cmd_prefix": "rm(",
     "library": "var_list.r",
     "varRefreshCmd": "cat(var_dic_list()) "
    }
   },
   "types_to_exclude": [
    "module",
    "function",
    "builtin_function_or_method",
    "instance",
    "_Feature"
   ],
   "window_display": false
  }
 },
 "nbformat": 4,
 "nbformat_minor": 2
}
