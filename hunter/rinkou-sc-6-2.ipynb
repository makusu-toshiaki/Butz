{
 "cells": [
  {
   "cell_type": "code",
   "execution_count": 2,
   "metadata": {
    "ExecuteTime": {
     "end_time": "2019-05-14T02:58:40.863234Z",
     "start_time": "2019-05-14T02:58:40.577744Z"
    }
   },
   "outputs": [
    {
     "name": "stderr",
     "output_type": "stream",
     "text": [
      "/home/t-katou/.local/lib/python3.6/site-packages/requests/__init__.py:91: RequestsDependencyWarning: urllib3 (1.25.2) or chardet (3.0.4) doesn't match a supported version!\n",
      "  RequestsDependencyWarning)\n"
     ]
    }
   ],
   "source": [
    "import requests\n",
    "from bs4 import BeautifulSoup\n",
    "from urllib.parse import urljoin"
   ]
  },
  {
   "cell_type": "code",
   "execution_count": null,
   "metadata": {
    "ExecuteTime": {
     "end_time": "2019-05-14T02:59:05.835778Z",
     "start_time": "2019-05-14T02:59:02.282Z"
    }
   },
   "outputs": [],
   "source": [
    "links_todo= [\"http://www.webscrapingfordatascience.com/crawler/\"] # link_todoをリスト型にする\n",
    "links_seen = set()\n",
    "\n",
    "def visit(url, links_seen):\n",
    "    html = requests.get(url).text # url先のbody内をテキスト変換\n",
    "    html_soup = BeautifulSoup(html, \"html.parser\") # 構文解析\n",
    "    new_links = [] # new_linksをリスト型にする\n",
    "    for link in html_soup.find_all(\"a\"): # aタグを検索\n",
    "        link_url = link.get(\"href\") # href要素を取得\n",
    "        if link_url is None:\n",
    "            continue\n",
    "        full_url = urljoin(url, link_url) # 絶対パスに変換\n",
    "        if full_url in links_seen: # すでに読み込んだことがあるURLならfull_urlは無視する\n",
    "            continue\n",
    "        # 通常は結果をここでも保存する\n",
    "        new_links.append(full_url) # new_linksにfull_urlを追加\n",
    "    return new_links\n",
    "\n",
    "# while文を使うことで再帰呼び出しを使わないコードに書き換える\n",
    "while links_todo: # 初回はlinks_todoを読み、以降はnew_linksで追加された要素分、繰り返す回数が増える\n",
    "    url_to_visit = links_todo.pop() # links_todoの一番後ろの要素をurl_to_visitに代入\n",
    "    links_seen.add(url_to_visit) # 一度読み込んだことを覚えるためにlinks_seenに代入\n",
    "    print(\"Now visiting:\", url_to_visit)\n",
    "    new_links = visit(url_to_visit, links_seen) # 新しいURLがnew_linksに代入される\n",
    "    print(len(new_links), \"new link(s) found\")\n",
    "    links_todo += new_links # links_todoの一番後ろにnew_linksを追加\n",
    "\n",
    "# このコードの問題点はプログラムが異常停止した場合、途中までのデータがすべて消えてしまうことです。"
   ]
  }
 ],
 "metadata": {
  "kernelspec": {
   "display_name": "Python 3",
   "language": "python",
   "name": "python3"
  },
  "language_info": {
   "codemirror_mode": {
    "name": "ipython",
    "version": 3
   },
   "file_extension": ".py",
   "mimetype": "text/x-python",
   "name": "python",
   "nbconvert_exporter": "python",
   "pygments_lexer": "ipython3",
   "version": "3.6.7"
  },
  "varInspector": {
   "cols": {
    "lenName": 16,
    "lenType": 16,
    "lenVar": 40
   },
   "kernels_config": {
    "python": {
     "delete_cmd_postfix": "",
     "delete_cmd_prefix": "del ",
     "library": "var_list.py",
     "varRefreshCmd": "print(var_dic_list())"
    },
    "r": {
     "delete_cmd_postfix": ") ",
     "delete_cmd_prefix": "rm(",
     "library": "var_list.r",
     "varRefreshCmd": "cat(var_dic_list()) "
    }
   },
   "types_to_exclude": [
    "module",
    "function",
    "builtin_function_or_method",
    "instance",
    "_Feature"
   ],
   "window_display": false
  }
 },
 "nbformat": 4,
 "nbformat_minor": 2
}
