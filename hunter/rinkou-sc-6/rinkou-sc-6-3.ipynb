{
 "cells": [
  {
   "cell_type": "code",
   "execution_count": 1,
   "metadata": {
    "ExecuteTime": {
     "end_time": "2019-05-14T02:51:09.863675Z",
     "start_time": "2019-05-14T02:51:01.209231Z"
    }
   },
   "outputs": [
    {
     "name": "stderr",
     "output_type": "stream",
     "text": [
      "/home/t-katou/.local/lib/python3.6/site-packages/requests/__init__.py:91: RequestsDependencyWarning: urllib3 (1.25.2) or chardet (3.0.4) doesn't match a supported version!\n",
      "  RequestsDependencyWarning)\n"
     ]
    }
   ],
   "source": [
    "import requests\n",
    "import records\n",
    "from bs4 import BeautifulSoup\n",
    "from urllib.parse import urljoin\n",
    "from sqlalchemy.exc import IntegrityError"
   ]
  },
  {
   "cell_type": "code",
   "execution_count": null,
   "metadata": {
    "ExecuteTime": {
     "end_time": "2019-05-14T02:59:38.533544Z",
     "start_time": "2019-05-14T02:53:11.279Z"
    }
   },
   "outputs": [],
   "source": [
    "# 160P\n",
    "db = records.Database(\"sqlite:///crawler_database.db\")\n",
    "\n",
    "db.query(\"\"\"CREATE TABLE IF NOT EXISTS links (\n",
    "            url text PRIMARY KEY,\n",
    "            created_at datetime,\n",
    "            visited_at datetime NULL)\"\"\")\n",
    "db.query(\"\"\"CREATE TABLE IF NOT EXISTS numbers (url text, number integer,\n",
    "            PRIMARY KEY (url, number))\"\"\")\n",
    "\n",
    "def store_link(url):\n",
    "    try:\n",
    "        db.query(\"\"\"INSERT INTO links (url, created_at)\n",
    "                    VALUES (:url, CURRENT_TIMESTAMP)\"\"\", url=url)\n",
    "    except IntegrityError as ie:\n",
    "        # このリンクは存在するので何もしない\n",
    "        pass\n",
    "\n",
    "def store_number(url, number):\n",
    "    try:\n",
    "        db.query(\"\"\"INSERT INTO numbers (url, number)\n",
    "                    VALUES (:url, :number)\"\"\", url=url, number=number)\n",
    "    except IntegrityError as ie:\n",
    "        # この数字は存在するので何もしない\n",
    "        pass\n",
    "    \n",
    "def mark_visited(url):\n",
    "    db.query(\"\"\"UPDATE links SET visited_at = CURRENT_TIMESTAMP\n",
    "                WHERE url=:url\"\"\", url=url)\n",
    "    \n",
    "def get_random_unvisited_link():\n",
    "    link_first = db.query(\"\"\"SELECT * FROM links\n",
    "                        WHERE visited_at IS NULL\n",
    "                        ORDER BY RANDOM() LIMIT 1\"\"\")\n",
    "    link = link_first[0]\n",
    "    # ここの1つ上の行にfirst()が使われていた\n",
    "    return None if link is None else link.url\n",
    "\n",
    "def visit(url):\n",
    "    html = requests.get(url).text\n",
    "    html_soup = BeautifulSoup(html, \"html.parser\")\n",
    "    new_links = []\n",
    "    for td in html_soup.find_all(\"td\"):\n",
    "        store_number(url, int(td.text.strip()))\n",
    "    for link in html_soup.find_all(\"a\"):\n",
    "        link_url = link.get(\"href\")\n",
    "        if link_url is None:\n",
    "            continue\n",
    "        full_url = urljoin(url, link_url)\n",
    "        new_links.append(full_url)\n",
    "    return new_links\n",
    "\n",
    "store_link(\"http://www.webscrapingfordatascience.com/crawler/\")\n",
    "url_to_visit = get_random_unvisited_link()\n",
    "while url_to_visit is not None:\n",
    "    print(\"Now visiting:\", url_to_visit)\n",
    "    new_links = visit(url_to_visit)\n",
    "    print(len(new_links), \"new link(s) found\")\n",
    "    for link in new_links:\n",
    "        store_link(link)\n",
    "    mark_visited(url_to_visit)\n",
    "    url_to_visit = get_random_unvisited_link()"
   ]
  }
 ],
 "metadata": {
  "kernelspec": {
   "display_name": "Python 3",
   "language": "python",
   "name": "python3"
  },
  "language_info": {
   "codemirror_mode": {
    "name": "ipython",
    "version": 3
   },
   "file_extension": ".py",
   "mimetype": "text/x-python",
   "name": "python",
   "nbconvert_exporter": "python",
   "pygments_lexer": "ipython3",
   "version": "3.6.7"
  },
  "varInspector": {
   "cols": {
    "lenName": 16,
    "lenType": 16,
    "lenVar": 40
   },
   "kernels_config": {
    "python": {
     "delete_cmd_postfix": "",
     "delete_cmd_prefix": "del ",
     "library": "var_list.py",
     "varRefreshCmd": "print(var_dic_list())"
    },
    "r": {
     "delete_cmd_postfix": ") ",
     "delete_cmd_prefix": "rm(",
     "library": "var_list.r",
     "varRefreshCmd": "cat(var_dic_list()) "
    }
   },
   "types_to_exclude": [
    "module",
    "function",
    "builtin_function_or_method",
    "instance",
    "_Feature"
   ],
   "window_display": false
  }
 },
 "nbformat": 4,
 "nbformat_minor": 2
}
