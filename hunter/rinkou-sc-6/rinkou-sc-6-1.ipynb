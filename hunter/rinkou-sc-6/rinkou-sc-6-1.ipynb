{
 "cells": [
  {
   "cell_type": "code",
   "execution_count": 9,
   "metadata": {
    "ExecuteTime": {
     "end_time": "2019-05-14T02:12:00.950217Z",
     "start_time": "2019-05-14T02:12:00.945874Z"
    }
   },
   "outputs": [],
   "source": [
    "import requests\n",
    "from bs4 import BeautifulSoup\n",
    "from urllib.parse import urljoin # 絶対URLに変換するためにurljoinをインポート"
   ]
  },
  {
   "cell_type": "code",
   "execution_count": null,
   "metadata": {
    "ExecuteTime": {
     "end_time": "2019-05-14T02:21:08.009295Z",
     "start_time": "2019-05-14T02:13:45.580Z"
    }
   },
   "outputs": [],
   "source": [
    "base_url=\"http://www.webscrapingfordatascience.com/crawler/\"\n",
    "\n",
    "links_seen=set() # links_seenをset型で宣言\n",
    "\n",
    "def visit(url, links_seen):\n",
    "    html = requests.get(url).text # url先のbody内をテキスト変換\n",
    "    html_soup = BeautifulSoup(html, \"html.parser\") # 構文解析\n",
    "    links_seen.add(url) # links_seenにurlを追加\n",
    "    \n",
    "    for link in html_soup.find_all(\"a\"): # aタグを検索\n",
    "        link_url = link.get(\"href\") # href要素を取得\n",
    "        if link_url is None:\n",
    "            continue\n",
    "        # 絶対パスに変換。url+link_url(\"http://www.webscrapingfordatascience.com/crawler/\"+\"?r=99e47f87ab2b89c1d89c682d7caca4b0\")\n",
    "        full_url = urljoin(url, link_url)# link_urlがすでに絶対アドレスだったらlink_urlをそのまま代入\n",
    "        if full_url in links_seen:# urlがすでにダブっていないか確認\n",
    "            continue\n",
    "        print(\"Found a new page:\", full_url)\n",
    "        # 通常は結果をここでも保存する\n",
    "        visit(full_url, links_seen)\n",
    "\n",
    "visit(base_url, links_seen)\n",
    "\n",
    "# このスクリプトでは再起呼び出しを行っているので、異常停止する。"
   ]
  }
 ],
 "metadata": {
  "kernelspec": {
   "display_name": "Python 3",
   "language": "python",
   "name": "python3"
  },
  "language_info": {
   "codemirror_mode": {
    "name": "ipython",
    "version": 3
   },
   "file_extension": ".py",
   "mimetype": "text/x-python",
   "name": "python",
   "nbconvert_exporter": "python",
   "pygments_lexer": "ipython3",
   "version": "3.6.7"
  },
  "varInspector": {
   "cols": {
    "lenName": 16,
    "lenType": 16,
    "lenVar": 40
   },
   "kernels_config": {
    "python": {
     "delete_cmd_postfix": "",
     "delete_cmd_prefix": "del ",
     "library": "var_list.py",
     "varRefreshCmd": "print(var_dic_list())"
    },
    "r": {
     "delete_cmd_postfix": ") ",
     "delete_cmd_prefix": "rm(",
     "library": "var_list.r",
     "varRefreshCmd": "cat(var_dic_list()) "
    }
   },
   "types_to_exclude": [
    "module",
    "function",
    "builtin_function_or_method",
    "instance",
    "_Feature"
   ],
   "window_display": false
  }
 },
 "nbformat": 4,
 "nbformat_minor": 2
}
