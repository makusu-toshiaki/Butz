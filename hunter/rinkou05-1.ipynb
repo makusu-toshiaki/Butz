{
 "cells": [
  {
   "cell_type": "code",
   "execution_count": 3,
   "metadata": {
    "ExecuteTime": {
     "end_time": "2019-05-09T02:54:21.773894Z",
     "start_time": "2019-05-09T02:54:21.771628Z"
    }
   },
   "outputs": [],
   "source": [
    "from bs4 import BeautifulSoup\n",
    "import requests"
   ]
  },
  {
   "cell_type": "code",
   "execution_count": 4,
   "metadata": {
    "ExecuteTime": {
     "end_time": "2019-05-09T02:54:26.894427Z",
     "start_time": "2019-05-09T02:54:25.468929Z"
    }
   },
   "outputs": [
    {
     "name": "stdout",
     "output_type": "stream",
     "text": [
      "Here is your secret code: 3838.\n"
     ]
    }
   ],
   "source": [
    "url = \"http://www.webscrapingfordatascience.com/trickylogin/\"\n",
    "\n",
    "my_seassion = requests.Session()\n",
    "\n",
    "r = my_seassion.get(url)\n",
    "r = my_seassion.post(url,params = {\"p\": \"login\"}, data = {\"username\": \"dummy\", \"password\": \"1234\"})\n",
    "r = my_seassion.get(url, params={\"p\": \"protected\"})\n",
    "\n",
    "print(r.text)"
   ]
  },
  {
   "cell_type": "code",
   "execution_count": 8,
   "metadata": {
    "ExecuteTime": {
     "end_time": "2019-05-09T03:01:22.925455Z",
     "start_time": "2019-05-09T03:01:22.408474Z"
    }
   },
   "outputs": [
    {
     "name": "stdout",
     "output_type": "stream",
     "text": [
      "None\n",
      "None\n"
     ]
    }
   ],
   "source": [
    "# 128~129p\n",
    "url = \"http://www.webscrapingfordatascience.com/simplejavascript/\"\n",
    "\n",
    "r = requests.get(url)\n",
    "html_soup = BeautifulSoup(\"r.text\", \"html.parser\")\n",
    "\n",
    "ul_tag = html_soup.find(\"ul\")\n",
    "print(ul_tag)\n",
    "\n",
    "script_tag = html_soup.find(\"script\", attrs = {\"src\": None})\n",
    "print(script_tag)"
   ]
  },
  {
   "cell_type": "code",
   "execution_count": 4,
   "metadata": {
    "ExecuteTime": {
     "end_time": "2019-05-07T08:30:55.100458Z",
     "start_time": "2019-05-07T08:30:54.267989Z"
    }
   },
   "outputs": [
    {
     "name": "stdout",
     "output_type": "stream",
     "text": [
      "['Every strike brings me closer to the next home run. –Babe Ruth', 'The two most important days in your life are the day you are born and the day you find out why. –Mark Twain', 'Life is about making an impact, not making an income.']\n"
     ]
    }
   ],
   "source": [
    "url =\"http://www.webscrapingfordatascience.com/simplejavascript/quotes.php\"\n",
    "\n",
    "r = requests.get(url, cookies = {\"jsenabled\": \"1\"})\n",
    "\n",
    "print(r.json())"
   ]
  },
  {
   "cell_type": "code",
   "execution_count": 5,
   "metadata": {
    "ExecuteTime": {
     "end_time": "2019-05-07T08:42:59.424429Z",
     "start_time": "2019-05-07T08:42:58.521500Z"
    }
   },
   "outputs": [
    {
     "name": "stdout",
     "output_type": "stream",
     "text": [
      "<!DOCTYPE HTML PUBLIC \"-//IETF//DTD HTML 2.0//EN\">\n",
      "<html><head>\n",
      "<title>404 Not Found</title>\n",
      "</head><body>\n",
      "<h1>Not Found</h1>\n",
      "<p>The requested URL /complexjavascript/quotesphp was not found on this server.</p>\n",
      "<hr>\n",
      "<address>Apache/2.4.18 (Ubuntu) Server at www.webscrapingfordatascience.com Port 80</address>\n",
      "</body></html>\n",
      "\n"
     ]
    }
   ],
   "source": [
    "# 131p\n",
    "url = \"http://www.webscrapingfordatascience.com/complexjavascript/\"\n",
    "\n",
    "my_session = requests.Session()\n",
    "\n",
    "r = my_session.get(url)\n",
    "\n",
    "my_session.cookies.update({\n",
    "    \"nonce\": \"2315\"\n",
    "})\n",
    "\n",
    "r = my_session.get(url + \"quotesphp\", params={\"p\": \"0\"})\n",
    "\n",
    "print(r.text)"
   ]
  },
  {
   "cell_type": "code",
   "execution_count": 9,
   "metadata": {
    "ExecuteTime": {
     "end_time": "2019-05-07T08:51:06.719482Z",
     "start_time": "2019-05-07T08:51:06.114293Z"
    }
   },
   "outputs": [
    {
     "name": "stdout",
     "output_type": "stream",
     "text": [
      "<div class=\"quote decode\">TGlmZSBpcyBhYm91dCBtYWtpbmcgYW4gaW1wYWN0LCBub3QgbWFraW5nIGFuIGluY29tZS4gLUtldmluIEtydXNlCg==</div><div class=\"quote decode\">CVdoYXRldmVyIHRoZSBtaW5kIG9mIG1hbiBjYW4gY29uY2VpdmUgYW5kIGJlbGlldmUsIGl0IGNhbiBhY2hpZXZlLiDigJNOYXBvbGVvbiBIaWxsCg==</div><div class=\"quote decode\">CVN0cml2ZSBub3QgdG8gYmUgYSBzdWNjZXNzLCBidXQgcmF0aGVyIHRvIGJlIG9mIHZhbHVlLiDigJNBbGJlcnQgRWluc3RlaW4K</div><br><br><br><br><a class=\"jscroll-next\" href=\"quotes.php?p=3\">Load more quotes</a>\n"
     ]
    }
   ],
   "source": [
    "url = \"http://www.webscrapingfordatascience.com/complexjavascript/\"\n",
    "\n",
    "my_cookies = {\n",
    "    \"nonce\": \"8757\",\n",
    "    \"PHPSESSID\": \"hr9lcpgm10bhd4538oi340tnb7\"\n",
    "}\n",
    "\n",
    "r = requests.get(url + \"quotes.php\", params={\"p\": \"0\"}, cookies=my_cookies)\n",
    "print(r.text)"
   ]
  }
 ],
 "metadata": {
  "kernelspec": {
   "display_name": "Python 3",
   "language": "python",
   "name": "python3"
  },
  "language_info": {
   "codemirror_mode": {
    "name": "ipython",
    "version": 3
   },
   "file_extension": ".py",
   "mimetype": "text/x-python",
   "name": "python",
   "nbconvert_exporter": "python",
   "pygments_lexer": "ipython3",
   "version": "3.6.7"
  },
  "varInspector": {
   "cols": {
    "lenName": 16,
    "lenType": 16,
    "lenVar": 40
   },
   "kernels_config": {
    "python": {
     "delete_cmd_postfix": "",
     "delete_cmd_prefix": "del ",
     "library": "var_list.py",
     "varRefreshCmd": "print(var_dic_list())"
    },
    "r": {
     "delete_cmd_postfix": ") ",
     "delete_cmd_prefix": "rm(",
     "library": "var_list.r",
     "varRefreshCmd": "cat(var_dic_list()) "
    }
   },
   "types_to_exclude": [
    "module",
    "function",
    "builtin_function_or_method",
    "instance",
    "_Feature"
   ],
   "window_display": false
  }
 },
 "nbformat": 4,
 "nbformat_minor": 2
}
