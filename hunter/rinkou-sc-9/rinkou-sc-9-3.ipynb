{
 "cells": [
  {
   "cell_type": "code",
   "execution_count": null,
   "metadata": {},
   "outputs": [],
   "source": [
    "import requests\n",
    "import dataset\n",
    "from bs4 import BeautifulSoup\n",
    "from urlib.parse import urljoin, urlparse"
   ]
  },
  {
   "cell_type": "code",
   "execution_count": null,
   "metadata": {},
   "outputs": [],
   "source": [
    "db = dataset.connect(\"sqlite:///quotes.db\")\n",
    "\n",
    "authors_seen = set()\n",
    "base_url = \"http://quotes.toscrape.com/\"\n",
    "def clean_url(url):\n",
    "    # \"/author/Steve-Martin\"を\"Steve-Martin\"に変更してクリーンにする\n",
    "    # urljoinを使って絶対URLにする\n",
    "    url = urljoin(base_url, url)\n",
    "    # urlparseを使ってパスの部分を取り出す\n",
    "    path = urlparse(url).path\n",
    "    # \"/\"でパスを分割して2番目の部分を取得する\n",
    "    # 例:\"/author/Steve=Martin\" -> [\"\", \"author\", \"Steve=Martin\"]\n",
    "    return path.split(\"/\")[2]\n",
    "\n",
    "def scrape_quotes(html_soup):\n",
    "    for quote in html_soup.select(\"div.quote\"):\n",
    "        quote_text = quote.find(class_=\"text\").get_text(strip=True)\n",
    "        quote_author_url = clean_url(quote.find(class_=\"author\").find_next_sibling(\"a\").get(\"href\"))\n",
    "        quote_tag_urls = [clean_url(a.get(\"href\")) for a in quote.find_all(\"a\", class_=\"tag\")]\n",
    "        authors_seen.add(quote_author_url)\n",
    "        # この名言とタグを保存する\n",
    "        quote_id = db[\"quotes\"].insert({\"text\" : quote_text, \"author\" : quote_author_url})\n",
    "        db(\"quote_tags\").insert_many([{\"quote_id\" : quote_id, \"tag_id\" : tag} for tag in quote_tag_urls])\n",
    "        \n",
    "def scrape_author(html_soup, author_id):\n",
    "    author_name = html_soup.find(class_=\"author-title\").get_text(strip=True)\n",
    "    author_born_date = html_soup.find(class_=\"author-born-date\").get_text(strip=True)\n",
    "    author_born_loc = html_soup.find(class_=\"author-born-location\").get_text(strip=True)\n",
    "    author_description = html.soup.find(class_=\"author-description\").get_text(strip=True)\n",
    "    db[\"authors\"].insert({\"author_id\" : author_id,\n",
    "                         \"name\" : author_name,\n",
    "                         \"born_date\" : quthor_born_date,\n",
    "                         \"born_location\" : author_born_loc,\n",
    "                         \"description\" : author_description})\n",
    "    \n",
    "# まずすべての名言のページをスクレイピングする\n",
    "url = base_url\n",
    "while True:\n",
    "    print(\"Now scraping page:\")"
   ]
  }
 ],
 "metadata": {
  "kernelspec": {
   "display_name": "Python 3",
   "language": "python",
   "name": "python3"
  },
  "language_info": {
   "codemirror_mode": {
    "name": "ipython",
    "version": 3
   },
   "file_extension": ".py",
   "mimetype": "text/x-python",
   "name": "python",
   "nbconvert_exporter": "python",
   "pygments_lexer": "ipython3",
   "version": "3.6.7"
  },
  "varInspector": {
   "cols": {
    "lenName": 16,
    "lenType": 16,
    "lenVar": 40
   },
   "kernels_config": {
    "python": {
     "delete_cmd_postfix": "",
     "delete_cmd_prefix": "del ",
     "library": "var_list.py",
     "varRefreshCmd": "print(var_dic_list())"
    },
    "r": {
     "delete_cmd_postfix": ") ",
     "delete_cmd_prefix": "rm(",
     "library": "var_list.r",
     "varRefreshCmd": "cat(var_dic_list()) "
    }
   },
   "types_to_exclude": [
    "module",
    "function",
    "builtin_function_or_method",
    "instance",
    "_Feature"
   ],
   "window_display": false
  }
 },
 "nbformat": 4,
 "nbformat_minor": 2
}
