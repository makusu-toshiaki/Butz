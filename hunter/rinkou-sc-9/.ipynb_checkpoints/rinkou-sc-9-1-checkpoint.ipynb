{
 "cells": [
  {
   "cell_type": "code",
   "execution_count": null,
   "metadata": {},
   "outputs": [],
   "source": [
    "import requests\n",
    "import re\n",
    "from bs4 import BeautifulSoup"
   ]
  },
  {
   "cell_type": "code",
   "execution_count": null,
   "metadata": {},
   "outputs": [],
   "source": [
    "articles = []\n",
    "url = \"https://news.ycombinator.com/news\"\n",
    "\n",
    "r = requests.get(url)\n",
    "html_soup  = BeautifulSoup(r.text, \"html.parser\")\n",
    "\n",
    "for item in html_soup.find_all(\"tr\", class_=\"athing\"):\n",
    "    item_a = item.find(\"a\", class_\"storylink\")\n",
    "    item_link= item_a.get(\"href\") if item_a else None\n",
    "    item_text = item_a.get_text(strip=True)nif item_a else None\n",
    "    next_row = item.find_next_sibling(\"tr\")\n",
    "    item_score = next_row.find(\"span\", class_=\"score\")\n",
    "    item_score = item_score.get_text(strip=True) if item_score else \"0 points\"\n",
    "    # ここではregexを使って正しい要素を見つける\n",
    "    item_comments = next_row.find(\"a\",text=re.compile(\"\\d+(&nbsp;|\\s)comment(s?)\"))\n",
    "    item_comments = item_comments.get_text(strip=True).replace(\"\\xa0\", \" \") if item_comments else \"0 comments\"\n",
    "    \n",
    "    articles.append({\n",
    "        \"link\" : item_link,\n",
    "        \"title\" : item_text,\n",
    "        \"score\" : item_score,\n",
    "        \"comments\" : item_comments\n",
    "    })\n",
    "    \n",
    "for article in articles:\n",
    "    print(article)"
   ]
  }
 ],
 "metadata": {
  "kernelspec": {
   "display_name": "Python 3",
   "language": "python",
   "name": "python3"
  },
  "language_info": {
   "codemirror_mode": {
    "name": "ipython",
    "version": 3
   },
   "file_extension": ".py",
   "mimetype": "text/x-python",
   "name": "python",
   "nbconvert_exporter": "python",
   "pygments_lexer": "ipython3",
   "version": "3.7.3"
  }
 },
 "nbformat": 4,
 "nbformat_minor": 2
}
