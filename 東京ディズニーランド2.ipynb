{
 "cells": [
  {
   "cell_type": "code",
   "execution_count": 2,
   "metadata": {},
   "outputs": [],
   "source": [
    "import time\n",
    "import re\n",
    "import requests\n",
    "from bs4 import BeautifulSoup\n",
    "from selenium import webdriver\n",
    "from selenium.webdriver.common.keys import Keys"
   ]
  },
  {
   "cell_type": "code",
   "execution_count": 4,
   "metadata": {},
   "outputs": [
    {
     "name": "stdout",
     "output_type": "stream",
     "text": [
      "検索したい場所を入力してください:東西線\n",
      "3.9\n",
      "妙典駅\n",
      "3.9\n",
      "スーパーホテル 東西線市川妙典駅前\n",
      "評価されていません\n",
      "ENTERを入力したらChromeを閉じます\n"
     ]
    }
   ],
   "source": [
    "p = input(\"検索したい場所を入力してください:\")\n",
    "url = \"https://www.google.com/maps/?hl=ja\"\n",
    "driver_exe=\"C:\\\\Users\\\\toshiro\\\\Desktop\\\\ttc\\\\chromedriver.exe\"      \n",
    "# driver_exe=\"/mnt/c/Users/t-katou/Desktop/makusu/chromedriver.exe\"\n",
    "\n",
    "# options = webdriver.ChromeOptions()\n",
    "# options.add_argument(\"--headless\")\n",
    "# options.add_argument(\"--disable-gpu\")\n",
    "# , options = options\n",
    "\n",
    "def search(i):\n",
    "    bs = BeautifulSoup(driver.page_source, \"html.parser\")\n",
    "    driver.find_element_by_xpath(\"//div[@data-result-index='\"+i+\"']\").click()\n",
    "    time.sleep(4)\n",
    "    bs = BeautifulSoup(driver.page_source, \"html.parser\")\n",
    "    \n",
    "    if bs.find(\"span\", class_=\"section-star-display\") is not None:\n",
    "        # 評価\n",
    "        print(bs.find(\"span\", class_=\"section-star-display\").text)\n",
    "    else:\n",
    "        print(\"評価されていません\")\n",
    "    \n",
    "    # 名前\n",
    "    print(bs.find(\"h1\", class_=\"section-hero-header-title GLOBAL__gm2-headline-5\").text)\n",
    "    \n",
    "    driver.back()\n",
    "    time.sleep(4)\n",
    "\n",
    "try:\n",
    "    driver = webdriver.Chrome(driver_exe)\n",
    "    driver.get(url)\n",
    "    driver.implicitly_wait(10)\n",
    "    driver.find_element_by_id(\"searchboxinput\").send_keys(p)\n",
    "    driver.find_element_by_id(\"searchboxinput\").send_keys(Keys.ENTER)\n",
    "    time.sleep(10)\n",
    "    bs = BeautifulSoup(driver.page_source, \"html.parser\")\n",
    "    \n",
    "    if bs.find(\"h1\", class_=\"section-hero-header-title GLOBAL__gm2-headline-5\") is None:\n",
    "        i = 1\n",
    "        while True:\n",
    "            try:\n",
    "                search(str(i))\n",
    "                i += 1\n",
    "            except:\n",
    "                break\n",
    "    else:\n",
    "        if bs.find(\"span\", class_=\"section-star-display\") is not None:\n",
    "            # 評価\n",
    "            print(bs.find(\"span\", class_=\"section-star-display\").text)\n",
    "        else:\n",
    "            print(\"評価されていません\")\n",
    "            # 名前\n",
    "        print(bs.find(\"h1\", class_=\"section-hero-header-title GLOBAL__gm2-headline-5\").text)\n",
    "    \n",
    "\n",
    "    input(\"ENTERを入力したらChromeを閉じます\")\n",
    "# driver.find_element_by_xpath(\"//button[@class='section-back-to-list-button blue-link noprint']\").click()\n",
    "finally:\n",
    "    driver.quit()"
   ]
  }
 ],
 "metadata": {
  "kernelspec": {
   "display_name": "Python 3",
   "language": "python",
   "name": "python3"
  },
  "language_info": {
   "codemirror_mode": {
    "name": "ipython",
    "version": 3
   },
   "file_extension": ".py",
   "mimetype": "text/x-python",
   "name": "python",
   "nbconvert_exporter": "python",
   "pygments_lexer": "ipython3",
   "version": "3.7.3"
  }
 },
 "nbformat": 4,
 "nbformat_minor": 2
}
