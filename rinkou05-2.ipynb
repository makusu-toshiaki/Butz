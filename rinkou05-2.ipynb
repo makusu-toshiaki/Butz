{
 "cells": [
  {
   "cell_type": "code",
   "execution_count": 12,
   "metadata": {
    "ExecuteTime": {
     "end_time": "2019-05-09T04:46:36.013921Z",
     "start_time": "2019-05-09T04:46:36.009208Z"
    }
   },
   "outputs": [],
   "source": [
    "from selenium import webdriver\n",
    "import requests"
   ]
  },
  {
   "cell_type": "code",
   "execution_count": 16,
   "metadata": {
    "ExecuteTime": {
     "end_time": "2019-05-09T05:00:44.198139Z",
     "start_time": "2019-05-09T04:48:20.820744Z"
    }
   },
   "outputs": [
    {
     "name": "stdout",
     "output_type": "stream",
     "text": [
      "Press ENTER to close the automated browser\n"
     ]
    }
   ],
   "source": [
    "url = \"http://www.webscrapingfordatascience.com/complexjavascript/\"\n",
    "driver_exe=\"/mnt/c/Users/t-katou/Desktop/makusu/chromedriver.exe\"\n",
    "driver = webdriver.Chrome(driver_exe)\n",
    "driver.get(url)\n",
    "\n",
    "input(\"Press ENTER to close the automated browser\")\n",
    "driver.quit()"
   ]
  },
  {
   "cell_type": "code",
   "execution_count": null,
   "metadata": {},
   "outputs": [],
   "source": [
    "url = \"http://www.webscrapingfordatascience.com/complexjavascript/\"\n",
    "\n",
    "driver = webdriver.Chrome()\n",
    "driver.get(url)\n",
    "for quote in driver.find_elements_by_class_name(\"quote\"):\n",
    "    print(quote.text)\n",
    "input(\"press ENTER to close the automated browser\")\n",
    "driver.quit()"
   ]
  },
  {
   "cell_type": "code",
   "execution_count": 22,
   "metadata": {
    "ExecuteTime": {
     "end_time": "2019-05-09T05:11:05.878489Z",
     "start_time": "2019-05-09T05:09:59.003446Z"
    }
   },
   "outputs": [
    {
     "name": "stdout",
     "output_type": "stream",
     "text": [
      "Life is about making an impact, not making an income. -Kevin Kruse\n",
      "Whatever the mind of man can conceive and believe, it can achieve. –Napoleon Hill\n",
      "Strive not to be a success, but rather to be of value. –Albert Einstein\n",
      "Press ENTER to close the automated browser\n"
     ]
    }
   ],
   "source": [
    "# 138p\n",
    "url = \"http://www.webscrapingfordatascience.com/complexjavascript/\"\n",
    "\n",
    "driver = webdriver.Chrome(driver_exe)\n",
    "\n",
    "driver.implicitly_wait(1)\n",
    "driver.get(url)\n",
    "\n",
    "for quote in driver.find_elements_by_class_name(\"quote\"):\n",
    "    print(quote.text)\n",
    "    \n",
    "input(\"Press ENTER to close the automated browser\")\n",
    "driver.quit()"
   ]
  },
  {
   "cell_type": "code",
   "execution_count": 42,
   "metadata": {
    "ExecuteTime": {
     "end_time": "2019-05-09T07:17:57.973328Z",
     "start_time": "2019-05-09T07:17:57.961532Z"
    }
   },
   "outputs": [],
   "source": [
    "from selenium.webdriver.common.by import By\n",
    "from selenium.webdriver.support.ui import WebDriverWait\n",
    "from selenium.webdriver.support import expected_conditions as EC\n",
    "from selenium.common.exceptions import TimeoutException"
   ]
  },
  {
   "cell_type": "code",
   "execution_count": 27,
   "metadata": {
    "ExecuteTime": {
     "end_time": "2019-05-09T05:30:07.136940Z",
     "start_time": "2019-05-09T05:29:11.231209Z"
    }
   },
   "outputs": [
    {
     "name": "stdout",
     "output_type": "stream",
     "text": [
      "Life is about making an impact, not making an income. -Kevin Kruse\n",
      "Whatever the mind of man can conceive and believe, it can achieve. –Napoleon Hill\n",
      "Strive not to be a success, but rather to be of value. –Albert Einstein\n",
      "Press ENTER to close the automated browser\n"
     ]
    }
   ],
   "source": [
    "url = \"http://www.webscrapingfordatascience.com/complexjavascript/\"\n",
    "\n",
    "driver = webdriver.Chrome(driver_exe)\n",
    "driver.get(url)\n",
    "\n",
    "# CSS_SELECTORはCSSが使う属性を使用して、検索する。\n",
    "# WebDriverWaitは10秒経つかFalseが来るまで待つ、WebDriverWaitは待つだけ。\n",
    "quote_elements = WebDriverWait(driver, 100).until(\n",
    "    EC.presence_of_all_elements_located(\n",
    "        (By.CSS_SELECTOR, \".quote:not(.decode)\")\n",
    "    )\n",
    ")\n",
    "\n",
    "for quote in quote_elements:\n",
    "    print(quote.text)\n",
    "\n",
    "input(\"Press ENTER to close the automated browser\")\n",
    "driver.quit()"
   ]
  },
  {
   "cell_type": "code",
   "execution_count": 43,
   "metadata": {
    "ExecuteTime": {
     "end_time": "2019-05-09T07:19:10.036101Z",
     "start_time": "2019-05-09T07:18:43.815792Z"
    }
   },
   "outputs": [
    {
     "name": "stdout",
     "output_type": "stream",
     "text": [
      "... now seeing 3 quotes\n",
      "... now seeing 6 quotes\n",
      "... now seeing 9 quotes\n",
      "... now seeing 12 quotes\n",
      "... now seeing 15 quotes\n",
      "... now seeing 18 quotes\n",
      "... now seeing 21 quotes\n",
      "... now seeing 24 quotes\n",
      "... now seeing 27 quotes\n",
      "... now seeing 30 quotes\n",
      "... now seeing 33 quotes\n",
      "...done!\n",
      "33 quotes found\n",
      "\n",
      "Life is about making an impact, not making an income. -Kevin Kruse\n",
      "Whatever the mind of man can conceive and believe, it can achieve. –Napoleon Hill\n",
      "Strive not to be a success, but rather to be of value. –Albert Einstein\n",
      "Two roads diverged in a wood, and I—I took the one less traveled by, And that has made all the difference. –Robert Frost\n",
      "I attribute my success to this: I never gave or took any excuse. –Florence Nightingale\n",
      "You miss 100% of the shots you don’t take. –Wayne Gretzky\n",
      "I've missed more than 9000 shots in my career. I've lost almost 300 games. 26 times I've been trusted to take the game winning shot and missed. I've failed over and over and over again in my life. And that is why I succeed. –Michael Jordan\n",
      "The most difficult thing is the decision to act, the rest is merely tenacity. –Amelia Earhart\n",
      "Every strike brings me closer to the next home run. –Babe Ruth\n",
      "Definiteness of purpose is the starting point of all achievement. –W. Clement Stone\n",
      "Life isn't about getting and having, it's about giving and being. –Kevin Kruse\n",
      "Life is what happens to you while you’re busy making other plans. –John Lennon\n",
      "We become what we think about. –Earl Nightingale\n",
      "Twenty years from now you will be more disappointed by the things that you didn’t do than by the ones you did do, so throw off the bowlines, sail away from safe harbor, catch the trade winds in your sails. Explore, Dream, Discover. –Mark Twain\n",
      "Life is 10% what happens to me and 90% of how I react to it. –Charles Swindoll\n",
      "The most common way people give up their power is by thinking they don’t have any. –Alice Walker\n",
      "The mind is everything. What you think you become. –Buddha\n",
      "The best time to plant a tree was 20 years ago. The second best time is now. –Chinese Proverb\n",
      "An unexamined life is not worth living. –Socrates\n",
      "Eighty percent of success is showing up. –Woody Allen\n",
      "Your time is limited, so don’t waste it living someone else’s life. –Steve Jobs\n",
      "Winning isn’t everything, but wanting to win is. –Vince Lombardi\n",
      "I am not a product of my circumstances. I am a product of my decisions. –Stephen Covey\n",
      "Every child is an artist. The problem is how to remain an artist once he grows up. –Pablo Picasso\n",
      "You can never cross the ocean until you have the courage to lose sight of the shore. –Christopher Columbus\n",
      "I’ve learned that people will forget what you said, people will forget what you did, but people will never forget how you made them feel. –Maya Angelou\n",
      "Either you run the day, or the day runs you. –Jim Rohn\n",
      "Whether you think you can or you think you can’t, you’re right. –Henry Ford\n",
      "The two most important days in your life are the day you are born and the day you find out why. –Mark Twain\n",
      "Whatever you can do, or dream you can, begin it. Boldness has genius, power and magic in it. –Johann Wolfgang von Goethe\n",
      "The best revenge is massive success. –Frank Sinatra\n",
      "People often say that motivation doesn’t last. Well, neither does bathing. That’s why we recommend it daily. –Zig Ziglar\n",
      "Life shrinks or expands in proportion to one's courage. –Anais Nin\n",
      "Press ENTER to close the automated browser\n"
     ]
    }
   ],
   "source": [
    "class at_least_n_elements_found(object):\n",
    "    # classを定義する時点で実行される。quotes_locator, nr_quotes + 1がinitに入る\n",
    "    def __init__(self, locator,n):\n",
    "        self.locator = locator\n",
    "        self.n = n\n",
    "        \n",
    "    def __call__(self, driver):\n",
    "        elements = driver.find_elements(*self.locator)\n",
    "        if len(elements) >= self.n:\n",
    "            return elements\n",
    "        else:\n",
    "            return False\n",
    "        \n",
    "url = \"http://www.webscrapingfordatascience.com/complexjavascript/\"\n",
    "\n",
    "driver = webdriver.Chrome(driver_exe)\n",
    "driver.get(url)\n",
    "\n",
    "driver.implicitly_wait(10)\n",
    "\n",
    "div_element = driver.find_element_by_class_name(\"infinite-scroll\")\n",
    "\n",
    "quotes_locator = (By.CSS_SELECTOR, \".quote:not(.decode)\")\n",
    "nr_quotes = 0\n",
    "\n",
    "while True:\n",
    "# div_elementには\n",
    "# scrollTopとscrollHeightにはスクロールの位置を代入\n",
    "# この行はスクロールの位置が一番下になったら新たなスクロール位置を増やすという意味\n",
    "    driver.execute_script(\"arguments[0].scrollTop = arguments[0].scrollHeight\", div_element)\n",
    "    \n",
    "    try:\n",
    "        # 3秒経つまで\n",
    "        all_quotes = WebDriverWait(driver, 3).until(\n",
    "            at_least_n_elements_found(quotes_locator, nr_quotes + 1)\n",
    "        )\n",
    "        \n",
    "    except TimeoutException as ex:\n",
    "# 144p\n",
    "        print(\"...done!\")\n",
    "        break\n",
    "        \n",
    "    nr_quotes = len(all_quotes)\n",
    "    print(\"... now seeing\", nr_quotes, \"quotes\")\n",
    "    \n",
    "print(len(all_quotes), \"quotes found\\n\")\n",
    "for quote in all_quotes:\n",
    "    print(quote.text)\n",
    "    \n",
    "input(\"Press ENTER to close the automated browser\")\n",
    "driver.quit()"
   ]
  },
  {
   "cell_type": "code",
   "execution_count": 47,
   "metadata": {
    "ExecuteTime": {
     "end_time": "2019-05-09T07:38:34.652431Z",
     "start_time": "2019-05-09T07:38:34.646425Z"
    }
   },
   "outputs": [
    {
     "name": "stdout",
     "output_type": "stream",
     "text": [
      "a\n"
     ]
    }
   ],
   "source": [
    "class at_least_n_elements_found(object):\n",
    "    def __init__(self, locator,n):\n",
    "        b = c\n",
    "        self.locator = locator\n",
    "        self.n = n\n",
    "        \n",
    "    def __call__(self, driver):\n",
    "        elements = driver.find_elements(*self.locator)\n",
    "        b = c\n",
    "        if len(elements) >= self.n:\n",
    "            return elements\n",
    "        else:\n",
    "            return False\n",
    "        \n",
    "print(\"a\")"
   ]
  },
  {
   "cell_type": "code",
   "execution_count": 48,
   "metadata": {
    "ExecuteTime": {
     "end_time": "2019-05-09T07:38:36.851183Z",
     "start_time": "2019-05-09T07:38:36.827473Z"
    }
   },
   "outputs": [
    {
     "ename": "NameError",
     "evalue": "name 'c' is not defined",
     "output_type": "error",
     "traceback": [
      "\u001b[0;31m---------------------------------------------------------------------------\u001b[0m",
      "\u001b[0;31mNameError\u001b[0m                                 Traceback (most recent call last)",
      "\u001b[0;32m<ipython-input-48-6a4587a06591>\u001b[0m in \u001b[0;36m<module>\u001b[0;34m\u001b[0m\n\u001b[1;32m     13\u001b[0m             \u001b[0;32mreturn\u001b[0m \u001b[0;32mFalse\u001b[0m\u001b[0;34m\u001b[0m\u001b[0;34m\u001b[0m\u001b[0m\n\u001b[1;32m     14\u001b[0m \u001b[0;34m\u001b[0m\u001b[0m\n\u001b[0;32m---> 15\u001b[0;31m \u001b[0mat_least_n_elements_found\u001b[0m\u001b[0;34m(\u001b[0m\u001b[0;34m\"a\"\u001b[0m\u001b[0;34m,\u001b[0m \u001b[0;36m1\u001b[0m\u001b[0;34m)\u001b[0m\u001b[0;34m\u001b[0m\u001b[0;34m\u001b[0m\u001b[0m\n\u001b[0m\u001b[1;32m     16\u001b[0m \u001b[0mprint\u001b[0m\u001b[0;34m(\u001b[0m\u001b[0;34m\"a\"\u001b[0m\u001b[0;34m)\u001b[0m\u001b[0;34m\u001b[0m\u001b[0;34m\u001b[0m\u001b[0m\n",
      "\u001b[0;32m<ipython-input-48-6a4587a06591>\u001b[0m in \u001b[0;36m__init__\u001b[0;34m(self, locator, n)\u001b[0m\n\u001b[1;32m      1\u001b[0m \u001b[0;32mclass\u001b[0m \u001b[0mat_least_n_elements_found\u001b[0m\u001b[0;34m(\u001b[0m\u001b[0mobject\u001b[0m\u001b[0;34m)\u001b[0m\u001b[0;34m:\u001b[0m\u001b[0;34m\u001b[0m\u001b[0;34m\u001b[0m\u001b[0m\n\u001b[1;32m      2\u001b[0m     \u001b[0;32mdef\u001b[0m \u001b[0m__init__\u001b[0m\u001b[0;34m(\u001b[0m\u001b[0mself\u001b[0m\u001b[0;34m,\u001b[0m \u001b[0mlocator\u001b[0m\u001b[0;34m,\u001b[0m\u001b[0mn\u001b[0m\u001b[0;34m)\u001b[0m\u001b[0;34m:\u001b[0m\u001b[0;34m\u001b[0m\u001b[0;34m\u001b[0m\u001b[0m\n\u001b[0;32m----> 3\u001b[0;31m         \u001b[0mb\u001b[0m \u001b[0;34m=\u001b[0m \u001b[0mc\u001b[0m\u001b[0;34m\u001b[0m\u001b[0;34m\u001b[0m\u001b[0m\n\u001b[0m\u001b[1;32m      4\u001b[0m         \u001b[0mself\u001b[0m\u001b[0;34m.\u001b[0m\u001b[0mlocator\u001b[0m \u001b[0;34m=\u001b[0m \u001b[0mlocator\u001b[0m\u001b[0;34m\u001b[0m\u001b[0;34m\u001b[0m\u001b[0m\n\u001b[1;32m      5\u001b[0m         \u001b[0mself\u001b[0m\u001b[0;34m.\u001b[0m\u001b[0mn\u001b[0m \u001b[0;34m=\u001b[0m \u001b[0mn\u001b[0m\u001b[0;34m\u001b[0m\u001b[0;34m\u001b[0m\u001b[0m\n",
      "\u001b[0;31mNameError\u001b[0m: name 'c' is not defined"
     ]
    }
   ],
   "source": [
    "class at_least_n_elements_found(object):\n",
    "    def __init__(self, locator,n):\n",
    "        b = c\n",
    "        self.locator = locator\n",
    "        self.n = n\n",
    "        \n",
    "    def __call__(self, driver):\n",
    "        elements = driver.find_elements(*self.locator)\n",
    "        b = c\n",
    "        if len(elements) >= self.n:\n",
    "            return elements\n",
    "        else:\n",
    "            return False\n",
    "        \n",
    "at_least_n_elements_found(\"a\", 1)\n",
    "print(\"a\")"
   ]
  },
  {
   "cell_type": "code",
   "execution_count": null,
   "metadata": {
    "ExecuteTime": {
     "end_time": "2019-05-09T07:43:48.672006Z",
     "start_time": "2019-05-09T07:43:48.653483Z"
    }
   },
   "outputs": [],
   "source": []
  }
 ],
 "metadata": {
  "kernelspec": {
   "display_name": "Python 3",
   "language": "python",
   "name": "python3"
  },
  "language_info": {
   "codemirror_mode": {
    "name": "ipython",
    "version": 3
   },
   "file_extension": ".py",
   "mimetype": "text/x-python",
   "name": "python",
   "nbconvert_exporter": "python",
   "pygments_lexer": "ipython3",
   "version": "3.6.7"
  },
  "varInspector": {
   "cols": {
    "lenName": 16,
    "lenType": 16,
    "lenVar": 40
   },
   "kernels_config": {
    "python": {
     "delete_cmd_postfix": "",
     "delete_cmd_prefix": "del ",
     "library": "var_list.py",
     "varRefreshCmd": "print(var_dic_list())"
    },
    "r": {
     "delete_cmd_postfix": ") ",
     "delete_cmd_prefix": "rm(",
     "library": "var_list.r",
     "varRefreshCmd": "cat(var_dic_list()) "
    }
   },
   "types_to_exclude": [
    "module",
    "function",
    "builtin_function_or_method",
    "instance",
    "_Feature"
   ],
   "window_display": false
  }
 },
 "nbformat": 4,
 "nbformat_minor": 2
}
