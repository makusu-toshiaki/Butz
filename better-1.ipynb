{
 "cells": [
  {
   "cell_type": "code",
   "execution_count": 1,
   "metadata": {
    "ExecuteTime": {
     "end_time": "2019-05-10T04:29:39.141944Z",
     "start_time": "2019-05-10T04:29:37.744765Z"
    }
   },
   "outputs": [],
   "source": [
    "import time\n",
    "import re\n",
    "import requests\n",
    "from bs4 import BeautifulSoup\n",
    "from selenium import webdriver\n",
    "from selenium.webdriver.common.keys import Keys"
   ]
  },
  {
   "cell_type": "code",
   "execution_count": 3,
   "metadata": {
    "ExecuteTime": {
     "end_time": "2019-05-10T04:56:26.449976Z",
     "start_time": "2019-05-10T04:56:04.421726Z"
    }
   },
   "outputs": [
    {
     "name": "stdout",
     "output_type": "stream",
     "text": [
      "〒131-0045 東京都墨田区押上１丁目１−２\n",
      "PR66+27 墨田区、東京都\n",
      "0570-550-634\n",
      "日曜日8時00分～22時00分\n",
      "月曜日8時00分～22時00分\n",
      "火曜日8時00分～22時00分\n",
      "水曜日8時00分～22時00分\n",
      "木曜日8時00分～22時00分\n",
      "金曜日8時00分～22時00分\n",
      "土曜日8時00分～22時00分\n",
      "ENTERを入力したらChromeを閉じます\n"
     ]
    }
   ],
   "source": [
    "url = \"https://www.google.com/maps/?hl=ja\"\n",
    "driver_exe=\"C:\\\\Users\\\\toshiro\\\\Desktop\\\\ttc\\\\chromedriver.exe\"\n",
    "# driver_exe=\"/mnt/c/Users/t-katou/Desktop/makusu/chromedriver.exe\"      \n",
    "\n",
    "# options = webdriver.ChromeOptions()\n",
    "# options.add_argument(\"--headless\")\n",
    "# options.add_argument(\"--disable-gpu\")\n",
    "# , oprions = options\n",
    "driver = webdriver.Chrome(driver_exe)\n",
    "try:\n",
    "    driver.get(url)\n",
    "\n",
    "    driver.implicitly_wait(10)\n",
    "    driver.find_element_by_id(\"searchboxinput\").send_keys(\"東京スカイツリー\")\n",
    "    driver.find_element_by_id(\"searchboxinput\").send_keys(Keys.ENTER)\n",
    "    time.sleep(10)\n",
    "\n",
    "    bs = BeautifulSoup(driver.page_source, \"html.parser\")\n",
    "    elems = bs.find_all(\"div\", class_=\"section-info section-info-hoverable\")\n",
    "    \n",
    "    for elem in elems:\n",
    "        ps = elem.find(\"span\", class_=\"widget-pane-link\")\n",
    "        if ps is not None:\n",
    "            print(ps.text)\n",
    "\n",
    "    driver.find_element_by_xpath(\"//div[@data-tooltip='営業時間をすべて表示します']\").click()\n",
    "    time.sleep(5)\n",
    "    bs = BeautifulSoup(driver.page_source, \"html.parser\")\n",
    "    \n",
    "    service_info = bs.find_all(\"tr\", class_ = \"widget-pane-info-open-hours-row-row section-info-hoverable\")\n",
    "    for week in service_info:\n",
    "        day = week.find(\"div\")\n",
    "        time = week.find(\"li\")\n",
    "        print(day.text+time.text)\n",
    "\n",
    "finally:\n",
    "    input(\"ENTERを入力したらChromeを閉じます\")\n",
    "    driver.quit()"
   ]
  },
  {
   "cell_type": "code",
   "execution_count": null,
   "metadata": {},
   "outputs": [],
   "source": []
  }
 ],
 "metadata": {
  "kernelspec": {
   "display_name": "Python 3",
   "language": "python",
   "name": "python3"
  },
  "language_info": {
   "codemirror_mode": {
    "name": "ipython",
    "version": 3
   },
   "file_extension": ".py",
   "mimetype": "text/x-python",
   "name": "python",
   "nbconvert_exporter": "python",
   "pygments_lexer": "ipython3",
   "version": "3.7.3"
  },
  "varInspector": {
   "cols": {
    "lenName": 16,
    "lenType": 16,
    "lenVar": 40
   },
   "kernels_config": {
    "python": {
     "delete_cmd_postfix": "",
     "delete_cmd_prefix": "del ",
     "library": "var_list.py",
     "varRefreshCmd": "print(var_dic_list())"
    },
    "r": {
     "delete_cmd_postfix": ") ",
     "delete_cmd_prefix": "rm(",
     "library": "var_list.r",
     "varRefreshCmd": "cat(var_dic_list()) "
    }
   },
   "types_to_exclude": [
    "module",
    "function",
    "builtin_function_or_method",
    "instance",
    "_Feature"
   ],
   "window_display": false
  }
 },
 "nbformat": 4,
 "nbformat_minor": 2
}
