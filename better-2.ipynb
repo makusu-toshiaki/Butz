{
 "cells": [
  {
   "cell_type": "code",
   "execution_count": 1,
   "metadata": {
    "ExecuteTime": {
     "end_time": "2019-05-10T05:12:31.154701Z",
     "start_time": "2019-05-10T05:12:30.573561Z"
    }
   },
   "outputs": [
    {
     "name": "stderr",
     "output_type": "stream",
     "text": [
      "/home/t-katou/.local/lib/python3.6/site-packages/requests/__init__.py:91: RequestsDependencyWarning: urllib3 (1.25.2) or chardet (3.0.4) doesn't match a supported version!\n",
      "  RequestsDependencyWarning)\n"
     ]
    }
   ],
   "source": [
    "import time\n",
    "import re\n",
    "import requests\n",
    "from bs4 import BeautifulSoup\n",
    "from selenium import webdriver\n",
    "from selenium.webdriver.common.keys import Keys"
   ]
  },
  {
   "cell_type": "code",
   "execution_count": null,
   "metadata": {},
   "outputs": [],
   "source": [
    "class at_least_n_elements_found(object):\n",
    "    def __init__(self, locator,n):\n",
    "        self.locator = locator\n",
    "        self.n = n\n",
    "        \n",
    "    def __call__(self, driver):\n",
    "        elements = driver.find_elements(*self.locator)\n",
    "        if len(elements) >= self.n:\n",
    "            return elements\n",
    "        else:\n",
    "            return False\n",
    "\n",
    "url = \"https://www.google.com/maps/?hl=ja\"\n",
    "driver_exe=\"/mnt/c/Users/t-katou/Desktop/makusu/chromedriver.exe\"      \n",
    "    \n",
    "# options = webdriver.ChromeOptions()\n",
    "# options.add_argument(\"--headless\")\n",
    "# options.add_argument(\"--disable-gpu\")\n",
    "# , oprions = options\n",
    "driver = webdriver.Chrome(driver_exe)\n",
    "\n",
    "driver.get(url)\n",
    "\n",
    "driver.implicitly_wait(10)\n",
    "driver.find_element_by_id(\"searchboxinput\").send_keys(\"東京スカイツリー\")\n",
    "driver.find_element_by_id(\"searchboxinput\").send_keys(Keys.ENTER)\n",
    "time.sleep(10)\n",
    "\n",
    "bs = BeautifulSoup(driver.page_source, \"html.parser\")\n",
    "elems = bs.findall(\"span\", class_=\"widget-info-link\")\n",
    "# for elem in elems:\n",
    "#     ps = elem.find(\"span\", class_=\"widget-pane-link\")\n",
    "#     if ps is not None:\n",
    "#         print(ps.text)\n",
    "print(elems.[0].find(\"span\", class_=\"widget-pane-link\").text)\n",
    "\n",
    "service_info = bs.find_all(\"div\",class_= \"section-info-line section-info-hoverable\")\n",
    "for week in service_info:\n",
    "    info = week.find_all(\"span\", \"section-info-text\")\n",
    "    print(info[0].text+info[1].text)\n",
    "\n",
    "\n",
    "input(\"ENTERを入力したらChromeを閉じます\")\n",
    "driver.quit()"
   ]
  }
 ],
 "metadata": {
  "kernelspec": {
   "display_name": "Python 3",
   "language": "python",
   "name": "python3"
  },
  "language_info": {
   "codemirror_mode": {
    "name": "ipython",
    "version": 3
   },
   "file_extension": ".py",
   "mimetype": "text/x-python",
   "name": "python",
   "nbconvert_exporter": "python",
   "pygments_lexer": "ipython3",
   "version": "3.6.7"
  },
  "varInspector": {
   "cols": {
    "lenName": 16,
    "lenType": 16,
    "lenVar": 40
   },
   "kernels_config": {
    "python": {
     "delete_cmd_postfix": "",
     "delete_cmd_prefix": "del ",
     "library": "var_list.py",
     "varRefreshCmd": "print(var_dic_list())"
    },
    "r": {
     "delete_cmd_postfix": ") ",
     "delete_cmd_prefix": "rm(",
     "library": "var_list.r",
     "varRefreshCmd": "cat(var_dic_list()) "
    }
   },
   "types_to_exclude": [
    "module",
    "function",
    "builtin_function_or_method",
    "instance",
    "_Feature"
   ],
   "window_display": false
  }
 },
 "nbformat": 4,
 "nbformat_minor": 2
}
