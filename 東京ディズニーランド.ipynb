{
 "cells": [
  {
   "cell_type": "code",
   "execution_count": null,
   "metadata": {
    "ExecuteTime": {
     "end_time": "2019-05-10T06:40:09.233674Z",
     "start_time": "2019-05-10T06:40:09.214818Z"
    }
   },
   "outputs": [],
   "source": [
    "import time\n",
    "import re\n",
    "import requests\n",
    "from bs4 import BeautifulSoup\n",
    "from selenium import webdriver\n",
    "from selenium.webdriver.common.keys import Keys"
   ]
  },
  {
   "cell_type": "code",
   "execution_count": 24,
   "metadata": {
    "ExecuteTime": {
     "end_time": "2019-05-10T07:22:46.022708Z",
     "start_time": "2019-05-10T07:12:13.227409Z"
    }
   },
   "outputs": [
    {
     "name": "stdout",
     "output_type": "stream",
     "text": [
      "4.6\n",
      "東京ディズニーランド\n",
      "4.6\n",
      "東京ディズニーリゾート\n",
      "4.6\n",
      "東京ディズニーシー\n",
      "ENTERを入力したらChromeを閉じます\n"
     ]
    }
   ],
   "source": [
    "class at_least_n_elements_found(object):\n",
    "    def __init__(self, locator,n):\n",
    "        self.locator = locator\n",
    "        self.n = n\n",
    "        \n",
    "    def __call__(self, driver):\n",
    "        elements = driver.find_elements(*self.locator)\n",
    "        if len(elements) >= self.n:\n",
    "            return elements\n",
    "        else:\n",
    "            return False\n",
    "\n",
    "url = \"https://www.google.com/maps/?hl=ja\"\n",
    "driver_exe=\"/mnt/c/Users/t-katou/Desktop/makusu/chromedriver.exe\"      \n",
    "    \n",
    "# options = webdriver.ChromeOptions()\n",
    "# options.add_argument(\"--headless\")\n",
    "# options.add_argument(\"--disable-gpu\")\n",
    "# , options = options\n",
    "driver = webdriver.Chrome(driver_exe)\n",
    "try:\n",
    "\n",
    "    driver.get(url)\n",
    "\n",
    "    driver.implicitly_wait(10)\n",
    "    driver.find_element_by_id(\"searchboxinput\").send_keys(\"東京ディズニーランド\")\n",
    "    driver.find_element_by_id(\"searchboxinput\").send_keys(Keys.ENTER)\n",
    "    time.sleep(10)\n",
    "    bs = BeautifulSoup(driver.page_source, \"html.parser\")\n",
    "    \n",
    "    driver.find_element_by_xpath(\"//div[@class='section-result']\").click()\n",
    "    time.sleep(5)\n",
    "    bs = BeautifulSoup(driver.page_source, \"html.parser\")\n",
    "    \n",
    "    star = bs.find(\"span\", class_=\"section-star-display\")\n",
    "    print(star.text)\n",
    "    name = bs.find(\"h1\", class_=\"section-hero-header-title GLOBAL__gm2-headline-5\")\n",
    "    print(name.text)\n",
    "    \n",
    "    \n",
    "#     driver.find_element_by_xpath(\"//button[@class='section-back-to-list-button blue-link noprint']\").click()\n",
    "    driver.back()\n",
    "    time.sleep(5)\n",
    "    bs = BeautifulSoup(driver.page_source, \"html.parser\")\n",
    "    driver.find_element_by_xpath(\"//div[@data-result-index='2']\").click()\n",
    "    time.sleep(5)\n",
    "    bs = BeautifulSoup(driver.page_source, \"html.parser\")\n",
    "    \n",
    "    star = bs.find(\"span\", class_=\"section-star-display\")\n",
    "    print(star.text)\n",
    "    name = bs.find(\"h1\", class_=\"section-hero-header-title GLOBAL__gm2-headline-5\")\n",
    "    print(name.text)\n",
    "    \n",
    "    driver.back()\n",
    "    time.sleep(7)\n",
    "    bs = BeautifulSoup(driver.page_source, \"html.parser\")\n",
    "    driver.find_element_by_xpath(\"//div[@data-result-index='3']\").click()\n",
    "    time.sleep(7)\n",
    "    bs = BeautifulSoup(driver.page_source, \"html.parser\")\n",
    "    \n",
    "    star = bs.find(\"span\", class_=\"section-star-display\")\n",
    "    print(star.text)\n",
    "    name = bs.find(\"h1\", class_=\"section-hero-header-title GLOBAL__gm2-headline-5\")\n",
    "    print(name.text)\n",
    "    \n",
    "    input(\"ENTERを入力したらChromeを閉じます\")\n",
    "finally:\n",
    "    driver.quit()"
   ]
  },
  {
   "cell_type": "code",
   "execution_count": null,
   "metadata": {},
   "outputs": [],
   "source": []
  }
 ],
 "metadata": {
  "kernelspec": {
   "display_name": "Python 3",
   "language": "python",
   "name": "python3"
  },
  "language_info": {
   "codemirror_mode": {
    "name": "ipython",
    "version": 3
   },
   "file_extension": ".py",
   "mimetype": "text/x-python",
   "name": "python",
   "nbconvert_exporter": "python",
   "pygments_lexer": "ipython3",
   "version": "3.6.7"
  },
  "varInspector": {
   "cols": {
    "lenName": 16,
    "lenType": 16,
    "lenVar": 40
   },
   "kernels_config": {
    "python": {
     "delete_cmd_postfix": "",
     "delete_cmd_prefix": "del ",
     "library": "var_list.py",
     "varRefreshCmd": "print(var_dic_list())"
    },
    "r": {
     "delete_cmd_postfix": ") ",
     "delete_cmd_prefix": "rm(",
     "library": "var_list.r",
     "varRefreshCmd": "cat(var_dic_list()) "
    }
   },
   "types_to_exclude": [
    "module",
    "function",
    "builtin_function_or_method",
    "instance",
    "_Feature"
   ],
   "window_display": false
  }
 },
 "nbformat": 4,
 "nbformat_minor": 2
}
