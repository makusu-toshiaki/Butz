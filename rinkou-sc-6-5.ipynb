{
 "cells": [
  {
   "cell_type": "code",
   "execution_count": 1,
   "metadata": {
    "ExecuteTime": {
     "end_time": "2019-05-13T09:17:00.411203Z",
     "start_time": "2019-05-13T09:16:59.232152Z"
    }
   },
   "outputs": [
    {
     "name": "stderr",
     "output_type": "stream",
     "text": [
      "/home/t-katou/.local/lib/python3.6/site-packages/requests/__init__.py:91: RequestsDependencyWarning: urllib3 (1.25.2) or chardet (3.0.4) doesn't match a supported version!\n",
      "  RequestsDependencyWarning)\n"
     ]
    }
   ],
   "source": [
    "import requests\n",
    "import records\n",
    "import re\n",
    "import os, os.path\n",
    "from bs4 import BeautifulSoup\n",
    "from urllib.parse import urljoin, urldefrag\n",
    "from sqlalchemy.exc import IntegrityError"
   ]
  },
  {
   "cell_type": "code",
   "execution_count": null,
   "metadata": {
    "ExecuteTime": {
     "start_time": "2019-05-13T09:17:51.186Z"
    }
   },
   "outputs": [],
   "source": [
    "# 166p\n",
    "db = records.Database(\"sqlite:///wikipedia.db\")\n",
    "\n",
    "# クロールしたページとこれからクロールするページをこのテーブルに記録する\n",
    "db.query(\"\"\"CREATE TABLE IF NOT EXISTS pages (\n",
    "            url text PRIMARY KEY,\n",
    "            created_at datetime,\n",
    "            html_file text NULL,\n",
    "            visited_at datetime NULL)\"\"\")\n",
    "\n",
    "# このテーブルに<a>タグを記録する\n",
    "db.query(\"\"\"CREATE TABLE IF NOT EXISTS links (\n",
    "            url text, link_url text,\n",
    "            PRIMARY KEY (url, link_url))\"\"\")\n",
    "\n",
    "# このテーブルに<img>タグを記録する\n",
    "db.query(\"\"\"CREATE TABLE IF NOT EXISTS images (\n",
    "            url text, img_url text, img_file text,\n",
    "            PRIMARY KEY (url, img_url))\"\"\")\n",
    "\n",
    "# 167p\n",
    "base_url = \"https://en.wikipedia.org/wiki/\"\n",
    "file_store = \"./downloads/\"\n",
    "\n",
    "if not os.path.exists(file_store):\n",
    "    os.makedirs(file_store)\n",
    "    \n",
    "def url_to_file_name(url):\n",
    "    url = str(url).strip().replace(\" \", \"_\")\n",
    "    return re.sub(r\"(?u)[^-\\w.]\", \"\", url)\n",
    "\n",
    "def download(url, filename):\n",
    "    r = requests.get(url, stream=True)\n",
    "    with open(os.path.join(file_store, filename), \"wb\") as the_image:\n",
    "        for byte_chunk in r.iter_content(chunk_size=4096*4):\n",
    "            the_image.write(byte_chunk)\n",
    "            \n",
    "def store_page(url):\n",
    "    try:\n",
    "        db.query(\"\"\"INSERT INTO pages (url, created_at)\n",
    "                    VALUES (:url, CURRENT_TIMESTAMP)\"\"\", url=url)\n",
    "    except IntegrityError as ie:\n",
    "        pass\n",
    "\n",
    "def store_link(url, link_url):\n",
    "    try:\n",
    "        db.query(\"\"\"INSERT INTO links (url, link_url)\n",
    "                    VALUES (:url, :link_url)\"\"\",\n",
    "                url=url, link_url=link_url)\n",
    "    except IntegrityError as ie:\n",
    "        pass\n",
    "    \n",
    "def store_image(url, img_url, img_file):\n",
    "    try:\n",
    "        db.query(\"\"\"INSERT INTO images (url, img_url, img_file)\n",
    "                    VALUES (:url, :img_url, :img_file)\"\"\",\n",
    "                url=url, img_url=img_url, img_file=img_file)\n",
    "    except IntegrityError as ie:\n",
    "        pass\n",
    "\n",
    "# 168p\n",
    "def set_visited(url, html_file):\n",
    "    db.query(\"\"\"UPDATE pages\n",
    "                SET visited_at = CURRENT_TIMESTAMP,\n",
    "                html_file=:html_file\n",
    "                WHERE url=:url\"\"\",\n",
    "            url=url, html_file=html_file)\n",
    "    \n",
    "def get_random_unvisited_page():\n",
    "    link = db.query(\"\"\"SELECT * FROM pages\n",
    "                        WHERE visited_at IS NULL\n",
    "                        ORDER BY RANDOM() LIMIT 1\"\"\")[0]\n",
    "    # この1行上にfirst()が使われている\n",
    "    return None if link is None else link.url\n",
    "\n",
    "def should_visit(link_url):\n",
    "    link_url = urldefrag(link_url)[0]\n",
    "    if not link_url.startswith(base_url):\n",
    "        return None\n",
    "    return link_url\n",
    "\n",
    "def visit(url):\n",
    "    print(\"Now visiting:\", url)\n",
    "    html = requests.get(url).text\n",
    "    html_soup = BeautifulSoup(html, \"html.parser\")\n",
    "    # <a>タグのリンクを保存する\n",
    "    for link in html_soup.find_all(\"a\"):\n",
    "        link_url = link.get(\"href\")\n",
    "        if link_url is None:\n",
    "            continue\n",
    "        link_url = urljoin(base_url, link_url)\n",
    "        store_link(url, link_url)\n",
    "        full_url = should_visit(link_url)\n",
    "        if full_url:\n",
    "            # クローリングのキュー\n",
    "            store_page(full_url)\n",
    "    # imgのsrcに指定されたファイルを保存する\n",
    "    for img in html_soup.find_all(\"img\"):\n",
    "        img_url = img.get(\"src\")\n",
    "        if img_url is None:\n",
    "            continue\n",
    "        img_url = urljoin(base_url, img_url)\n",
    "        filename = url_to_file_name(img_url)\n",
    "        download(img_url, filename)\n",
    "        store_image(url, img_url, filename)\n",
    "    # htmlコンテンツを保存する\n",
    "    filename = url_to_file_name(url) + \".html\"\n",
    "    fullname = os.path.join(file_store, filename)\n",
    "    with open(fullname, \"w\", encoding = \"utf-8\") as the_html:\n",
    "        the_html.write(html)\n",
    "    set_visited(url, filename)\n",
    "    \n",
    "store_page(base_url)\n",
    "url_to_visit = get_random_unvisited_page()\n",
    "while url_to_visit is not None:\n",
    "    visit(url_to_visit)\n",
    "    url_to_visit = get_random_unvisited_page()"
   ]
  }
 ],
 "metadata": {
  "kernelspec": {
   "display_name": "Python 3",
   "language": "python",
   "name": "python3"
  },
  "language_info": {
   "codemirror_mode": {
    "name": "ipython",
    "version": 3
   },
   "file_extension": ".py",
   "mimetype": "text/x-python",
   "name": "python",
   "nbconvert_exporter": "python",
   "pygments_lexer": "ipython3",
   "version": "3.6.7"
  },
  "varInspector": {
   "cols": {
    "lenName": 16,
    "lenType": 16,
    "lenVar": 40
   },
   "kernels_config": {
    "python": {
     "delete_cmd_postfix": "",
     "delete_cmd_prefix": "del ",
     "library": "var_list.py",
     "varRefreshCmd": "print(var_dic_list())"
    },
    "r": {
     "delete_cmd_postfix": ") ",
     "delete_cmd_prefix": "rm(",
     "library": "var_list.r",
     "varRefreshCmd": "cat(var_dic_list()) "
    }
   },
   "types_to_exclude": [
    "module",
    "function",
    "builtin_function_or_method",
    "instance",
    "_Feature"
   ],
   "window_display": false
  }
 },
 "nbformat": 4,
 "nbformat_minor": 2
}
